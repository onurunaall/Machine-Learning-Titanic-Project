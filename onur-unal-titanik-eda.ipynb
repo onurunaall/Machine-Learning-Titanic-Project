{
 "cells": [
  {
   "cell_type": "markdown",
   "id": "waiting-minority",
   "metadata": {
    "papermill": {
     "duration": 0.091575,
     "end_time": "2021-06-05T21:28:42.305188",
     "exception": false,
     "start_time": "2021-06-05T21:28:42.213613",
     "status": "completed"
    },
    "tags": []
   },
   "source": [
    "# Introduction\n",
    "The sinking of Titanic is one of the most notorious shipwredcks in the history. In 1912, during her voyage, the titanic sank after colliding with an iceberg, killing 1502 out of 2224 passengers and crew. \n",
    "\n",
    "<font color = 'blue'>\n",
    "Content:\n",
    "    \n",
    "1. [Load and Check Data](#1)\n",
    "2. [Variable Description](#2)\n",
    "    * [Univariate Variable Analysis](#3)    \n",
    "        *    [Categorical Variable](#4)  \n",
    "        *    [Numerical Variable](#5) \n",
    "3. [Basic Data Analysis](#6)  \n",
    "4. [Outlier Detection](#7)\n",
    "5. [Missing Value](#8) \n",
    "    * [Find Missing Value](#9)\n",
    "    * [Fill Missing Value](#10)    \n",
    "6. [Visualization](#11) \n",
    "    * [Correlation Between SibSp -- Parch -- Age -- Fare -- Survived](#12)   \n",
    "    * [SibSp -- Survived](#13)    \n",
    "    * [Parch -- Survived](#14) \n",
    "    * [Pclass -- Survived](#15)\n",
    "    * [Age -- Survived](#16) \n",
    "    * [Pclass -- Survived -- Age](#17) \n",
    "    * [Embarked -- Sex -- Pclass -- Survived](#18) \n",
    "    * [Embarked -- Sex -- Fare -- Survived](#19)\n",
    "    * [Fill Missing: Age Feature](#20) \n",
    "7. [Feature Engineering](#21)\n",
    "    * [Name -- Title](#22)\n",
    "    * [Family Size](#23)\n",
    "    * [Embarked](#24)\n",
    "    * [Ticket](#25)\n",
    "    * [Pclass](#26)\n",
    "    * [Sex](#27)\n",
    "    * [Drop Passenger ID and Cabin](#28)\n",
    "7. [Modeling](#29) \n",
    "    * [Train - Test Split](#30)\n",
    "    * [Simple Logistic Regression](#31)\n",
    "    * [Hyperparameter Tuning -- Grid Search -- Cross Validation](#32)\n",
    "    * [Ensemble Modeling](#33)\n",
    "    * [Prediction and Submission](#34)\n",
    "    "
   ]
  },
  {
   "cell_type": "code",
   "execution_count": 1,
   "id": "annual-bulgarian",
   "metadata": {
    "_cell_guid": "b1076dfc-b9ad-4769-8c92-a6c4dae69d19",
    "_uuid": "8f2839f25d086af736a60e9eeb907d3b93b6e0e5",
    "execution": {
     "iopub.execute_input": "2021-06-05T21:28:42.486564Z",
     "iopub.status.busy": "2021-06-05T21:28:42.485385Z",
     "iopub.status.idle": "2021-06-05T21:28:43.388577Z",
     "shell.execute_reply": "2021-06-05T21:28:43.387463Z",
     "shell.execute_reply.started": "2021-06-05T21:26:26.850508Z"
    },
    "papermill": {
     "duration": 0.995353,
     "end_time": "2021-06-05T21:28:43.388809",
     "exception": false,
     "start_time": "2021-06-05T21:28:42.393456",
     "status": "completed"
    },
    "tags": []
   },
   "outputs": [
    {
     "name": "stdout",
     "output_type": "stream",
     "text": [
      "/kaggle/input/titanic/train.csv\n",
      "/kaggle/input/titanic/test.csv\n",
      "/kaggle/input/titanic/gender_submission.csv\n"
     ]
    }
   ],
   "source": [
    "import numpy as np # linear algebra\n",
    "import pandas as pd # data processing, CSV file I/O (e.g. pd.read_csv)\n",
    "import matplotlib.pyplot as plt\n",
    "plt.style.use(\"seaborn-whitegrid\")\n",
    "\n",
    "import seaborn as sns\n",
    "from collections import Counter\n",
    "\n",
    "import warnings\n",
    "warnings.filterwarnings(\"ignore\")\n",
    "\n",
    "# Input data files are available in the read-only \"../input/\" directory\n",
    "# For example, running this (by clicking run or pressing Shift+Enter) will list all files under the input directory\n",
    "\n",
    "import os\n",
    "for dirname, _, filenames in os.walk('/kaggle/input'):\n",
    "    for filename in filenames:\n",
    "        print(os.path.join(dirname, filename))\n",
    "\n",
    "# You can write up to 20GB to the current directory (/kaggle/working/) that gets preserved as output when you create a version using \"Save & Run All\" \n",
    "# You can also write temporary files to /kaggle/temp/, but they won't be saved outside of the current session"
   ]
  },
  {
   "cell_type": "markdown",
   "id": "close-resistance",
   "metadata": {
    "papermill": {
     "duration": 0.088091,
     "end_time": "2021-06-05T21:28:43.567192",
     "exception": false,
     "start_time": "2021-06-05T21:28:43.479101",
     "status": "completed"
    },
    "tags": []
   },
   "source": [
    "<a id = \"1\"></a><br>\n",
    "# [Load and Check the Data]"
   ]
  },
  {
   "cell_type": "code",
   "execution_count": 2,
   "id": "corporate-final",
   "metadata": {
    "execution": {
     "iopub.execute_input": "2021-06-05T21:28:43.752771Z",
     "iopub.status.busy": "2021-06-05T21:28:43.752009Z",
     "iopub.status.idle": "2021-06-05T21:28:43.784123Z",
     "shell.execute_reply": "2021-06-05T21:28:43.783504Z",
     "shell.execute_reply.started": "2021-06-05T21:26:27.199410Z"
    },
    "papermill": {
     "duration": 0.125718,
     "end_time": "2021-06-05T21:28:43.784260",
     "exception": false,
     "start_time": "2021-06-05T21:28:43.658542",
     "status": "completed"
    },
    "tags": []
   },
   "outputs": [],
   "source": [
    "train_df = pd.read_csv(\"/kaggle/input/titanic/train.csv\")\n",
    "test_df = pd.read_csv(\"/kaggle/input/titanic/test.csv\")\n",
    "test_PassengerId = test_df[\"PassengerId\"]"
   ]
  },
  {
   "cell_type": "code",
   "execution_count": 3,
   "id": "plain-poultry",
   "metadata": {
    "execution": {
     "iopub.execute_input": "2021-06-05T21:28:43.973088Z",
     "iopub.status.busy": "2021-06-05T21:28:43.972070Z",
     "iopub.status.idle": "2021-06-05T21:28:43.976743Z",
     "shell.execute_reply": "2021-06-05T21:28:43.976092Z",
     "shell.execute_reply.started": "2021-06-05T21:26:27.220848Z"
    },
    "papermill": {
     "duration": 0.102954,
     "end_time": "2021-06-05T21:28:43.976883",
     "exception": false,
     "start_time": "2021-06-05T21:28:43.873929",
     "status": "completed"
    },
    "tags": []
   },
   "outputs": [
    {
     "data": {
      "text/plain": [
       "Index(['PassengerId', 'Survived', 'Pclass', 'Name', 'Sex', 'Age', 'SibSp',\n",
       "       'Parch', 'Ticket', 'Fare', 'Cabin', 'Embarked'],\n",
       "      dtype='object')"
      ]
     },
     "execution_count": 3,
     "metadata": {},
     "output_type": "execute_result"
    }
   ],
   "source": [
    "train_df.columns"
   ]
  },
  {
   "cell_type": "code",
   "execution_count": 4,
   "id": "collectible-beginning",
   "metadata": {
    "execution": {
     "iopub.execute_input": "2021-06-05T21:28:44.162760Z",
     "iopub.status.busy": "2021-06-05T21:28:44.162114Z",
     "iopub.status.idle": "2021-06-05T21:28:44.183890Z",
     "shell.execute_reply": "2021-06-05T21:28:44.183268Z",
     "shell.execute_reply.started": "2021-06-05T21:26:27.233608Z"
    },
    "papermill": {
     "duration": 0.116828,
     "end_time": "2021-06-05T21:28:44.184036",
     "exception": false,
     "start_time": "2021-06-05T21:28:44.067208",
     "status": "completed"
    },
    "tags": []
   },
   "outputs": [
    {
     "data": {
      "text/html": [
       "<div>\n",
       "<style scoped>\n",
       "    .dataframe tbody tr th:only-of-type {\n",
       "        vertical-align: middle;\n",
       "    }\n",
       "\n",
       "    .dataframe tbody tr th {\n",
       "        vertical-align: top;\n",
       "    }\n",
       "\n",
       "    .dataframe thead th {\n",
       "        text-align: right;\n",
       "    }\n",
       "</style>\n",
       "<table border=\"1\" class=\"dataframe\">\n",
       "  <thead>\n",
       "    <tr style=\"text-align: right;\">\n",
       "      <th></th>\n",
       "      <th>PassengerId</th>\n",
       "      <th>Survived</th>\n",
       "      <th>Pclass</th>\n",
       "      <th>Name</th>\n",
       "      <th>Sex</th>\n",
       "      <th>Age</th>\n",
       "      <th>SibSp</th>\n",
       "      <th>Parch</th>\n",
       "      <th>Ticket</th>\n",
       "      <th>Fare</th>\n",
       "      <th>Cabin</th>\n",
       "      <th>Embarked</th>\n",
       "    </tr>\n",
       "  </thead>\n",
       "  <tbody>\n",
       "    <tr>\n",
       "      <th>0</th>\n",
       "      <td>1</td>\n",
       "      <td>0</td>\n",
       "      <td>3</td>\n",
       "      <td>Braund, Mr. Owen Harris</td>\n",
       "      <td>male</td>\n",
       "      <td>22.0</td>\n",
       "      <td>1</td>\n",
       "      <td>0</td>\n",
       "      <td>A/5 21171</td>\n",
       "      <td>7.2500</td>\n",
       "      <td>NaN</td>\n",
       "      <td>S</td>\n",
       "    </tr>\n",
       "    <tr>\n",
       "      <th>1</th>\n",
       "      <td>2</td>\n",
       "      <td>1</td>\n",
       "      <td>1</td>\n",
       "      <td>Cumings, Mrs. John Bradley (Florence Briggs Th...</td>\n",
       "      <td>female</td>\n",
       "      <td>38.0</td>\n",
       "      <td>1</td>\n",
       "      <td>0</td>\n",
       "      <td>PC 17599</td>\n",
       "      <td>71.2833</td>\n",
       "      <td>C85</td>\n",
       "      <td>C</td>\n",
       "    </tr>\n",
       "    <tr>\n",
       "      <th>2</th>\n",
       "      <td>3</td>\n",
       "      <td>1</td>\n",
       "      <td>3</td>\n",
       "      <td>Heikkinen, Miss. Laina</td>\n",
       "      <td>female</td>\n",
       "      <td>26.0</td>\n",
       "      <td>0</td>\n",
       "      <td>0</td>\n",
       "      <td>STON/O2. 3101282</td>\n",
       "      <td>7.9250</td>\n",
       "      <td>NaN</td>\n",
       "      <td>S</td>\n",
       "    </tr>\n",
       "    <tr>\n",
       "      <th>3</th>\n",
       "      <td>4</td>\n",
       "      <td>1</td>\n",
       "      <td>1</td>\n",
       "      <td>Futrelle, Mrs. Jacques Heath (Lily May Peel)</td>\n",
       "      <td>female</td>\n",
       "      <td>35.0</td>\n",
       "      <td>1</td>\n",
       "      <td>0</td>\n",
       "      <td>113803</td>\n",
       "      <td>53.1000</td>\n",
       "      <td>C123</td>\n",
       "      <td>S</td>\n",
       "    </tr>\n",
       "    <tr>\n",
       "      <th>4</th>\n",
       "      <td>5</td>\n",
       "      <td>0</td>\n",
       "      <td>3</td>\n",
       "      <td>Allen, Mr. William Henry</td>\n",
       "      <td>male</td>\n",
       "      <td>35.0</td>\n",
       "      <td>0</td>\n",
       "      <td>0</td>\n",
       "      <td>373450</td>\n",
       "      <td>8.0500</td>\n",
       "      <td>NaN</td>\n",
       "      <td>S</td>\n",
       "    </tr>\n",
       "  </tbody>\n",
       "</table>\n",
       "</div>"
      ],
      "text/plain": [
       "   PassengerId  Survived  Pclass  \\\n",
       "0            1         0       3   \n",
       "1            2         1       1   \n",
       "2            3         1       3   \n",
       "3            4         1       1   \n",
       "4            5         0       3   \n",
       "\n",
       "                                                Name     Sex   Age  SibSp  \\\n",
       "0                            Braund, Mr. Owen Harris    male  22.0      1   \n",
       "1  Cumings, Mrs. John Bradley (Florence Briggs Th...  female  38.0      1   \n",
       "2                             Heikkinen, Miss. Laina  female  26.0      0   \n",
       "3       Futrelle, Mrs. Jacques Heath (Lily May Peel)  female  35.0      1   \n",
       "4                           Allen, Mr. William Henry    male  35.0      0   \n",
       "\n",
       "   Parch            Ticket     Fare Cabin Embarked  \n",
       "0      0         A/5 21171   7.2500   NaN        S  \n",
       "1      0          PC 17599  71.2833   C85        C  \n",
       "2      0  STON/O2. 3101282   7.9250   NaN        S  \n",
       "3      0            113803  53.1000  C123        S  \n",
       "4      0            373450   8.0500   NaN        S  "
      ]
     },
     "execution_count": 4,
     "metadata": {},
     "output_type": "execute_result"
    }
   ],
   "source": [
    "train_df.head()"
   ]
  },
  {
   "cell_type": "code",
   "execution_count": 5,
   "id": "virgin-courage",
   "metadata": {
    "execution": {
     "iopub.execute_input": "2021-06-05T21:28:44.372715Z",
     "iopub.status.busy": "2021-06-05T21:28:44.372000Z",
     "iopub.status.idle": "2021-06-05T21:28:44.402314Z",
     "shell.execute_reply": "2021-06-05T21:28:44.401715Z",
     "shell.execute_reply.started": "2021-06-05T21:26:27.263715Z"
    },
    "papermill": {
     "duration": 0.127957,
     "end_time": "2021-06-05T21:28:44.402495",
     "exception": false,
     "start_time": "2021-06-05T21:28:44.274538",
     "status": "completed"
    },
    "tags": []
   },
   "outputs": [
    {
     "data": {
      "text/html": [
       "<div>\n",
       "<style scoped>\n",
       "    .dataframe tbody tr th:only-of-type {\n",
       "        vertical-align: middle;\n",
       "    }\n",
       "\n",
       "    .dataframe tbody tr th {\n",
       "        vertical-align: top;\n",
       "    }\n",
       "\n",
       "    .dataframe thead th {\n",
       "        text-align: right;\n",
       "    }\n",
       "</style>\n",
       "<table border=\"1\" class=\"dataframe\">\n",
       "  <thead>\n",
       "    <tr style=\"text-align: right;\">\n",
       "      <th></th>\n",
       "      <th>PassengerId</th>\n",
       "      <th>Survived</th>\n",
       "      <th>Pclass</th>\n",
       "      <th>Age</th>\n",
       "      <th>SibSp</th>\n",
       "      <th>Parch</th>\n",
       "      <th>Fare</th>\n",
       "    </tr>\n",
       "  </thead>\n",
       "  <tbody>\n",
       "    <tr>\n",
       "      <th>count</th>\n",
       "      <td>891.000000</td>\n",
       "      <td>891.000000</td>\n",
       "      <td>891.000000</td>\n",
       "      <td>714.000000</td>\n",
       "      <td>891.000000</td>\n",
       "      <td>891.000000</td>\n",
       "      <td>891.000000</td>\n",
       "    </tr>\n",
       "    <tr>\n",
       "      <th>mean</th>\n",
       "      <td>446.000000</td>\n",
       "      <td>0.383838</td>\n",
       "      <td>2.308642</td>\n",
       "      <td>29.699118</td>\n",
       "      <td>0.523008</td>\n",
       "      <td>0.381594</td>\n",
       "      <td>32.204208</td>\n",
       "    </tr>\n",
       "    <tr>\n",
       "      <th>std</th>\n",
       "      <td>257.353842</td>\n",
       "      <td>0.486592</td>\n",
       "      <td>0.836071</td>\n",
       "      <td>14.526497</td>\n",
       "      <td>1.102743</td>\n",
       "      <td>0.806057</td>\n",
       "      <td>49.693429</td>\n",
       "    </tr>\n",
       "    <tr>\n",
       "      <th>min</th>\n",
       "      <td>1.000000</td>\n",
       "      <td>0.000000</td>\n",
       "      <td>1.000000</td>\n",
       "      <td>0.420000</td>\n",
       "      <td>0.000000</td>\n",
       "      <td>0.000000</td>\n",
       "      <td>0.000000</td>\n",
       "    </tr>\n",
       "    <tr>\n",
       "      <th>25%</th>\n",
       "      <td>223.500000</td>\n",
       "      <td>0.000000</td>\n",
       "      <td>2.000000</td>\n",
       "      <td>20.125000</td>\n",
       "      <td>0.000000</td>\n",
       "      <td>0.000000</td>\n",
       "      <td>7.910400</td>\n",
       "    </tr>\n",
       "    <tr>\n",
       "      <th>50%</th>\n",
       "      <td>446.000000</td>\n",
       "      <td>0.000000</td>\n",
       "      <td>3.000000</td>\n",
       "      <td>28.000000</td>\n",
       "      <td>0.000000</td>\n",
       "      <td>0.000000</td>\n",
       "      <td>14.454200</td>\n",
       "    </tr>\n",
       "    <tr>\n",
       "      <th>75%</th>\n",
       "      <td>668.500000</td>\n",
       "      <td>1.000000</td>\n",
       "      <td>3.000000</td>\n",
       "      <td>38.000000</td>\n",
       "      <td>1.000000</td>\n",
       "      <td>0.000000</td>\n",
       "      <td>31.000000</td>\n",
       "    </tr>\n",
       "    <tr>\n",
       "      <th>max</th>\n",
       "      <td>891.000000</td>\n",
       "      <td>1.000000</td>\n",
       "      <td>3.000000</td>\n",
       "      <td>80.000000</td>\n",
       "      <td>8.000000</td>\n",
       "      <td>6.000000</td>\n",
       "      <td>512.329200</td>\n",
       "    </tr>\n",
       "  </tbody>\n",
       "</table>\n",
       "</div>"
      ],
      "text/plain": [
       "       PassengerId    Survived      Pclass         Age       SibSp  \\\n",
       "count   891.000000  891.000000  891.000000  714.000000  891.000000   \n",
       "mean    446.000000    0.383838    2.308642   29.699118    0.523008   \n",
       "std     257.353842    0.486592    0.836071   14.526497    1.102743   \n",
       "min       1.000000    0.000000    1.000000    0.420000    0.000000   \n",
       "25%     223.500000    0.000000    2.000000   20.125000    0.000000   \n",
       "50%     446.000000    0.000000    3.000000   28.000000    0.000000   \n",
       "75%     668.500000    1.000000    3.000000   38.000000    1.000000   \n",
       "max     891.000000    1.000000    3.000000   80.000000    8.000000   \n",
       "\n",
       "            Parch        Fare  \n",
       "count  891.000000  891.000000  \n",
       "mean     0.381594   32.204208  \n",
       "std      0.806057   49.693429  \n",
       "min      0.000000    0.000000  \n",
       "25%      0.000000    7.910400  \n",
       "50%      0.000000   14.454200  \n",
       "75%      0.000000   31.000000  \n",
       "max      6.000000  512.329200  "
      ]
     },
     "execution_count": 5,
     "metadata": {},
     "output_type": "execute_result"
    }
   ],
   "source": [
    "train_df.describe()"
   ]
  },
  {
   "cell_type": "markdown",
   "id": "swedish-crime",
   "metadata": {
    "papermill": {
     "duration": 0.089985,
     "end_time": "2021-06-05T21:28:44.583479",
     "exception": false,
     "start_time": "2021-06-05T21:28:44.493494",
     "status": "completed"
    },
    "tags": []
   },
   "source": [
    "<a id = \"2\"></a><br>\n",
    "# [Variable Description]\n",
    "1. PassengerId: Unique d number to each passenger\n",
    "2. Survived: Passenger survided(1) or died(0)\n",
    "3. Pclass: Passenger class\n",
    "4. Name: Name\n",
    "5. Sex: Gender\n",
    "6. Age: Age\n",
    "7. SibSp: Number of siblings/spouses\n",
    "8. Parch: Number of parents/children\n",
    "9. Ticket: ticket number \n",
    "10. Fare: Amount of money paid for ticket\n",
    "11. Cabin: Cabin category\n",
    "12. Embarked: Port where passengers embarked, (C = cherbourg, Q = Queenstown, S=Southampton)"
   ]
  },
  {
   "cell_type": "code",
   "execution_count": 6,
   "id": "behavioral-branch",
   "metadata": {
    "execution": {
     "iopub.execute_input": "2021-06-05T21:28:44.782498Z",
     "iopub.status.busy": "2021-06-05T21:28:44.774324Z",
     "iopub.status.idle": "2021-06-05T21:28:44.786708Z",
     "shell.execute_reply": "2021-06-05T21:28:44.787159Z",
     "shell.execute_reply.started": "2021-06-05T21:26:27.301053Z"
    },
    "papermill": {
     "duration": 0.112875,
     "end_time": "2021-06-05T21:28:44.787337",
     "exception": false,
     "start_time": "2021-06-05T21:28:44.674462",
     "status": "completed"
    },
    "tags": []
   },
   "outputs": [
    {
     "name": "stdout",
     "output_type": "stream",
     "text": [
      "<class 'pandas.core.frame.DataFrame'>\n",
      "RangeIndex: 891 entries, 0 to 890\n",
      "Data columns (total 12 columns):\n",
      " #   Column       Non-Null Count  Dtype  \n",
      "---  ------       --------------  -----  \n",
      " 0   PassengerId  891 non-null    int64  \n",
      " 1   Survived     891 non-null    int64  \n",
      " 2   Pclass       891 non-null    int64  \n",
      " 3   Name         891 non-null    object \n",
      " 4   Sex          891 non-null    object \n",
      " 5   Age          714 non-null    float64\n",
      " 6   SibSp        891 non-null    int64  \n",
      " 7   Parch        891 non-null    int64  \n",
      " 8   Ticket       891 non-null    object \n",
      " 9   Fare         891 non-null    float64\n",
      " 10  Cabin        204 non-null    object \n",
      " 11  Embarked     889 non-null    object \n",
      "dtypes: float64(2), int64(5), object(5)\n",
      "memory usage: 83.7+ KB\n"
     ]
    }
   ],
   "source": [
    "train_df.info()"
   ]
  },
  {
   "cell_type": "markdown",
   "id": "invalid-given",
   "metadata": {
    "papermill": {
     "duration": 0.091901,
     "end_time": "2021-06-05T21:28:44.971089",
     "exception": false,
     "start_time": "2021-06-05T21:28:44.879188",
     "status": "completed"
    },
    "tags": []
   },
   "source": [
    "* float64(2): Fare and Age \n",
    "* int64(5): Pcalss, SibSp, Parch, PassengerId, Survived \n",
    "* object(5): Cabin, Embarked, Tickets, name and sex"
   ]
  },
  {
   "cell_type": "markdown",
   "id": "threaded-kentucky",
   "metadata": {
    "papermill": {
     "duration": 0.090891,
     "end_time": "2021-06-05T21:28:45.153676",
     "exception": false,
     "start_time": "2021-06-05T21:28:45.062785",
     "status": "completed"
    },
    "tags": []
   },
   "source": [
    "<a id = \"3\"></a><br>\n",
    "# Univariate Variable Analysis\n",
    "* Categorical Variable: Survived, Sex, Pclass, Embarked, Cabin, Name, Ticket, SibSp, Parch\n",
    "* Numerical Variable: Fare, Age, PassengerId"
   ]
  },
  {
   "cell_type": "markdown",
   "id": "hearing-works",
   "metadata": {
    "papermill": {
     "duration": 0.089442,
     "end_time": "2021-06-05T21:28:45.333741",
     "exception": false,
     "start_time": "2021-06-05T21:28:45.244299",
     "status": "completed"
    },
    "tags": []
   },
   "source": [
    "<a id = \"4\"></a><br>\n",
    "## Categorical Variable:"
   ]
  },
  {
   "cell_type": "code",
   "execution_count": 7,
   "id": "robust-oxford",
   "metadata": {
    "execution": {
     "iopub.execute_input": "2021-06-05T21:28:45.521132Z",
     "iopub.status.busy": "2021-06-05T21:28:45.520502Z",
     "iopub.status.idle": "2021-06-05T21:28:45.522469Z",
     "shell.execute_reply": "2021-06-05T21:28:45.522916Z",
     "shell.execute_reply.started": "2021-06-05T21:26:27.319212Z"
    },
    "papermill": {
     "duration": 0.098948,
     "end_time": "2021-06-05T21:28:45.523088",
     "exception": false,
     "start_time": "2021-06-05T21:28:45.424140",
     "status": "completed"
    },
    "tags": []
   },
   "outputs": [],
   "source": [
    "def bar_plot(variable):\n",
    "    \"\"\"\n",
    "    input: variable ex: \"Sex\"\n",
    "    output: bar plor & value count\n",
    "    \"\"\"\n",
    "    # get feature\n",
    "    var = train_df[variable]\n",
    "    # count number of categorical variable(value)\n",
    "    varValue = var.value_counts()\n",
    "    \n",
    "    # visualize\n",
    "    plt.figure(figsize = (9,3))\n",
    "    plt.bar(varValue.index, varValue)\n",
    "    plt.xticks(varValue.index, varValue.index.values)\n",
    "    plt.ylabel(\"Frequency\")\n",
    "    plt.title(variable)\n",
    "    plt.show()\n",
    "    print(\"{}: \\n {}:\".format(variable, varValue))"
   ]
  },
  {
   "cell_type": "code",
   "execution_count": 8,
   "id": "hairy-communications",
   "metadata": {
    "execution": {
     "iopub.execute_input": "2021-06-05T21:28:45.725016Z",
     "iopub.status.busy": "2021-06-05T21:28:45.724344Z",
     "iopub.status.idle": "2021-06-05T21:28:46.485527Z",
     "shell.execute_reply": "2021-06-05T21:28:46.484904Z",
     "shell.execute_reply.started": "2021-06-05T21:26:27.332049Z"
    },
    "papermill": {
     "duration": 0.872247,
     "end_time": "2021-06-05T21:28:46.485664",
     "exception": false,
     "start_time": "2021-06-05T21:28:45.613417",
     "status": "completed"
    },
    "tags": []
   },
   "outputs": [
    {
     "data": {
      "image/png": "[encoded data removed]",
      "text/plain": [
       "<Figure size 648x216 with 1 Axes>"
      ]
     },
     "metadata": {},
     "output_type": "display_data"
    },
    {
     "name": "stdout",
     "output_type": "stream",
     "text": [
      "Survived: \n",
      " 0    549\n",
      "1    342\n",
      "Name: Survived, dtype: int64:\n"
     ]
    },
    {
     "data": {
      "image/png": "[encoded data removed]",
      "text/plain": [
       "<Figure size 648x216 with 1 Axes>"
      ]
     },
     "metadata": {},
     "output_type": "display_data"
    },
    {
     "name": "stdout",
     "output_type": "stream",
     "text": [
      "Sex: \n",
      " male      577\n",
      "female    314\n",
      "Name: Sex, dtype: int64:\n"
     ]
    },
    {
     "data": {
      "image/png": "[encoded data removed]",
      "text/plain": [
       "<Figure size 648x216 with 1 Axes>"
      ]
     },
     "metadata": {},
     "output_type": "display_data"
    },
    {
     "name": "stdout",
     "output_type": "stream",
     "text": [
      "Pclass: \n",
      " 3    491\n",
      "1    216\n",
      "2    184\n",
      "Name: Pclass, dtype: int64:\n"
     ]
    },
    {
     "data": {
      "image/png": "[encoded data removed]",
      "text/plain": [
       "<Figure size 648x216 with 1 Axes>"
      ]
     },
     "metadata": {},
     "output_type": "display_data"
    },
    {
     "name": "stdout",
     "output_type": "stream",
     "text": [
      "Embarked: \n",
      " S    644\n",
      "C    168\n",
      "Q     77\n",
      "Name: Embarked, dtype: int64:\n"
     ]
    },
    {
     "data": {
      "image/png": "[encoded data removed]",
      "text/plain": [
       "<Figure size 648x216 with 1 Axes>"
      ]
     },
     "metadata": {},
     "output_type": "display_data"
    },
    {
     "name": "stdout",
     "output_type": "stream",
     "text": [
      "SibSp: \n",
      " 0    608\n",
      "1    209\n",
      "2     28\n",
      "4     18\n",
      "3     16\n",
      "8      7\n",
      "5      5\n",
      "Name: SibSp, dtype: int64:\n"
     ]
    },
    {
     "data": {
      "image/png": "[encoded data removed]",
      "text/plain": [
       "<Figure size 648x216 with 1 Axes>"
      ]
     },
     "metadata": {},
     "output_type": "display_data"
    },
    {
     "name": "stdout",
     "output_type": "stream",
     "text": [
      "Parch: \n",
      " 0    678\n",
      "1    118\n",
      "2     80\n",
      "3      5\n",
      "5      5\n",
      "4      4\n",
      "6      1\n",
      "Name: Parch, dtype: int64:\n"
     ]
    }
   ],
   "source": [
    "category1 = [\"Survived\", \"Sex\", \"Pclass\", \"Embarked\", \"SibSp\", \"Parch\"]\n",
    "for c in category1:\n",
    "    bar_plot(c)"
   ]
  },
  {
   "cell_type": "code",
   "execution_count": 9,
   "id": "animal-software",
   "metadata": {
    "execution": {
     "iopub.execute_input": "2021-06-05T21:28:46.691796Z",
     "iopub.status.busy": "2021-06-05T21:28:46.690714Z",
     "iopub.status.idle": "2021-06-05T21:28:46.696868Z",
     "shell.execute_reply": "2021-06-05T21:28:46.697323Z",
     "shell.execute_reply.started": "2021-06-05T21:26:28.122427Z"
    },
    "papermill": {
     "duration": 0.114398,
     "end_time": "2021-06-05T21:28:46.697535",
     "exception": false,
     "start_time": "2021-06-05T21:28:46.583137",
     "status": "completed"
    },
    "tags": []
   },
   "outputs": [
    {
     "name": "stdout",
     "output_type": "stream",
     "text": [
      "C23 C25 C27    4\n",
      "B96 B98        4\n",
      "G6             4\n",
      "E101           3\n",
      "F2             3\n",
      "              ..\n",
      "C110           1\n",
      "C47            1\n",
      "E40            1\n",
      "B30            1\n",
      "A23            1\n",
      "Name: Cabin, Length: 147, dtype: int64 \n",
      "\n",
      "Foreman, Mr. Benjamin Laventall                    1\n",
      "Canavan, Miss. Mary                                1\n",
      "O'Brien, Mr. Thomas                                1\n",
      "Hocking, Mr. Richard George                        1\n",
      "Ryerson, Miss. Emily Borie                         1\n",
      "                                                  ..\n",
      "Mullens, Miss. Katherine \"Katie\"                   1\n",
      "Hansen, Mr. Henry Damsgaard                        1\n",
      "Fortune, Mr. Charles Alexander                     1\n",
      "Wheadon, Mr. Edward H                              1\n",
      "Stephenson, Mrs. Walter Bertram (Martha Eustis)    1\n",
      "Name: Name, Length: 891, dtype: int64 \n",
      "\n",
      "347082      7\n",
      "CA. 2343    7\n",
      "1601        7\n",
      "3101295     6\n",
      "CA 2144     6\n",
      "           ..\n",
      "345769      1\n",
      "367229      1\n",
      "29751       1\n",
      "234360      1\n",
      "17465       1\n",
      "Name: Ticket, Length: 681, dtype: int64 \n",
      "\n"
     ]
    }
   ],
   "source": [
    "category2 = [\"Cabin\", \"Name\", \"Ticket\"]\n",
    "for c in category2:\n",
    "    print(\"{} \\n\".format(train_df[c].value_counts()))"
   ]
  },
  {
   "cell_type": "markdown",
   "id": "anticipated-entrance",
   "metadata": {
    "papermill": {
     "duration": 0.09902,
     "end_time": "2021-06-05T21:28:46.893569",
     "exception": false,
     "start_time": "2021-06-05T21:28:46.794549",
     "status": "completed"
    },
    "tags": []
   },
   "source": [
    "<a id = \"5\"></a><br>\n",
    "## Numerical Variable:"
   ]
  },
  {
   "cell_type": "code",
   "execution_count": 10,
   "id": "capital-break",
   "metadata": {
    "execution": {
     "iopub.execute_input": "2021-06-05T21:28:47.094676Z",
     "iopub.status.busy": "2021-06-05T21:28:47.094017Z",
     "iopub.status.idle": "2021-06-05T21:28:47.095835Z",
     "shell.execute_reply": "2021-06-05T21:28:47.096361Z",
     "shell.execute_reply.started": "2021-06-05T21:26:28.139904Z"
    },
    "papermill": {
     "duration": 0.104224,
     "end_time": "2021-06-05T21:28:47.096547",
     "exception": false,
     "start_time": "2021-06-05T21:28:46.992323",
     "status": "completed"
    },
    "tags": []
   },
   "outputs": [],
   "source": [
    "def plot_hist(variable):\n",
    "    plt.figure(figsize = (9,3))\n",
    "    plt.hist(train_df[variable], bins = 50)\n",
    "    plt.xlabel(variable)\n",
    "    plt.ylabel(\"Frequency\")\n",
    "    plt.title(\"{} distribution with hist\".format(variable))\n",
    "    plt.show"
   ]
  },
  {
   "cell_type": "code",
   "execution_count": 11,
   "id": "measured-income",
   "metadata": {
    "execution": {
     "iopub.execute_input": "2021-06-05T21:28:47.293617Z",
     "iopub.status.busy": "2021-06-05T21:28:47.292959Z",
     "iopub.status.idle": "2021-06-05T21:28:48.088356Z",
     "shell.execute_reply": "2021-06-05T21:28:48.088913Z",
     "shell.execute_reply.started": "2021-06-05T21:26:28.147813Z"
    },
    "papermill": {
     "duration": 0.894835,
     "end_time": "2021-06-05T21:28:48.089087",
     "exception": false,
     "start_time": "2021-06-05T21:28:47.194252",
     "status": "completed"
    },
    "tags": []
   },
   "outputs": [
    {
     "data": {
      "image/png": "[encoded data removed]",
      "text/plain": [
       "<Figure size 648x216 with 1 Axes>"
      ]
     },
     "metadata": {},
     "output_type": "display_data"
    },
    {
     "data": {
      "image/png": "[encoded data removed]",
      "text/plain": [
       "<Figure size 648x216 with 1 Axes>"
      ]
     },
     "metadata": {},
     "output_type": "display_data"
    },
    {
     "data": {
      "image/png": "[encoded data removed]",
      "text/plain": [
       "<Figure size 648x216 with 1 Axes>"
      ]
     },
     "metadata": {},
     "output_type": "display_data"
    }
   ],
   "source": [
    "numericVar = [\"Fare\", \"Age\", \"PassengerId\"]\n",
    "for n in numericVar:\n",
    "    plot_hist(n)"
   ]
  },
  {
   "cell_type": "markdown",
   "id": "historical-collect",
   "metadata": {
    "papermill": {
     "duration": 0.101167,
     "end_time": "2021-06-05T21:28:48.290805",
     "exception": false,
     "start_time": "2021-06-05T21:28:48.189638",
     "status": "completed"
    },
    "tags": []
   },
   "source": [
    "<a id = \"6\"></a><br>\n",
    "# Basic Data Analysis\n",
    "* Pclass- Survived\n",
    "* Sex - Survived\n",
    "* SibSp - Survived\n",
    "* Parch - Survived"
   ]
  },
  {
   "cell_type": "code",
   "execution_count": 12,
   "id": "separate-coach",
   "metadata": {
    "execution": {
     "iopub.execute_input": "2021-06-05T21:28:48.491392Z",
     "iopub.status.busy": "2021-06-05T21:28:48.490733Z",
     "iopub.status.idle": "2021-06-05T21:28:48.505895Z",
     "shell.execute_reply": "2021-06-05T21:28:48.506427Z",
     "shell.execute_reply.started": "2021-06-05T21:26:28.991377Z"
    },
    "papermill": {
     "duration": 0.117018,
     "end_time": "2021-06-05T21:28:48.506606",
     "exception": false,
     "start_time": "2021-06-05T21:28:48.389588",
     "status": "completed"
    },
    "tags": []
   },
   "outputs": [
    {
     "data": {
      "text/html": [
       "<div>\n",
       "<style scoped>\n",
       "    .dataframe tbody tr th:only-of-type {\n",
       "        vertical-align: middle;\n",
       "    }\n",
       "\n",
       "    .dataframe tbody tr th {\n",
       "        vertical-align: top;\n",
       "    }\n",
       "\n",
       "    .dataframe thead th {\n",
       "        text-align: right;\n",
       "    }\n",
       "</style>\n",
       "<table border=\"1\" class=\"dataframe\">\n",
       "  <thead>\n",
       "    <tr style=\"text-align: right;\">\n",
       "      <th></th>\n",
       "      <th>Pclass</th>\n",
       "      <th>Survived</th>\n",
       "    </tr>\n",
       "  </thead>\n",
       "  <tbody>\n",
       "    <tr>\n",
       "      <th>0</th>\n",
       "      <td>1</td>\n",
       "      <td>0.629630</td>\n",
       "    </tr>\n",
       "    <tr>\n",
       "      <th>1</th>\n",
       "      <td>2</td>\n",
       "      <td>0.472826</td>\n",
       "    </tr>\n",
       "    <tr>\n",
       "      <th>2</th>\n",
       "      <td>3</td>\n",
       "      <td>0.242363</td>\n",
       "    </tr>\n",
       "  </tbody>\n",
       "</table>\n",
       "</div>"
      ],
      "text/plain": [
       "   Pclass  Survived\n",
       "0       1  0.629630\n",
       "1       2  0.472826\n",
       "2       3  0.242363"
      ]
     },
     "execution_count": 12,
     "metadata": {},
     "output_type": "execute_result"
    }
   ],
   "source": [
    "# Pclass vs Survived\n",
    "train_df[[\"Pclass\", \"Survived\"]].groupby([\"Pclass\"], as_index = False).mean().sort_values(by=\"Survived\", ascending = False)"
   ]
  },
  {
   "cell_type": "code",
   "execution_count": 13,
   "id": "established-experiment",
   "metadata": {
    "execution": {
     "iopub.execute_input": "2021-06-05T21:28:48.711329Z",
     "iopub.status.busy": "2021-06-05T21:28:48.710619Z",
     "iopub.status.idle": "2021-06-05T21:28:48.725691Z",
     "shell.execute_reply": "2021-06-05T21:28:48.726304Z",
     "shell.execute_reply.started": "2021-06-05T21:26:29.009866Z"
    },
    "papermill": {
     "duration": 0.119369,
     "end_time": "2021-06-05T21:28:48.726487",
     "exception": false,
     "start_time": "2021-06-05T21:28:48.607118",
     "status": "completed"
    },
    "tags": []
   },
   "outputs": [
    {
     "data": {
      "text/html": [
       "<div>\n",
       "<style scoped>\n",
       "    .dataframe tbody tr th:only-of-type {\n",
       "        vertical-align: middle;\n",
       "    }\n",
       "\n",
       "    .dataframe tbody tr th {\n",
       "        vertical-align: top;\n",
       "    }\n",
       "\n",
       "    .dataframe thead th {\n",
       "        text-align: right;\n",
       "    }\n",
       "</style>\n",
       "<table border=\"1\" class=\"dataframe\">\n",
       "  <thead>\n",
       "    <tr style=\"text-align: right;\">\n",
       "      <th></th>\n",
       "      <th>Sex</th>\n",
       "      <th>Survived</th>\n",
       "    </tr>\n",
       "  </thead>\n",
       "  <tbody>\n",
       "    <tr>\n",
       "      <th>0</th>\n",
       "      <td>female</td>\n",
       "      <td>0.742038</td>\n",
       "    </tr>\n",
       "    <tr>\n",
       "      <th>1</th>\n",
       "      <td>male</td>\n",
       "      <td>0.188908</td>\n",
       "    </tr>\n",
       "  </tbody>\n",
       "</table>\n",
       "</div>"
      ],
      "text/plain": [
       "      Sex  Survived\n",
       "0  female  0.742038\n",
       "1    male  0.188908"
      ]
     },
     "execution_count": 13,
     "metadata": {},
     "output_type": "execute_result"
    }
   ],
   "source": [
    "# Sex vs Survived\n",
    "train_df[[\"Sex\", \"Survived\"]].groupby([\"Sex\"], as_index = False).mean().sort_values(by=\"Survived\", ascending = False)"
   ]
  },
  {
   "cell_type": "code",
   "execution_count": 14,
   "id": "headed-piano",
   "metadata": {
    "execution": {
     "iopub.execute_input": "2021-06-05T21:28:48.933158Z",
     "iopub.status.busy": "2021-06-05T21:28:48.932475Z",
     "iopub.status.idle": "2021-06-05T21:28:48.946901Z",
     "shell.execute_reply": "2021-06-05T21:28:48.946340Z",
     "shell.execute_reply.started": "2021-06-05T21:26:29.034092Z"
    },
    "papermill": {
     "duration": 0.118887,
     "end_time": "2021-06-05T21:28:48.947047",
     "exception": false,
     "start_time": "2021-06-05T21:28:48.828160",
     "status": "completed"
    },
    "tags": []
   },
   "outputs": [
    {
     "data": {
      "text/html": [
       "<div>\n",
       "<style scoped>\n",
       "    .dataframe tbody tr th:only-of-type {\n",
       "        vertical-align: middle;\n",
       "    }\n",
       "\n",
       "    .dataframe tbody tr th {\n",
       "        vertical-align: top;\n",
       "    }\n",
       "\n",
       "    .dataframe thead th {\n",
       "        text-align: right;\n",
       "    }\n",
       "</style>\n",
       "<table border=\"1\" class=\"dataframe\">\n",
       "  <thead>\n",
       "    <tr style=\"text-align: right;\">\n",
       "      <th></th>\n",
       "      <th>SibSp</th>\n",
       "      <th>Survived</th>\n",
       "    </tr>\n",
       "  </thead>\n",
       "  <tbody>\n",
       "    <tr>\n",
       "      <th>1</th>\n",
       "      <td>1</td>\n",
       "      <td>0.535885</td>\n",
       "    </tr>\n",
       "    <tr>\n",
       "      <th>2</th>\n",
       "      <td>2</td>\n",
       "      <td>0.464286</td>\n",
       "    </tr>\n",
       "    <tr>\n",
       "      <th>0</th>\n",
       "      <td>0</td>\n",
       "      <td>0.345395</td>\n",
       "    </tr>\n",
       "    <tr>\n",
       "      <th>3</th>\n",
       "      <td>3</td>\n",
       "      <td>0.250000</td>\n",
       "    </tr>\n",
       "    <tr>\n",
       "      <th>4</th>\n",
       "      <td>4</td>\n",
       "      <td>0.166667</td>\n",
       "    </tr>\n",
       "    <tr>\n",
       "      <th>5</th>\n",
       "      <td>5</td>\n",
       "      <td>0.000000</td>\n",
       "    </tr>\n",
       "    <tr>\n",
       "      <th>6</th>\n",
       "      <td>8</td>\n",
       "      <td>0.000000</td>\n",
       "    </tr>\n",
       "  </tbody>\n",
       "</table>\n",
       "</div>"
      ],
      "text/plain": [
       "   SibSp  Survived\n",
       "1      1  0.535885\n",
       "2      2  0.464286\n",
       "0      0  0.345395\n",
       "3      3  0.250000\n",
       "4      4  0.166667\n",
       "5      5  0.000000\n",
       "6      8  0.000000"
      ]
     },
     "execution_count": 14,
     "metadata": {},
     "output_type": "execute_result"
    }
   ],
   "source": [
    "# SibSp vs Survived\n",
    "train_df[[\"SibSp\", \"Survived\"]].groupby([\"SibSp\"], as_index = False).mean().sort_values(by=\"Survived\", ascending = False)"
   ]
  },
  {
   "cell_type": "code",
   "execution_count": 15,
   "id": "attractive-chicago",
   "metadata": {
    "execution": {
     "iopub.execute_input": "2021-06-05T21:28:49.160567Z",
     "iopub.status.busy": "2021-06-05T21:28:49.159902Z",
     "iopub.status.idle": "2021-06-05T21:28:49.168926Z",
     "shell.execute_reply": "2021-06-05T21:28:49.168419Z",
     "shell.execute_reply.started": "2021-06-05T21:26:29.054909Z"
    },
    "papermill": {
     "duration": 0.118221,
     "end_time": "2021-06-05T21:28:49.169067",
     "exception": false,
     "start_time": "2021-06-05T21:28:49.050846",
     "status": "completed"
    },
    "tags": []
   },
   "outputs": [
    {
     "data": {
      "text/html": [
       "<div>\n",
       "<style scoped>\n",
       "    .dataframe tbody tr th:only-of-type {\n",
       "        vertical-align: middle;\n",
       "    }\n",
       "\n",
       "    .dataframe tbody tr th {\n",
       "        vertical-align: top;\n",
       "    }\n",
       "\n",
       "    .dataframe thead th {\n",
       "        text-align: right;\n",
       "    }\n",
       "</style>\n",
       "<table border=\"1\" class=\"dataframe\">\n",
       "  <thead>\n",
       "    <tr style=\"text-align: right;\">\n",
       "      <th></th>\n",
       "      <th>Parch</th>\n",
       "      <th>Survived</th>\n",
       "    </tr>\n",
       "  </thead>\n",
       "  <tbody>\n",
       "    <tr>\n",
       "      <th>3</th>\n",
       "      <td>3</td>\n",
       "      <td>0.600000</td>\n",
       "    </tr>\n",
       "    <tr>\n",
       "      <th>1</th>\n",
       "      <td>1</td>\n",
       "      <td>0.550847</td>\n",
       "    </tr>\n",
       "    <tr>\n",
       "      <th>2</th>\n",
       "      <td>2</td>\n",
       "      <td>0.500000</td>\n",
       "    </tr>\n",
       "    <tr>\n",
       "      <th>0</th>\n",
       "      <td>0</td>\n",
       "      <td>0.343658</td>\n",
       "    </tr>\n",
       "    <tr>\n",
       "      <th>5</th>\n",
       "      <td>5</td>\n",
       "      <td>0.200000</td>\n",
       "    </tr>\n",
       "    <tr>\n",
       "      <th>4</th>\n",
       "      <td>4</td>\n",
       "      <td>0.000000</td>\n",
       "    </tr>\n",
       "    <tr>\n",
       "      <th>6</th>\n",
       "      <td>6</td>\n",
       "      <td>0.000000</td>\n",
       "    </tr>\n",
       "  </tbody>\n",
       "</table>\n",
       "</div>"
      ],
      "text/plain": [
       "   Parch  Survived\n",
       "3      3  0.600000\n",
       "1      1  0.550847\n",
       "2      2  0.500000\n",
       "0      0  0.343658\n",
       "5      5  0.200000\n",
       "4      4  0.000000\n",
       "6      6  0.000000"
      ]
     },
     "execution_count": 15,
     "metadata": {},
     "output_type": "execute_result"
    }
   ],
   "source": [
    "# Parch vs Survived\n",
    "train_df[[\"Parch\", \"Survived\"]].groupby([\"Parch\"], as_index = False).mean().sort_values(by=\"Survived\", ascending = False)"
   ]
  },
  {
   "cell_type": "markdown",
   "id": "final-spanking",
   "metadata": {
    "papermill": {
     "duration": 0.100442,
     "end_time": "2021-06-05T21:28:49.371457",
     "exception": false,
     "start_time": "2021-06-05T21:28:49.271015",
     "status": "completed"
    },
    "tags": []
   },
   "source": [
    "<a id = \"7\"></a><br>\n",
    "# Outlier Detection"
   ]
  },
  {
   "cell_type": "code",
   "execution_count": 16,
   "id": "guided-rebate",
   "metadata": {
    "execution": {
     "iopub.execute_input": "2021-06-05T21:28:49.581052Z",
     "iopub.status.busy": "2021-06-05T21:28:49.580344Z",
     "iopub.status.idle": "2021-06-05T21:28:49.582242Z",
     "shell.execute_reply": "2021-06-05T21:28:49.582763Z",
     "shell.execute_reply.started": "2021-06-05T21:26:29.075135Z"
    },
    "papermill": {
     "duration": 0.11039,
     "end_time": "2021-06-05T21:28:49.582963",
     "exception": false,
     "start_time": "2021-06-05T21:28:49.472573",
     "status": "completed"
    },
    "tags": []
   },
   "outputs": [],
   "source": [
    "def detect_outliers(df, features):\n",
    "    outlier_indices = []\n",
    "    for c in features:\n",
    "        # 1st quartile\n",
    "        Q1 = np.percentile(df[c], 25)\n",
    "        # 3rd quartile\n",
    "        Q3 = np.percentile(df[c], 75)\n",
    "        # IQR\n",
    "        IQR = Q3 - Q1\n",
    "        # outlier Step\n",
    "        outlier_step = IQR * 1.5\n",
    "        # detect outlier and their indeces\n",
    "        outlier_list_col = df[(df[c] < Q1 - outlier_step) | (df[c] > Q3 + outlier_step)].index\n",
    "        # store indeces\n",
    "        outlier_indices.extend(outlier_list_col)\n",
    "        \n",
    "    outlier_indices = Counter(outlier_indices) \n",
    "    # bir samplede ikiden fazla outlier varsa çıkart\n",
    "    multiple_outliers = list(i for i, v in outlier_indices.items() if v > 2) \n",
    "    \n",
    "    return multiple_outliers"
   ]
  },
  {
   "cell_type": "code",
   "execution_count": 17,
   "id": "national-quebec",
   "metadata": {
    "execution": {
     "iopub.execute_input": "2021-06-05T21:28:49.788281Z",
     "iopub.status.busy": "2021-06-05T21:28:49.787652Z",
     "iopub.status.idle": "2021-06-05T21:28:49.830689Z",
     "shell.execute_reply": "2021-06-05T21:28:49.830175Z",
     "shell.execute_reply.started": "2021-06-05T21:26:29.086162Z"
    },
    "papermill": {
     "duration": 0.146411,
     "end_time": "2021-06-05T21:28:49.830842",
     "exception": false,
     "start_time": "2021-06-05T21:28:49.684431",
     "status": "completed"
    },
    "tags": []
   },
   "outputs": [
    {
     "data": {
      "text/html": [
       "<div>\n",
       "<style scoped>\n",
       "    .dataframe tbody tr th:only-of-type {\n",
       "        vertical-align: middle;\n",
       "    }\n",
       "\n",
       "    .dataframe tbody tr th {\n",
       "        vertical-align: top;\n",
       "    }\n",
       "\n",
       "    .dataframe thead th {\n",
       "        text-align: right;\n",
       "    }\n",
       "</style>\n",
       "<table border=\"1\" class=\"dataframe\">\n",
       "  <thead>\n",
       "    <tr style=\"text-align: right;\">\n",
       "      <th></th>\n",
       "      <th>PassengerId</th>\n",
       "      <th>Survived</th>\n",
       "      <th>Pclass</th>\n",
       "      <th>Name</th>\n",
       "      <th>Sex</th>\n",
       "      <th>Age</th>\n",
       "      <th>SibSp</th>\n",
       "      <th>Parch</th>\n",
       "      <th>Ticket</th>\n",
       "      <th>Fare</th>\n",
       "      <th>Cabin</th>\n",
       "      <th>Embarked</th>\n",
       "    </tr>\n",
       "  </thead>\n",
       "  <tbody>\n",
       "    <tr>\n",
       "      <th>27</th>\n",
       "      <td>28</td>\n",
       "      <td>0</td>\n",
       "      <td>1</td>\n",
       "      <td>Fortune, Mr. Charles Alexander</td>\n",
       "      <td>male</td>\n",
       "      <td>19.0</td>\n",
       "      <td>3</td>\n",
       "      <td>2</td>\n",
       "      <td>19950</td>\n",
       "      <td>263.00</td>\n",
       "      <td>C23 C25 C27</td>\n",
       "      <td>S</td>\n",
       "    </tr>\n",
       "    <tr>\n",
       "      <th>88</th>\n",
       "      <td>89</td>\n",
       "      <td>1</td>\n",
       "      <td>1</td>\n",
       "      <td>Fortune, Miss. Mabel Helen</td>\n",
       "      <td>female</td>\n",
       "      <td>23.0</td>\n",
       "      <td>3</td>\n",
       "      <td>2</td>\n",
       "      <td>19950</td>\n",
       "      <td>263.00</td>\n",
       "      <td>C23 C25 C27</td>\n",
       "      <td>S</td>\n",
       "    </tr>\n",
       "    <tr>\n",
       "      <th>159</th>\n",
       "      <td>160</td>\n",
       "      <td>0</td>\n",
       "      <td>3</td>\n",
       "      <td>Sage, Master. Thomas Henry</td>\n",
       "      <td>male</td>\n",
       "      <td>NaN</td>\n",
       "      <td>8</td>\n",
       "      <td>2</td>\n",
       "      <td>CA. 2343</td>\n",
       "      <td>69.55</td>\n",
       "      <td>NaN</td>\n",
       "      <td>S</td>\n",
       "    </tr>\n",
       "    <tr>\n",
       "      <th>180</th>\n",
       "      <td>181</td>\n",
       "      <td>0</td>\n",
       "      <td>3</td>\n",
       "      <td>Sage, Miss. Constance Gladys</td>\n",
       "      <td>female</td>\n",
       "      <td>NaN</td>\n",
       "      <td>8</td>\n",
       "      <td>2</td>\n",
       "      <td>CA. 2343</td>\n",
       "      <td>69.55</td>\n",
       "      <td>NaN</td>\n",
       "      <td>S</td>\n",
       "    </tr>\n",
       "    <tr>\n",
       "      <th>201</th>\n",
       "      <td>202</td>\n",
       "      <td>0</td>\n",
       "      <td>3</td>\n",
       "      <td>Sage, Mr. Frederick</td>\n",
       "      <td>male</td>\n",
       "      <td>NaN</td>\n",
       "      <td>8</td>\n",
       "      <td>2</td>\n",
       "      <td>CA. 2343</td>\n",
       "      <td>69.55</td>\n",
       "      <td>NaN</td>\n",
       "      <td>S</td>\n",
       "    </tr>\n",
       "    <tr>\n",
       "      <th>324</th>\n",
       "      <td>325</td>\n",
       "      <td>0</td>\n",
       "      <td>3</td>\n",
       "      <td>Sage, Mr. George John Jr</td>\n",
       "      <td>male</td>\n",
       "      <td>NaN</td>\n",
       "      <td>8</td>\n",
       "      <td>2</td>\n",
       "      <td>CA. 2343</td>\n",
       "      <td>69.55</td>\n",
       "      <td>NaN</td>\n",
       "      <td>S</td>\n",
       "    </tr>\n",
       "    <tr>\n",
       "      <th>341</th>\n",
       "      <td>342</td>\n",
       "      <td>1</td>\n",
       "      <td>1</td>\n",
       "      <td>Fortune, Miss. Alice Elizabeth</td>\n",
       "      <td>female</td>\n",
       "      <td>24.0</td>\n",
       "      <td>3</td>\n",
       "      <td>2</td>\n",
       "      <td>19950</td>\n",
       "      <td>263.00</td>\n",
       "      <td>C23 C25 C27</td>\n",
       "      <td>S</td>\n",
       "    </tr>\n",
       "    <tr>\n",
       "      <th>792</th>\n",
       "      <td>793</td>\n",
       "      <td>0</td>\n",
       "      <td>3</td>\n",
       "      <td>Sage, Miss. Stella Anna</td>\n",
       "      <td>female</td>\n",
       "      <td>NaN</td>\n",
       "      <td>8</td>\n",
       "      <td>2</td>\n",
       "      <td>CA. 2343</td>\n",
       "      <td>69.55</td>\n",
       "      <td>NaN</td>\n",
       "      <td>S</td>\n",
       "    </tr>\n",
       "    <tr>\n",
       "      <th>846</th>\n",
       "      <td>847</td>\n",
       "      <td>0</td>\n",
       "      <td>3</td>\n",
       "      <td>Sage, Mr. Douglas Bullen</td>\n",
       "      <td>male</td>\n",
       "      <td>NaN</td>\n",
       "      <td>8</td>\n",
       "      <td>2</td>\n",
       "      <td>CA. 2343</td>\n",
       "      <td>69.55</td>\n",
       "      <td>NaN</td>\n",
       "      <td>S</td>\n",
       "    </tr>\n",
       "    <tr>\n",
       "      <th>863</th>\n",
       "      <td>864</td>\n",
       "      <td>0</td>\n",
       "      <td>3</td>\n",
       "      <td>Sage, Miss. Dorothy Edith \"Dolly\"</td>\n",
       "      <td>female</td>\n",
       "      <td>NaN</td>\n",
       "      <td>8</td>\n",
       "      <td>2</td>\n",
       "      <td>CA. 2343</td>\n",
       "      <td>69.55</td>\n",
       "      <td>NaN</td>\n",
       "      <td>S</td>\n",
       "    </tr>\n",
       "  </tbody>\n",
       "</table>\n",
       "</div>"
      ],
      "text/plain": [
       "     PassengerId  Survived  Pclass                               Name     Sex  \\\n",
       "27            28         0       1     Fortune, Mr. Charles Alexander    male   \n",
       "88            89         1       1         Fortune, Miss. Mabel Helen  female   \n",
       "159          160         0       3         Sage, Master. Thomas Henry    male   \n",
       "180          181         0       3       Sage, Miss. Constance Gladys  female   \n",
       "201          202         0       3                Sage, Mr. Frederick    male   \n",
       "324          325         0       3           Sage, Mr. George John Jr    male   \n",
       "341          342         1       1     Fortune, Miss. Alice Elizabeth  female   \n",
       "792          793         0       3            Sage, Miss. Stella Anna  female   \n",
       "846          847         0       3           Sage, Mr. Douglas Bullen    male   \n",
       "863          864         0       3  Sage, Miss. Dorothy Edith \"Dolly\"  female   \n",
       "\n",
       "      Age  SibSp  Parch    Ticket    Fare        Cabin Embarked  \n",
       "27   19.0      3      2     19950  263.00  C23 C25 C27        S  \n",
       "88   23.0      3      2     19950  263.00  C23 C25 C27        S  \n",
       "159   NaN      8      2  CA. 2343   69.55          NaN        S  \n",
       "180   NaN      8      2  CA. 2343   69.55          NaN        S  \n",
       "201   NaN      8      2  CA. 2343   69.55          NaN        S  \n",
       "324   NaN      8      2  CA. 2343   69.55          NaN        S  \n",
       "341  24.0      3      2     19950  263.00  C23 C25 C27        S  \n",
       "792   NaN      8      2  CA. 2343   69.55          NaN        S  \n",
       "846   NaN      8      2  CA. 2343   69.55          NaN        S  \n",
       "863   NaN      8      2  CA. 2343   69.55          NaN        S  "
      ]
     },
     "execution_count": 17,
     "metadata": {},
     "output_type": "execute_result"
    }
   ],
   "source": [
    "train_df.loc[detect_outliers(train_df, [\"Age\", \"SibSp\", \"Parch\", \"Fare\"])]"
   ]
  },
  {
   "cell_type": "code",
   "execution_count": 18,
   "id": "structured-portuguese",
   "metadata": {
    "execution": {
     "iopub.execute_input": "2021-06-05T21:28:50.044583Z",
     "iopub.status.busy": "2021-06-05T21:28:50.042825Z",
     "iopub.status.idle": "2021-06-05T21:28:50.052521Z",
     "shell.execute_reply": "2021-06-05T21:28:50.053056Z",
     "shell.execute_reply.started": "2021-06-05T21:26:29.132313Z"
    },
    "papermill": {
     "duration": 0.120659,
     "end_time": "2021-06-05T21:28:50.053231",
     "exception": false,
     "start_time": "2021-06-05T21:28:49.932572",
     "status": "completed"
    },
    "tags": []
   },
   "outputs": [],
   "source": [
    "# drop outliers\n",
    "train_df = train_df.drop(detect_outliers(train_df, [\"Age\", \"SibSp\", \"Parch\", \"Fare\"]), axis = 0).reset_index(drop = True)"
   ]
  },
  {
   "cell_type": "markdown",
   "id": "voluntary-railway",
   "metadata": {
    "papermill": {
     "duration": 0.150089,
     "end_time": "2021-06-05T21:28:50.305675",
     "exception": false,
     "start_time": "2021-06-05T21:28:50.155586",
     "status": "completed"
    },
    "tags": []
   },
   "source": [
    "<a id = \"8\"></a><br>\n",
    "# Missing Value\n",
    "* Find Missing Value\n",
    "* Fill Missing Value"
   ]
  },
  {
   "cell_type": "code",
   "execution_count": 19,
   "id": "stainless-lover",
   "metadata": {
    "execution": {
     "iopub.execute_input": "2021-06-05T21:28:50.512124Z",
     "iopub.status.busy": "2021-06-05T21:28:50.511469Z",
     "iopub.status.idle": "2021-06-05T21:28:50.521719Z",
     "shell.execute_reply": "2021-06-05T21:28:50.521053Z",
     "shell.execute_reply.started": "2021-06-05T21:26:29.145253Z"
    },
    "papermill": {
     "duration": 0.114577,
     "end_time": "2021-06-05T21:28:50.521922",
     "exception": false,
     "start_time": "2021-06-05T21:28:50.407345",
     "status": "completed"
    },
    "tags": []
   },
   "outputs": [],
   "source": [
    "train_df_len = len(train_df)\n",
    "train_df = pd.concat([train_df, test_df], axis = 0).reset_index(drop = True)"
   ]
  },
  {
   "cell_type": "markdown",
   "id": "permanent-malta",
   "metadata": {
    "papermill": {
     "duration": 0.101735,
     "end_time": "2021-06-05T21:28:50.730017",
     "exception": false,
     "start_time": "2021-06-05T21:28:50.628282",
     "status": "completed"
    },
    "tags": []
   },
   "source": [
    "<a id = \"9\"></a><br>\n",
    "## Find Missing Value"
   ]
  },
  {
   "cell_type": "code",
   "execution_count": 20,
   "id": "plain-attempt",
   "metadata": {
    "execution": {
     "iopub.execute_input": "2021-06-05T21:28:50.944768Z",
     "iopub.status.busy": "2021-06-05T21:28:50.942728Z",
     "iopub.status.idle": "2021-06-05T21:28:50.947665Z",
     "shell.execute_reply": "2021-06-05T21:28:50.948157Z",
     "shell.execute_reply.started": "2021-06-05T21:26:29.160267Z"
    },
    "papermill": {
     "duration": 0.114643,
     "end_time": "2021-06-05T21:28:50.948324",
     "exception": false,
     "start_time": "2021-06-05T21:28:50.833681",
     "status": "completed"
    },
    "tags": []
   },
   "outputs": [
    {
     "data": {
      "text/plain": [
       "Index(['Survived', 'Age', 'Fare', 'Cabin', 'Embarked'], dtype='object')"
      ]
     },
     "execution_count": 20,
     "metadata": {},
     "output_type": "execute_result"
    }
   ],
   "source": [
    "train_df.columns[train_df.isnull().any()]"
   ]
  },
  {
   "cell_type": "code",
   "execution_count": 21,
   "id": "worse-laugh",
   "metadata": {
    "execution": {
     "iopub.execute_input": "2021-06-05T21:28:51.157525Z",
     "iopub.status.busy": "2021-06-05T21:28:51.156778Z",
     "iopub.status.idle": "2021-06-05T21:28:51.166033Z",
     "shell.execute_reply": "2021-06-05T21:28:51.166588Z",
     "shell.execute_reply.started": "2021-06-05T21:26:29.178653Z"
    },
    "papermill": {
     "duration": 0.114702,
     "end_time": "2021-06-05T21:28:51.166762",
     "exception": false,
     "start_time": "2021-06-05T21:28:51.052060",
     "status": "completed"
    },
    "tags": []
   },
   "outputs": [
    {
     "data": {
      "text/plain": [
       "PassengerId       0\n",
       "Survived        418\n",
       "Pclass            0\n",
       "Name              0\n",
       "Sex               0\n",
       "Age             256\n",
       "SibSp             0\n",
       "Parch             0\n",
       "Ticket            0\n",
       "Fare              1\n",
       "Cabin          1007\n",
       "Embarked          2\n",
       "dtype: int64"
      ]
     },
     "execution_count": 21,
     "metadata": {},
     "output_type": "execute_result"
    }
   ],
   "source": [
    "train_df.isnull().sum()"
   ]
  },
  {
   "cell_type": "markdown",
   "id": "knowing-brunei",
   "metadata": {
    "papermill": {
     "duration": 0.102329,
     "end_time": "2021-06-05T21:28:51.371068",
     "exception": false,
     "start_time": "2021-06-05T21:28:51.268739",
     "status": "completed"
    },
    "tags": []
   },
   "source": [
    "<a id = \"10\"></a><br>\n",
    "## Fill Missing Value\n",
    "* Embarked has 2 missing value\n",
    "* Fare has only 1 missing value"
   ]
  },
  {
   "cell_type": "code",
   "execution_count": 22,
   "id": "sustained-greek",
   "metadata": {
    "execution": {
     "iopub.execute_input": "2021-06-05T21:28:51.578750Z",
     "iopub.status.busy": "2021-06-05T21:28:51.578097Z",
     "iopub.status.idle": "2021-06-05T21:28:51.594620Z",
     "shell.execute_reply": "2021-06-05T21:28:51.595113Z",
     "shell.execute_reply.started": "2021-06-05T21:26:29.193612Z"
    },
    "papermill": {
     "duration": 0.121688,
     "end_time": "2021-06-05T21:28:51.595303",
     "exception": false,
     "start_time": "2021-06-05T21:28:51.473615",
     "status": "completed"
    },
    "tags": []
   },
   "outputs": [
    {
     "data": {
      "text/html": [
       "<div>\n",
       "<style scoped>\n",
       "    .dataframe tbody tr th:only-of-type {\n",
       "        vertical-align: middle;\n",
       "    }\n",
       "\n",
       "    .dataframe tbody tr th {\n",
       "        vertical-align: top;\n",
       "    }\n",
       "\n",
       "    .dataframe thead th {\n",
       "        text-align: right;\n",
       "    }\n",
       "</style>\n",
       "<table border=\"1\" class=\"dataframe\">\n",
       "  <thead>\n",
       "    <tr style=\"text-align: right;\">\n",
       "      <th></th>\n",
       "      <th>PassengerId</th>\n",
       "      <th>Survived</th>\n",
       "      <th>Pclass</th>\n",
       "      <th>Name</th>\n",
       "      <th>Sex</th>\n",
       "      <th>Age</th>\n",
       "      <th>SibSp</th>\n",
       "      <th>Parch</th>\n",
       "      <th>Ticket</th>\n",
       "      <th>Fare</th>\n",
       "      <th>Cabin</th>\n",
       "      <th>Embarked</th>\n",
       "    </tr>\n",
       "  </thead>\n",
       "  <tbody>\n",
       "    <tr>\n",
       "      <th>60</th>\n",
       "      <td>62</td>\n",
       "      <td>1.0</td>\n",
       "      <td>1</td>\n",
       "      <td>Icard, Miss. Amelie</td>\n",
       "      <td>female</td>\n",
       "      <td>38.0</td>\n",
       "      <td>0</td>\n",
       "      <td>0</td>\n",
       "      <td>113572</td>\n",
       "      <td>80.0</td>\n",
       "      <td>B28</td>\n",
       "      <td>NaN</td>\n",
       "    </tr>\n",
       "    <tr>\n",
       "      <th>821</th>\n",
       "      <td>830</td>\n",
       "      <td>1.0</td>\n",
       "      <td>1</td>\n",
       "      <td>Stone, Mrs. George Nelson (Martha Evelyn)</td>\n",
       "      <td>female</td>\n",
       "      <td>62.0</td>\n",
       "      <td>0</td>\n",
       "      <td>0</td>\n",
       "      <td>113572</td>\n",
       "      <td>80.0</td>\n",
       "      <td>B28</td>\n",
       "      <td>NaN</td>\n",
       "    </tr>\n",
       "  </tbody>\n",
       "</table>\n",
       "</div>"
      ],
      "text/plain": [
       "     PassengerId  Survived  Pclass                                       Name  \\\n",
       "60            62       1.0       1                        Icard, Miss. Amelie   \n",
       "821          830       1.0       1  Stone, Mrs. George Nelson (Martha Evelyn)   \n",
       "\n",
       "        Sex   Age  SibSp  Parch  Ticket  Fare Cabin Embarked  \n",
       "60   female  38.0      0      0  113572  80.0   B28      NaN  \n",
       "821  female  62.0      0      0  113572  80.0   B28      NaN  "
      ]
     },
     "execution_count": 22,
     "metadata": {},
     "output_type": "execute_result"
    }
   ],
   "source": [
    "train_df[train_df[\"Embarked\"].isnull()]"
   ]
  },
  {
   "cell_type": "code",
   "execution_count": 23,
   "id": "average-mainland",
   "metadata": {
    "execution": {
     "iopub.execute_input": "2021-06-05T21:28:51.806465Z",
     "iopub.status.busy": "2021-06-05T21:28:51.805795Z",
     "iopub.status.idle": "2021-06-05T21:28:51.977861Z",
     "shell.execute_reply": "2021-06-05T21:28:51.977308Z",
     "shell.execute_reply.started": "2021-06-05T21:26:29.225703Z"
    },
    "papermill": {
     "duration": 0.278072,
     "end_time": "2021-06-05T21:28:51.978005",
     "exception": false,
     "start_time": "2021-06-05T21:28:51.699933",
     "status": "completed"
    },
    "tags": []
   },
   "outputs": [
    {
     "data": {
      "image/png": "[encoded data removed]",
      "text/plain": [
       "<Figure size 432x288 with 1 Axes>"
      ]
     },
     "metadata": {},
     "output_type": "display_data"
    }
   ],
   "source": [
    "train_df.boxplot(column = \"Fare\", by = \"Embarked\")\n",
    "plt.show()"
   ]
  },
  {
   "cell_type": "code",
   "execution_count": 24,
   "id": "advanced-motor",
   "metadata": {
    "execution": {
     "iopub.execute_input": "2021-06-05T21:28:52.201907Z",
     "iopub.status.busy": "2021-06-05T21:28:52.200981Z",
     "iopub.status.idle": "2021-06-05T21:28:52.205212Z",
     "shell.execute_reply": "2021-06-05T21:28:52.204694Z",
     "shell.execute_reply.started": "2021-06-05T21:26:29.398311Z"
    },
    "papermill": {
     "duration": 0.121432,
     "end_time": "2021-06-05T21:28:52.205389",
     "exception": false,
     "start_time": "2021-06-05T21:28:52.083957",
     "status": "completed"
    },
    "tags": []
   },
   "outputs": [
    {
     "data": {
      "text/html": [
       "<div>\n",
       "<style scoped>\n",
       "    .dataframe tbody tr th:only-of-type {\n",
       "        vertical-align: middle;\n",
       "    }\n",
       "\n",
       "    .dataframe tbody tr th {\n",
       "        vertical-align: top;\n",
       "    }\n",
       "\n",
       "    .dataframe thead th {\n",
       "        text-align: right;\n",
       "    }\n",
       "</style>\n",
       "<table border=\"1\" class=\"dataframe\">\n",
       "  <thead>\n",
       "    <tr style=\"text-align: right;\">\n",
       "      <th></th>\n",
       "      <th>PassengerId</th>\n",
       "      <th>Survived</th>\n",
       "      <th>Pclass</th>\n",
       "      <th>Name</th>\n",
       "      <th>Sex</th>\n",
       "      <th>Age</th>\n",
       "      <th>SibSp</th>\n",
       "      <th>Parch</th>\n",
       "      <th>Ticket</th>\n",
       "      <th>Fare</th>\n",
       "      <th>Cabin</th>\n",
       "      <th>Embarked</th>\n",
       "    </tr>\n",
       "  </thead>\n",
       "  <tbody>\n",
       "  </tbody>\n",
       "</table>\n",
       "</div>"
      ],
      "text/plain": [
       "Empty DataFrame\n",
       "Columns: [PassengerId, Survived, Pclass, Name, Sex, Age, SibSp, Parch, Ticket, Fare, Cabin, Embarked]\n",
       "Index: []"
      ]
     },
     "execution_count": 24,
     "metadata": {},
     "output_type": "execute_result"
    }
   ],
   "source": [
    "train_df[\"Embarked\"] = train_df[\"Embarked\"].fillna(\"C\")\n",
    "train_df[train_df[\"Embarked\"].isnull()]"
   ]
  },
  {
   "cell_type": "code",
   "execution_count": 25,
   "id": "higher-vector",
   "metadata": {
    "execution": {
     "iopub.execute_input": "2021-06-05T21:28:52.430183Z",
     "iopub.status.busy": "2021-06-05T21:28:52.429228Z",
     "iopub.status.idle": "2021-06-05T21:28:52.433549Z",
     "shell.execute_reply": "2021-06-05T21:28:52.432927Z",
     "shell.execute_reply.started": "2021-06-05T21:26:29.416449Z"
    },
    "papermill": {
     "duration": 0.123335,
     "end_time": "2021-06-05T21:28:52.433687",
     "exception": false,
     "start_time": "2021-06-05T21:28:52.310352",
     "status": "completed"
    },
    "tags": []
   },
   "outputs": [
    {
     "data": {
      "text/html": [
       "<div>\n",
       "<style scoped>\n",
       "    .dataframe tbody tr th:only-of-type {\n",
       "        vertical-align: middle;\n",
       "    }\n",
       "\n",
       "    .dataframe tbody tr th {\n",
       "        vertical-align: top;\n",
       "    }\n",
       "\n",
       "    .dataframe thead th {\n",
       "        text-align: right;\n",
       "    }\n",
       "</style>\n",
       "<table border=\"1\" class=\"dataframe\">\n",
       "  <thead>\n",
       "    <tr style=\"text-align: right;\">\n",
       "      <th></th>\n",
       "      <th>PassengerId</th>\n",
       "      <th>Survived</th>\n",
       "      <th>Pclass</th>\n",
       "      <th>Name</th>\n",
       "      <th>Sex</th>\n",
       "      <th>Age</th>\n",
       "      <th>SibSp</th>\n",
       "      <th>Parch</th>\n",
       "      <th>Ticket</th>\n",
       "      <th>Fare</th>\n",
       "      <th>Cabin</th>\n",
       "      <th>Embarked</th>\n",
       "    </tr>\n",
       "  </thead>\n",
       "  <tbody>\n",
       "    <tr>\n",
       "      <th>1033</th>\n",
       "      <td>1044</td>\n",
       "      <td>NaN</td>\n",
       "      <td>3</td>\n",
       "      <td>Storey, Mr. Thomas</td>\n",
       "      <td>male</td>\n",
       "      <td>60.5</td>\n",
       "      <td>0</td>\n",
       "      <td>0</td>\n",
       "      <td>3701</td>\n",
       "      <td>NaN</td>\n",
       "      <td>NaN</td>\n",
       "      <td>S</td>\n",
       "    </tr>\n",
       "  </tbody>\n",
       "</table>\n",
       "</div>"
      ],
      "text/plain": [
       "      PassengerId  Survived  Pclass                Name   Sex   Age  SibSp  \\\n",
       "1033         1044       NaN       3  Storey, Mr. Thomas  male  60.5      0   \n",
       "\n",
       "      Parch Ticket  Fare Cabin Embarked  \n",
       "1033      0   3701   NaN   NaN        S  "
      ]
     },
     "execution_count": 25,
     "metadata": {},
     "output_type": "execute_result"
    }
   ],
   "source": [
    "train_df[train_df[\"Fare\"].isnull()]"
   ]
  },
  {
   "cell_type": "code",
   "execution_count": 26,
   "id": "detailed-alarm",
   "metadata": {
    "execution": {
     "iopub.execute_input": "2021-06-05T21:28:52.655522Z",
     "iopub.status.busy": "2021-06-05T21:28:52.654400Z",
     "iopub.status.idle": "2021-06-05T21:28:52.668898Z",
     "shell.execute_reply": "2021-06-05T21:28:52.669405Z",
     "shell.execute_reply.started": "2021-06-05T21:26:29.441525Z"
    },
    "papermill": {
     "duration": 0.13062,
     "end_time": "2021-06-05T21:28:52.669575",
     "exception": false,
     "start_time": "2021-06-05T21:28:52.538955",
     "status": "completed"
    },
    "tags": []
   },
   "outputs": [
    {
     "data": {
      "text/html": [
       "<div>\n",
       "<style scoped>\n",
       "    .dataframe tbody tr th:only-of-type {\n",
       "        vertical-align: middle;\n",
       "    }\n",
       "\n",
       "    .dataframe tbody tr th {\n",
       "        vertical-align: top;\n",
       "    }\n",
       "\n",
       "    .dataframe thead th {\n",
       "        text-align: right;\n",
       "    }\n",
       "</style>\n",
       "<table border=\"1\" class=\"dataframe\">\n",
       "  <thead>\n",
       "    <tr style=\"text-align: right;\">\n",
       "      <th></th>\n",
       "      <th>PassengerId</th>\n",
       "      <th>Survived</th>\n",
       "      <th>Pclass</th>\n",
       "      <th>Name</th>\n",
       "      <th>Sex</th>\n",
       "      <th>Age</th>\n",
       "      <th>SibSp</th>\n",
       "      <th>Parch</th>\n",
       "      <th>Ticket</th>\n",
       "      <th>Fare</th>\n",
       "      <th>Cabin</th>\n",
       "      <th>Embarked</th>\n",
       "    </tr>\n",
       "  </thead>\n",
       "  <tbody>\n",
       "  </tbody>\n",
       "</table>\n",
       "</div>"
      ],
      "text/plain": [
       "Empty DataFrame\n",
       "Columns: [PassengerId, Survived, Pclass, Name, Sex, Age, SibSp, Parch, Ticket, Fare, Cabin, Embarked]\n",
       "Index: []"
      ]
     },
     "execution_count": 26,
     "metadata": {},
     "output_type": "execute_result"
    }
   ],
   "source": [
    "train_df[\"Fare\"] = train_df[\"Fare\"].fillna(np.mean(train_df[train_df[\"Pclass\"] == 3][\"Fare\"]))\n",
    "train_df[train_df[\"Fare\"].isnull()]"
   ]
  },
  {
   "cell_type": "markdown",
   "id": "structural-particular",
   "metadata": {
    "papermill": {
     "duration": 0.106756,
     "end_time": "2021-06-05T21:28:52.884985",
     "exception": false,
     "start_time": "2021-06-05T21:28:52.778229",
     "status": "completed"
    },
    "tags": []
   },
   "source": [
    "<a id = \"11\"></a><br>\n",
    "# Visualization"
   ]
  },
  {
   "cell_type": "markdown",
   "id": "confidential-constant",
   "metadata": {
    "papermill": {
     "duration": 0.106396,
     "end_time": "2021-06-05T21:28:53.099881",
     "exception": false,
     "start_time": "2021-06-05T21:28:52.993485",
     "status": "completed"
    },
    "tags": []
   },
   "source": [
    " <a id = \"12\"></a><br>\n",
    " ## Correlation Between SibSp -- Parch -- Age -- Fare -- Survived     \n",
    " "
   ]
  },
  {
   "cell_type": "code",
   "execution_count": 27,
   "id": "adopted-gregory",
   "metadata": {
    "execution": {
     "iopub.execute_input": "2021-06-05T21:28:53.321213Z",
     "iopub.status.busy": "2021-06-05T21:28:53.320201Z",
     "iopub.status.idle": "2021-06-05T21:28:53.606150Z",
     "shell.execute_reply": "2021-06-05T21:28:53.605606Z",
     "shell.execute_reply.started": "2021-06-05T21:26:29.469057Z"
    },
    "papermill": {
     "duration": 0.399648,
     "end_time": "2021-06-05T21:28:53.606297",
     "exception": false,
     "start_time": "2021-06-05T21:28:53.206649",
     "status": "completed"
    },
    "tags": []
   },
   "outputs": [
    {
     "data": {
      "image/png": "[encoded data removed]",
      "text/plain": [
       "<Figure size 432x288 with 2 Axes>"
      ]
     },
     "metadata": {},
     "output_type": "display_data"
    }
   ],
   "source": [
    "list1 = [\"SibSp\",\"Parch\",\"Age\",\"Fare\",\"Survived\"]\n",
    "sns.heatmap(train_df[list1].corr(), annot = True, fmt = \".2f\")\n",
    "plt.show()"
   ]
  },
  {
   "cell_type": "markdown",
   "id": "potential-helping",
   "metadata": {
    "papermill": {
     "duration": 0.106986,
     "end_time": "2021-06-05T21:28:53.838576",
     "exception": false,
     "start_time": "2021-06-05T21:28:53.731590",
     "status": "completed"
    },
    "tags": []
   },
   "source": [
    "Fare feature seems to have correlation with survived feature (0.26)"
   ]
  },
  {
   "cell_type": "markdown",
   "id": "anticipated-pledge",
   "metadata": {
    "papermill": {
     "duration": 0.109945,
     "end_time": "2021-06-05T21:28:54.056977",
     "exception": false,
     "start_time": "2021-06-05T21:28:53.947032",
     "status": "completed"
    },
    "tags": []
   },
   "source": [
    " <a id = \"13\"></a><br>\n",
    " ## SibSp -- Survived   "
   ]
  },
  {
   "cell_type": "code",
   "execution_count": 28,
   "id": "editorial-porter",
   "metadata": {
    "execution": {
     "iopub.execute_input": "2021-06-05T21:28:54.276996Z",
     "iopub.status.busy": "2021-06-05T21:28:54.276011Z",
     "iopub.status.idle": "2021-06-05T21:28:54.694942Z",
     "shell.execute_reply": "2021-06-05T21:28:54.694205Z",
     "shell.execute_reply.started": "2021-06-05T21:26:29.791796Z"
    },
    "papermill": {
     "duration": 0.530147,
     "end_time": "2021-06-05T21:28:54.695097",
     "exception": false,
     "start_time": "2021-06-05T21:28:54.164950",
     "status": "completed"
    },
    "tags": []
   },
   "outputs": [
    {
     "data": {
      "image/png": "[encoded data removed]",
      "text/plain": [
       "<Figure size 432x432 with 1 Axes>"
      ]
     },
     "metadata": {},
     "output_type": "display_data"
    }
   ],
   "source": [
    "g = sns.factorplot(x = \"SibSp\", y = \"Survived\", data = train_df, kind = \"bar\", size = 6)\n",
    "g.set_ylabels(\"Survived Probability\")\n",
    "plt.show()"
   ]
  },
  {
   "cell_type": "markdown",
   "id": "enormous-swing",
   "metadata": {
    "papermill": {
     "duration": 0.106745,
     "end_time": "2021-06-05T21:28:54.909876",
     "exception": false,
     "start_time": "2021-06-05T21:28:54.803131",
     "status": "completed"
    },
    "tags": []
   },
   "source": [
    "* Having a lot of SibSp have less cnhance to sruvive.\n",
    "* If SibSp == 0 or 1 or 2, passenger has more chance to survive.\n",
    "* We can consider a new feature describing these categories.\n"
   ]
  },
  {
   "cell_type": "markdown",
   "id": "compact-permit",
   "metadata": {
    "papermill": {
     "duration": 0.116499,
     "end_time": "2021-06-05T21:28:55.137771",
     "exception": false,
     "start_time": "2021-06-05T21:28:55.021272",
     "status": "completed"
    },
    "tags": []
   },
   "source": [
    " <a id = \"14\"></a><br>\n",
    " ## Parch -- Survived   "
   ]
  },
  {
   "cell_type": "code",
   "execution_count": 29,
   "id": "alleged-geneva",
   "metadata": {
    "execution": {
     "iopub.execute_input": "2021-06-05T21:28:55.359525Z",
     "iopub.status.busy": "2021-06-05T21:28:55.358866Z",
     "iopub.status.idle": "2021-06-05T21:28:55.780469Z",
     "shell.execute_reply": "2021-06-05T21:28:55.779901Z",
     "shell.execute_reply.started": "2021-06-05T21:26:30.298176Z"
    },
    "papermill": {
     "duration": 0.53448,
     "end_time": "2021-06-05T21:28:55.780622",
     "exception": false,
     "start_time": "2021-06-05T21:28:55.246142",
     "status": "completed"
    },
    "tags": []
   },
   "outputs": [
    {
     "data": {
      "image/png": "[encoded data removed]",
      "text/plain": [
       "<Figure size 432x432 with 1 Axes>"
      ]
     },
     "metadata": {},
     "output_type": "display_data"
    }
   ],
   "source": [
    "g = sns.factorplot(x = \"Parch\", y = \"Survived\", kind = \"bar\", data = train_df, size = 6)\n",
    "g.set_ylabels(\"Survived Probabilty\")\n",
    "plt.show()"
   ]
  },
  {
   "cell_type": "markdown",
   "id": "ignored-marks",
   "metadata": {
    "papermill": {
     "duration": 0.114499,
     "end_time": "2021-06-05T21:28:56.006616",
     "exception": false,
     "start_time": "2021-06-05T21:28:55.892117",
     "status": "completed"
    },
    "tags": []
   },
   "source": [
    "* SibSp and Parch can be used for new feature extraction  with threshold = 3\n",
    "* Small families have more chance to survive.\n",
    "* There is a standart deviation in survival of passenger with Parch = 3."
   ]
  },
  {
   "cell_type": "markdown",
   "id": "listed-handbook",
   "metadata": {
    "papermill": {
     "duration": 0.111234,
     "end_time": "2021-06-05T21:28:56.230398",
     "exception": false,
     "start_time": "2021-06-05T21:28:56.119164",
     "status": "completed"
    },
    "tags": []
   },
   "source": [
    " <a id = \"15\"></a><br>\n",
    " ## Pclass -- Survived   "
   ]
  },
  {
   "cell_type": "code",
   "execution_count": 30,
   "id": "sorted-lyric",
   "metadata": {
    "execution": {
     "iopub.execute_input": "2021-06-05T21:28:56.457548Z",
     "iopub.status.busy": "2021-06-05T21:28:56.456875Z",
     "iopub.status.idle": "2021-06-05T21:28:56.751518Z",
     "shell.execute_reply": "2021-06-05T21:28:56.752161Z",
     "shell.execute_reply.started": "2021-06-05T21:26:30.770371Z"
    },
    "papermill": {
     "duration": 0.410205,
     "end_time": "2021-06-05T21:28:56.752344",
     "exception": false,
     "start_time": "2021-06-05T21:28:56.342139",
     "status": "completed"
    },
    "tags": []
   },
   "outputs": [
    {
     "data": {
      "image/png": "[encoded data removed]",
      "text/plain": [
       "<Figure size 432x432 with 1 Axes>"
      ]
     },
     "metadata": {},
     "output_type": "display_data"
    }
   ],
   "source": [
    "g = sns.factorplot(x = \"Pclass\", y = \"Survived\", kind = \"bar\", data = train_df, size = 6)\n",
    "g.set_ylabels(\"Survived Probabilty\")\n",
    "plt.show()"
   ]
  },
  {
   "cell_type": "markdown",
   "id": "genuine-destination",
   "metadata": {
    "papermill": {
     "duration": 0.109919,
     "end_time": "2021-06-05T21:28:56.972627",
     "exception": false,
     "start_time": "2021-06-05T21:28:56.862708",
     "status": "completed"
    },
    "tags": []
   },
   "source": [
    "* Pclass stand for the class that passengers travel.\n",
    "* Passenger that travels in 1st class have more chance to survive."
   ]
  },
  {
   "cell_type": "markdown",
   "id": "infinite-nudist",
   "metadata": {
    "papermill": {
     "duration": 0.113067,
     "end_time": "2021-06-05T21:28:57.199611",
     "exception": false,
     "start_time": "2021-06-05T21:28:57.086544",
     "status": "completed"
    },
    "tags": []
   },
   "source": [
    " <a id = \"16\"></a><br>\n",
    " ## Age -- Survived   "
   ]
  },
  {
   "cell_type": "code",
   "execution_count": 31,
   "id": "olympic-strain",
   "metadata": {
    "execution": {
     "iopub.execute_input": "2021-06-05T21:28:57.427677Z",
     "iopub.status.busy": "2021-06-05T21:28:57.426988Z",
     "iopub.status.idle": "2021-06-05T21:28:57.897443Z",
     "shell.execute_reply": "2021-06-05T21:28:57.897983Z",
     "shell.execute_reply.started": "2021-06-05T21:26:31.128525Z"
    },
    "papermill": {
     "duration": 0.586122,
     "end_time": "2021-06-05T21:28:57.898158",
     "exception": false,
     "start_time": "2021-06-05T21:28:57.312036",
     "status": "completed"
    },
    "tags": []
   },
   "outputs": [
    {
     "data": {
      "image/png": "[encoded data removed]",
      "text/plain": [
       "<Figure size 432x216 with 2 Axes>"
      ]
     },
     "metadata": {},
     "output_type": "display_data"
    }
   ],
   "source": [
    "g = sns.FacetGrid(train_df, col = \"Survived\")\n",
    "g.map(sns.distplot, \"Age\", bins = 25)\n",
    "plt.show()"
   ]
  },
  {
   "cell_type": "markdown",
   "id": "metropolitan-regulation",
   "metadata": {
    "papermill": {
     "duration": 0.109637,
     "end_time": "2021-06-05T21:28:58.118609",
     "exception": false,
     "start_time": "2021-06-05T21:28:58.008972",
     "status": "completed"
    },
    "tags": []
   },
   "source": [
    "* Children have more chance to survive accoridng to the 2nd graph age <= 10 has a high survival probabilty namely rate. \n",
    "* Also oldest passengers (60-80) survived at most.\n",
    "* large number of 20 years old didn't survive in general, where as in general 35 year olds survived.\n",
    "* most of the passengers are in 15-35 age range\n",
    "* Gaussian distribution is obtained.\n",
    "* use afe feaure in training\n",
    "* use age distribution for missing value of age"
   ]
  },
  {
   "cell_type": "markdown",
   "id": "northern-jerusalem",
   "metadata": {
    "papermill": {
     "duration": 0.113945,
     "end_time": "2021-06-05T21:28:58.343130",
     "exception": false,
     "start_time": "2021-06-05T21:28:58.229185",
     "status": "completed"
    },
    "tags": []
   },
   "source": [
    " <a id = \"17\"></a><br>\n",
    " ## Pclass -- Survived -- Age "
   ]
  },
  {
   "cell_type": "code",
   "execution_count": 32,
   "id": "cordless-victim",
   "metadata": {
    "execution": {
     "iopub.execute_input": "2021-06-05T21:28:58.574844Z",
     "iopub.status.busy": "2021-06-05T21:28:58.574048Z",
     "iopub.status.idle": "2021-06-05T21:29:00.174332Z",
     "shell.execute_reply": "2021-06-05T21:29:00.173629Z",
     "shell.execute_reply.started": "2021-06-05T21:26:31.645551Z"
    },
    "papermill": {
     "duration": 1.71889,
     "end_time": "2021-06-05T21:29:00.174578",
     "exception": false,
     "start_time": "2021-06-05T21:28:58.455688",
     "status": "completed"
    },
    "tags": []
   },
   "outputs": [
    {
     "data": {
      "image/png": "[encoded data removed]",
      "text/plain": [
       "<Figure size 440x648 with 6 Axes>"
      ]
     },
     "metadata": {},
     "output_type": "display_data"
    }
   ],
   "source": [
    "g = sns.FacetGrid(train_df, col = \"Survived\", row = \"Pclass\", size = 3)\n",
    "g.map(plt.hist, \"Age\", bins = 25)\n",
    "g.add_legend()\n",
    "plt.show()"
   ]
  },
  {
   "cell_type": "markdown",
   "id": "european-start",
   "metadata": {
    "papermill": {
     "duration": 0.110876,
     "end_time": "2021-06-05T21:29:00.396452",
     "exception": false,
     "start_time": "2021-06-05T21:29:00.285576",
     "status": "completed"
    },
    "tags": []
   },
   "source": [
    "* Pclass is important feature for model training\n",
    "* Pclass == 1 => survival rate is higher than death rate\n",
    "* Pclass == 3 => survival rate is lower than death rate\n",
    "* Pclass == 2 => survival rate is almost equal to death rate"
   ]
  },
  {
   "cell_type": "markdown",
   "id": "square-venture",
   "metadata": {
    "papermill": {
     "duration": 0.112133,
     "end_time": "2021-06-05T21:29:00.618688",
     "exception": false,
     "start_time": "2021-06-05T21:29:00.506555",
     "status": "completed"
    },
    "tags": []
   },
   "source": [
    " <a id = \"18\"></a><br>\n",
    " ## Embarked -- Sex -- Pclass -- Survived "
   ]
  },
  {
   "cell_type": "code",
   "execution_count": 33,
   "id": "needed-catholic",
   "metadata": {
    "execution": {
     "iopub.execute_input": "2021-06-05T21:29:00.887140Z",
     "iopub.status.busy": "2021-06-05T21:29:00.864352Z",
     "iopub.status.idle": "2021-06-05T21:29:02.076195Z",
     "shell.execute_reply": "2021-06-05T21:29:02.075666Z",
     "shell.execute_reply.started": "2021-06-05T21:26:33.344800Z"
    },
    "papermill": {
     "duration": 1.347088,
     "end_time": "2021-06-05T21:29:02.076330",
     "exception": false,
     "start_time": "2021-06-05T21:29:00.729242",
     "status": "completed"
    },
    "tags": []
   },
   "outputs": [
    {
     "data": {
      "image/png": "[encoded data removed]",
      "text/plain": [
       "<Figure size 286.5x648 with 3 Axes>"
      ]
     },
     "metadata": {},
     "output_type": "display_data"
    }
   ],
   "source": [
    "g = sns.FacetGrid(train_df, row = \"Embarked\", size = 3)\n",
    "g.map(sns.pointplot, \"Pclass\", \"Survived\", \"Sex\")\n",
    "g.add_legend()\n",
    "plt.show()"
   ]
  },
  {
   "cell_type": "markdown",
   "id": "coupled-wallace",
   "metadata": {
    "papermill": {
     "duration": 0.111822,
     "end_time": "2021-06-05T21:29:02.300878",
     "exception": false,
     "start_time": "2021-06-05T21:29:02.189056",
     "status": "completed"
    },
    "tags": []
   },
   "source": [
    "* Female passenger have more chance to survive, namely much better survival rate than males. This is supported by a further analysis above which is Sex vs Survived in Basic Analysis.\n",
    "* Males have better survival rates in Pclass in C.\n",
    "* Females have better survival rates in Pclass in S.\n",
    "* Females have better survival rates in Pclass in Q.\n",
    "* Embarked and Sex will be used ofr training."
   ]
  },
  {
   "cell_type": "markdown",
   "id": "devoted-confirmation",
   "metadata": {
    "papermill": {
     "duration": 0.111284,
     "end_time": "2021-06-05T21:29:02.523583",
     "exception": false,
     "start_time": "2021-06-05T21:29:02.412299",
     "status": "completed"
    },
    "tags": []
   },
   "source": [
    " <a id = \"19\"></a><br>\n",
    " ## Embarked -- Sex -- Fare -- Survived "
   ]
  },
  {
   "cell_type": "code",
   "execution_count": 34,
   "id": "northern-castle",
   "metadata": {
    "execution": {
     "iopub.execute_input": "2021-06-05T21:29:02.752594Z",
     "iopub.status.busy": "2021-06-05T21:29:02.750813Z",
     "iopub.status.idle": "2021-06-05T21:29:04.165187Z",
     "shell.execute_reply": "2021-06-05T21:29:04.165770Z",
     "shell.execute_reply.started": "2021-06-05T21:26:34.654219Z"
    },
    "papermill": {
     "duration": 1.530947,
     "end_time": "2021-06-05T21:29:04.165951",
     "exception": false,
     "start_time": "2021-06-05T21:29:02.635004",
     "status": "completed"
    },
    "tags": []
   },
   "outputs": [
    {
     "data": {
      "image/png": "[encoded data removed]",
      "text/plain": [
       "<Figure size 440x648 with 6 Axes>"
      ]
     },
     "metadata": {},
     "output_type": "display_data"
    }
   ],
   "source": [
    "g = sns.FacetGrid(train_df, row = \"Embarked\", col = \"Survived\", size = 3)\n",
    "g.map(sns.barplot, \"Sex\", \"Fare\")\n",
    "g.add_legend()\n",
    "plt.show()"
   ]
  },
  {
   "cell_type": "markdown",
   "id": "theoretical-porter",
   "metadata": {
    "papermill": {
     "duration": 0.112244,
     "end_time": "2021-06-05T21:29:04.391408",
     "exception": false,
     "start_time": "2021-06-05T21:29:04.279164",
     "status": "completed"
    },
    "tags": []
   },
   "source": [
    "* When fare goes up, survival rate also increases for passenger that deperated in S port. \n",
    "* When fare goes up, survival rate also increases for passenger that deperated in C port.\n",
    "* In port Q, the difference is not strong as it is in S and C.\n",
    "* Passengers who pay higher fare have better survival. Fare can be used as categorical for training."
   ]
  },
  {
   "cell_type": "markdown",
   "id": "composed-withdrawal",
   "metadata": {
    "papermill": {
     "duration": 0.129568,
     "end_time": "2021-06-05T21:29:04.632879",
     "exception": false,
     "start_time": "2021-06-05T21:29:04.503311",
     "status": "completed"
    },
    "tags": []
   },
   "source": [
    " <a id = \"20\"></a><br>\n",
    " ## Fill Missing: Age Feature"
   ]
  },
  {
   "cell_type": "code",
   "execution_count": 35,
   "id": "pressing-presence",
   "metadata": {
    "execution": {
     "iopub.execute_input": "2021-06-05T21:29:04.870146Z",
     "iopub.status.busy": "2021-06-05T21:29:04.869471Z",
     "iopub.status.idle": "2021-06-05T21:29:04.897286Z",
     "shell.execute_reply": "2021-06-05T21:29:04.896807Z",
     "shell.execute_reply.started": "2021-06-05T21:26:36.099049Z"
    },
    "papermill": {
     "duration": 0.142537,
     "end_time": "2021-06-05T21:29:04.897474",
     "exception": false,
     "start_time": "2021-06-05T21:29:04.754937",
     "status": "completed"
    },
    "tags": []
   },
   "outputs": [
    {
     "data": {
      "text/html": [
       "<div>\n",
       "<style scoped>\n",
       "    .dataframe tbody tr th:only-of-type {\n",
       "        vertical-align: middle;\n",
       "    }\n",
       "\n",
       "    .dataframe tbody tr th {\n",
       "        vertical-align: top;\n",
       "    }\n",
       "\n",
       "    .dataframe thead th {\n",
       "        text-align: right;\n",
       "    }\n",
       "</style>\n",
       "<table border=\"1\" class=\"dataframe\">\n",
       "  <thead>\n",
       "    <tr style=\"text-align: right;\">\n",
       "      <th></th>\n",
       "      <th>PassengerId</th>\n",
       "      <th>Survived</th>\n",
       "      <th>Pclass</th>\n",
       "      <th>Name</th>\n",
       "      <th>Sex</th>\n",
       "      <th>Age</th>\n",
       "      <th>SibSp</th>\n",
       "      <th>Parch</th>\n",
       "      <th>Ticket</th>\n",
       "      <th>Fare</th>\n",
       "      <th>Cabin</th>\n",
       "      <th>Embarked</th>\n",
       "    </tr>\n",
       "  </thead>\n",
       "  <tbody>\n",
       "    <tr>\n",
       "      <th>5</th>\n",
       "      <td>6</td>\n",
       "      <td>0.0</td>\n",
       "      <td>3</td>\n",
       "      <td>Moran, Mr. James</td>\n",
       "      <td>male</td>\n",
       "      <td>NaN</td>\n",
       "      <td>0</td>\n",
       "      <td>0</td>\n",
       "      <td>330877</td>\n",
       "      <td>8.4583</td>\n",
       "      <td>NaN</td>\n",
       "      <td>Q</td>\n",
       "    </tr>\n",
       "    <tr>\n",
       "      <th>17</th>\n",
       "      <td>18</td>\n",
       "      <td>1.0</td>\n",
       "      <td>2</td>\n",
       "      <td>Williams, Mr. Charles Eugene</td>\n",
       "      <td>male</td>\n",
       "      <td>NaN</td>\n",
       "      <td>0</td>\n",
       "      <td>0</td>\n",
       "      <td>244373</td>\n",
       "      <td>13.0000</td>\n",
       "      <td>NaN</td>\n",
       "      <td>S</td>\n",
       "    </tr>\n",
       "    <tr>\n",
       "      <th>19</th>\n",
       "      <td>20</td>\n",
       "      <td>1.0</td>\n",
       "      <td>3</td>\n",
       "      <td>Masselmani, Mrs. Fatima</td>\n",
       "      <td>female</td>\n",
       "      <td>NaN</td>\n",
       "      <td>0</td>\n",
       "      <td>0</td>\n",
       "      <td>2649</td>\n",
       "      <td>7.2250</td>\n",
       "      <td>NaN</td>\n",
       "      <td>C</td>\n",
       "    </tr>\n",
       "    <tr>\n",
       "      <th>26</th>\n",
       "      <td>27</td>\n",
       "      <td>0.0</td>\n",
       "      <td>3</td>\n",
       "      <td>Emir, Mr. Farred Chehab</td>\n",
       "      <td>male</td>\n",
       "      <td>NaN</td>\n",
       "      <td>0</td>\n",
       "      <td>0</td>\n",
       "      <td>2631</td>\n",
       "      <td>7.2250</td>\n",
       "      <td>NaN</td>\n",
       "      <td>C</td>\n",
       "    </tr>\n",
       "    <tr>\n",
       "      <th>27</th>\n",
       "      <td>29</td>\n",
       "      <td>1.0</td>\n",
       "      <td>3</td>\n",
       "      <td>O'Dwyer, Miss. Ellen \"Nellie\"</td>\n",
       "      <td>female</td>\n",
       "      <td>NaN</td>\n",
       "      <td>0</td>\n",
       "      <td>0</td>\n",
       "      <td>330959</td>\n",
       "      <td>7.8792</td>\n",
       "      <td>NaN</td>\n",
       "      <td>Q</td>\n",
       "    </tr>\n",
       "    <tr>\n",
       "      <th>...</th>\n",
       "      <td>...</td>\n",
       "      <td>...</td>\n",
       "      <td>...</td>\n",
       "      <td>...</td>\n",
       "      <td>...</td>\n",
       "      <td>...</td>\n",
       "      <td>...</td>\n",
       "      <td>...</td>\n",
       "      <td>...</td>\n",
       "      <td>...</td>\n",
       "      <td>...</td>\n",
       "      <td>...</td>\n",
       "    </tr>\n",
       "    <tr>\n",
       "      <th>1289</th>\n",
       "      <td>1300</td>\n",
       "      <td>NaN</td>\n",
       "      <td>3</td>\n",
       "      <td>Riordan, Miss. Johanna Hannah\"\"</td>\n",
       "      <td>female</td>\n",
       "      <td>NaN</td>\n",
       "      <td>0</td>\n",
       "      <td>0</td>\n",
       "      <td>334915</td>\n",
       "      <td>7.7208</td>\n",
       "      <td>NaN</td>\n",
       "      <td>Q</td>\n",
       "    </tr>\n",
       "    <tr>\n",
       "      <th>1291</th>\n",
       "      <td>1302</td>\n",
       "      <td>NaN</td>\n",
       "      <td>3</td>\n",
       "      <td>Naughton, Miss. Hannah</td>\n",
       "      <td>female</td>\n",
       "      <td>NaN</td>\n",
       "      <td>0</td>\n",
       "      <td>0</td>\n",
       "      <td>365237</td>\n",
       "      <td>7.7500</td>\n",
       "      <td>NaN</td>\n",
       "      <td>Q</td>\n",
       "    </tr>\n",
       "    <tr>\n",
       "      <th>1294</th>\n",
       "      <td>1305</td>\n",
       "      <td>NaN</td>\n",
       "      <td>3</td>\n",
       "      <td>Spector, Mr. Woolf</td>\n",
       "      <td>male</td>\n",
       "      <td>NaN</td>\n",
       "      <td>0</td>\n",
       "      <td>0</td>\n",
       "      <td>A.5. 3236</td>\n",
       "      <td>8.0500</td>\n",
       "      <td>NaN</td>\n",
       "      <td>S</td>\n",
       "    </tr>\n",
       "    <tr>\n",
       "      <th>1297</th>\n",
       "      <td>1308</td>\n",
       "      <td>NaN</td>\n",
       "      <td>3</td>\n",
       "      <td>Ware, Mr. Frederick</td>\n",
       "      <td>male</td>\n",
       "      <td>NaN</td>\n",
       "      <td>0</td>\n",
       "      <td>0</td>\n",
       "      <td>359309</td>\n",
       "      <td>8.0500</td>\n",
       "      <td>NaN</td>\n",
       "      <td>S</td>\n",
       "    </tr>\n",
       "    <tr>\n",
       "      <th>1298</th>\n",
       "      <td>1309</td>\n",
       "      <td>NaN</td>\n",
       "      <td>3</td>\n",
       "      <td>Peter, Master. Michael J</td>\n",
       "      <td>male</td>\n",
       "      <td>NaN</td>\n",
       "      <td>1</td>\n",
       "      <td>1</td>\n",
       "      <td>2668</td>\n",
       "      <td>22.3583</td>\n",
       "      <td>NaN</td>\n",
       "      <td>C</td>\n",
       "    </tr>\n",
       "  </tbody>\n",
       "</table>\n",
       "<p>256 rows × 12 columns</p>\n",
       "</div>"
      ],
      "text/plain": [
       "      PassengerId  Survived  Pclass                             Name     Sex  \\\n",
       "5               6       0.0       3                 Moran, Mr. James    male   \n",
       "17             18       1.0       2     Williams, Mr. Charles Eugene    male   \n",
       "19             20       1.0       3          Masselmani, Mrs. Fatima  female   \n",
       "26             27       0.0       3          Emir, Mr. Farred Chehab    male   \n",
       "27             29       1.0       3    O'Dwyer, Miss. Ellen \"Nellie\"  female   \n",
       "...           ...       ...     ...                              ...     ...   \n",
       "1289         1300       NaN       3  Riordan, Miss. Johanna Hannah\"\"  female   \n",
       "1291         1302       NaN       3           Naughton, Miss. Hannah  female   \n",
       "1294         1305       NaN       3               Spector, Mr. Woolf    male   \n",
       "1297         1308       NaN       3              Ware, Mr. Frederick    male   \n",
       "1298         1309       NaN       3         Peter, Master. Michael J    male   \n",
       "\n",
       "      Age  SibSp  Parch     Ticket     Fare Cabin Embarked  \n",
       "5     NaN      0      0     330877   8.4583   NaN        Q  \n",
       "17    NaN      0      0     244373  13.0000   NaN        S  \n",
       "19    NaN      0      0       2649   7.2250   NaN        C  \n",
       "26    NaN      0      0       2631   7.2250   NaN        C  \n",
       "27    NaN      0      0     330959   7.8792   NaN        Q  \n",
       "...   ...    ...    ...        ...      ...   ...      ...  \n",
       "1289  NaN      0      0     334915   7.7208   NaN        Q  \n",
       "1291  NaN      0      0     365237   7.7500   NaN        Q  \n",
       "1294  NaN      0      0  A.5. 3236   8.0500   NaN        S  \n",
       "1297  NaN      0      0     359309   8.0500   NaN        S  \n",
       "1298  NaN      1      1       2668  22.3583   NaN        C  \n",
       "\n",
       "[256 rows x 12 columns]"
      ]
     },
     "execution_count": 35,
     "metadata": {},
     "output_type": "execute_result"
    }
   ],
   "source": [
    "train_df[train_df[\"Age\"].isnull()]"
   ]
  },
  {
   "cell_type": "code",
   "execution_count": 36,
   "id": "three-indication",
   "metadata": {
    "execution": {
     "iopub.execute_input": "2021-06-05T21:29:05.134925Z",
     "iopub.status.busy": "2021-06-05T21:29:05.134247Z",
     "iopub.status.idle": "2021-06-05T21:29:05.395869Z",
     "shell.execute_reply": "2021-06-05T21:29:05.395229Z",
     "shell.execute_reply.started": "2021-06-05T21:26:36.132523Z"
    },
    "papermill": {
     "duration": 0.384744,
     "end_time": "2021-06-05T21:29:05.396011",
     "exception": false,
     "start_time": "2021-06-05T21:29:05.011267",
     "status": "completed"
    },
    "tags": []
   },
   "outputs": [
    {
     "data": {
      "image/png": "[encoded data removed]",
      "text/plain": [
       "<Figure size 360x360 with 1 Axes>"
      ]
     },
     "metadata": {},
     "output_type": "display_data"
    }
   ],
   "source": [
    "sns.factorplot(x = \"Sex\", y = \"Age\", data = train_df, kind = \"box\" )\n",
    "plt.show()"
   ]
  },
  {
   "cell_type": "markdown",
   "id": "regional-exclusion",
   "metadata": {
    "papermill": {
     "duration": 0.114666,
     "end_time": "2021-06-05T21:29:05.625486",
     "exception": false,
     "start_time": "2021-06-05T21:29:05.510820",
     "status": "completed"
    },
    "tags": []
   },
   "source": [
    "* Sex is not informative for age prediction. Because age distribution seems to be same with respect to sex."
   ]
  },
  {
   "cell_type": "code",
   "execution_count": 37,
   "id": "outside-moldova",
   "metadata": {
    "execution": {
     "iopub.execute_input": "2021-06-05T21:29:05.865773Z",
     "iopub.status.busy": "2021-06-05T21:29:05.864653Z",
     "iopub.status.idle": "2021-06-05T21:29:06.285419Z",
     "shell.execute_reply": "2021-06-05T21:29:06.284781Z",
     "shell.execute_reply.started": "2021-06-05T21:26:36.402708Z"
    },
    "papermill": {
     "duration": 0.544453,
     "end_time": "2021-06-05T21:29:06.285557",
     "exception": false,
     "start_time": "2021-06-05T21:29:05.741104",
     "status": "completed"
    },
    "tags": []
   },
   "outputs": [
    {
     "data": {
      "image/png": "[encoded data removed]",
      "text/plain": [
       "<Figure size 402.375x360 with 1 Axes>"
      ]
     },
     "metadata": {},
     "output_type": "display_data"
    }
   ],
   "source": [
    "sns.factorplot(x = \"Sex\", y = \"Age\", hue= \"Pclass\", data = train_df, kind = \"box\")\n",
    "plt.show()"
   ]
  },
  {
   "cell_type": "markdown",
   "id": "historical-plumbing",
   "metadata": {
    "papermill": {
     "duration": 0.114734,
     "end_time": "2021-06-05T21:29:06.515703",
     "exception": false,
     "start_time": "2021-06-05T21:29:06.400969",
     "status": "completed"
    },
    "tags": []
   },
   "source": [
    "* Pclass == 1 => age median is almost 40.\n",
    "* Pclass == 2 => age median is almost 30.\n",
    "* Pclass == 3 => age median is almost 25.\n",
    "* So, the oldest passengers are tend to be in 1st class, whereas the youngest passengers tend to be 3rd class."
   ]
  },
  {
   "cell_type": "code",
   "execution_count": 38,
   "id": "comparative-coast",
   "metadata": {
    "execution": {
     "iopub.execute_input": "2021-06-05T21:29:06.753728Z",
     "iopub.status.busy": "2021-06-05T21:29:06.752017Z",
     "iopub.status.idle": "2021-06-05T21:29:07.436707Z",
     "shell.execute_reply": "2021-06-05T21:29:07.436115Z",
     "shell.execute_reply.started": "2021-06-05T21:26:36.838941Z"
    },
    "papermill": {
     "duration": 0.806125,
     "end_time": "2021-06-05T21:29:07.437004",
     "exception": false,
     "start_time": "2021-06-05T21:29:06.630879",
     "status": "completed"
    },
    "tags": []
   },
   "outputs": [
    {
     "data": {
      "image/png": "[encoded data removed]",
      "text/plain": [
       "<Figure size 360x360 with 1 Axes>"
      ]
     },
     "metadata": {},
     "output_type": "display_data"
    },
    {
     "data": {
      "image/png": "[encoded data removed]",
      "text/plain": [
       "<Figure size 360x360 with 1 Axes>"
      ]
     },
     "metadata": {},
     "output_type": "display_data"
    }
   ],
   "source": [
    "sns.factorplot(x = \"Parch\", y = \"Age\", data = train_df, kind = \"box\")\n",
    "sns.factorplot(x = \"SibSp\", y = \"Age\", data = train_df, kind = \"box\")\n",
    "plt.show()"
   ]
  },
  {
   "cell_type": "markdown",
   "id": "clean-bracelet",
   "metadata": {
    "papermill": {
     "duration": 0.117023,
     "end_time": "2021-06-05T21:29:07.671632",
     "exception": false,
     "start_time": "2021-06-05T21:29:07.554609",
     "status": "completed"
    },
    "tags": []
   },
   "source": [
    "* If Parch is either 0 or 1, then passengers more likely to be around 20-30 year old. \n",
    "* If SibSp is either 0 or 1, then passengers more likely to be around 25-35 year old. "
   ]
  },
  {
   "cell_type": "code",
   "execution_count": 39,
   "id": "hired-microphone",
   "metadata": {
    "execution": {
     "iopub.execute_input": "2021-06-05T21:29:07.912197Z",
     "iopub.status.busy": "2021-06-05T21:29:07.911565Z",
     "iopub.status.idle": "2021-06-05T21:29:07.914429Z",
     "shell.execute_reply": "2021-06-05T21:29:07.913924Z",
     "shell.execute_reply.started": "2021-06-05T21:26:37.560609Z"
    },
    "papermill": {
     "duration": 0.125724,
     "end_time": "2021-06-05T21:29:07.914571",
     "exception": false,
     "start_time": "2021-06-05T21:29:07.788847",
     "status": "completed"
    },
    "tags": []
   },
   "outputs": [],
   "source": [
    "train_df[\"Sex\"] = [1 if i == \"male\" else 0 for i in train_df[\"Sex\"]]"
   ]
  },
  {
   "cell_type": "code",
   "execution_count": 40,
   "id": "painted-campbell",
   "metadata": {
    "execution": {
     "iopub.execute_input": "2021-06-05T21:29:08.170614Z",
     "iopub.status.busy": "2021-06-05T21:29:08.169497Z",
     "iopub.status.idle": "2021-06-05T21:29:08.670766Z",
     "shell.execute_reply": "2021-06-05T21:29:08.670238Z",
     "shell.execute_reply.started": "2021-06-05T21:26:37.568862Z"
    },
    "papermill": {
     "duration": 0.637961,
     "end_time": "2021-06-05T21:29:08.670911",
     "exception": false,
     "start_time": "2021-06-05T21:29:08.032950",
     "status": "completed"
    },
    "tags": []
   },
   "outputs": [
    {
     "data": {
      "image/png": "[encoded data removed]",
      "text/plain": [
       "<Figure size 432x288 with 2 Axes>"
      ]
     },
     "metadata": {},
     "output_type": "display_data"
    }
   ],
   "source": [
    "sns.heatmap(train_df[[\"Age\", \"Sex\", \"SibSp\", \"Parch\", \"Pclass\"]].corr(), annot = True)\n",
    "plt.show()"
   ]
  },
  {
   "cell_type": "markdown",
   "id": "technical-munich",
   "metadata": {
    "papermill": {
     "duration": 0.122352,
     "end_time": "2021-06-05T21:29:08.912039",
     "exception": false,
     "start_time": "2021-06-05T21:29:08.789687",
     "status": "completed"
    },
    "tags": []
   },
   "source": [
    "* Age is not correlated with sex but it is correlated with Parch, SibSp and Pclass."
   ]
  },
  {
   "cell_type": "code",
   "execution_count": 41,
   "id": "multiple-object",
   "metadata": {
    "execution": {
     "iopub.execute_input": "2021-06-05T21:29:09.162149Z",
     "iopub.status.busy": "2021-06-05T21:29:09.161486Z",
     "iopub.status.idle": "2021-06-05T21:29:09.825613Z",
     "shell.execute_reply": "2021-06-05T21:29:09.826145Z",
     "shell.execute_reply.started": "2021-06-05T21:26:38.068159Z"
    },
    "papermill": {
     "duration": 0.793806,
     "end_time": "2021-06-05T21:29:09.826328",
     "exception": false,
     "start_time": "2021-06-05T21:29:09.032522",
     "status": "completed"
    },
    "tags": []
   },
   "outputs": [],
   "source": [
    "index_nan_age = list(train_df[\"Age\"][train_df[\"Age\"].isnull()].index)\n",
    "for i in index_nan_age:\n",
    "    age_pred = train_df[\"Age\"][((train_df[\"SibSp\"] == train_df.iloc[i][\"SibSp\"]) & (train_df[\"Parch\"] == train_df.iloc[i][\"Parch\"]) & (train_df[\"Pclass\"] == train_df.iloc[i][\"Pclass\"]))].median()\n",
    "    age_median = train_df[\"Age\"].median()\n",
    "    if not np.isnan(age_pred):\n",
    "        train_df[\"Age\"].iloc[i] = age_pred\n",
    "    else:\n",
    "        train_df[\"Age\"].iloc[i] = age_median"
   ]
  },
  {
   "cell_type": "code",
   "execution_count": 42,
   "id": "analyzed-denver",
   "metadata": {
    "execution": {
     "iopub.execute_input": "2021-06-05T21:29:10.066808Z",
     "iopub.status.busy": "2021-06-05T21:29:10.066126Z",
     "iopub.status.idle": "2021-06-05T21:29:10.076647Z",
     "shell.execute_reply": "2021-06-05T21:29:10.077191Z",
     "shell.execute_reply.started": "2021-06-05T21:26:38.774310Z"
    },
    "papermill": {
     "duration": 0.133098,
     "end_time": "2021-06-05T21:29:10.077393",
     "exception": false,
     "start_time": "2021-06-05T21:29:09.944295",
     "status": "completed"
    },
    "tags": []
   },
   "outputs": [
    {
     "data": {
      "text/html": [
       "<div>\n",
       "<style scoped>\n",
       "    .dataframe tbody tr th:only-of-type {\n",
       "        vertical-align: middle;\n",
       "    }\n",
       "\n",
       "    .dataframe tbody tr th {\n",
       "        vertical-align: top;\n",
       "    }\n",
       "\n",
       "    .dataframe thead th {\n",
       "        text-align: right;\n",
       "    }\n",
       "</style>\n",
       "<table border=\"1\" class=\"dataframe\">\n",
       "  <thead>\n",
       "    <tr style=\"text-align: right;\">\n",
       "      <th></th>\n",
       "      <th>PassengerId</th>\n",
       "      <th>Survived</th>\n",
       "      <th>Pclass</th>\n",
       "      <th>Name</th>\n",
       "      <th>Sex</th>\n",
       "      <th>Age</th>\n",
       "      <th>SibSp</th>\n",
       "      <th>Parch</th>\n",
       "      <th>Ticket</th>\n",
       "      <th>Fare</th>\n",
       "      <th>Cabin</th>\n",
       "      <th>Embarked</th>\n",
       "    </tr>\n",
       "  </thead>\n",
       "  <tbody>\n",
       "  </tbody>\n",
       "</table>\n",
       "</div>"
      ],
      "text/plain": [
       "Empty DataFrame\n",
       "Columns: [PassengerId, Survived, Pclass, Name, Sex, Age, SibSp, Parch, Ticket, Fare, Cabin, Embarked]\n",
       "Index: []"
      ]
     },
     "execution_count": 42,
     "metadata": {},
     "output_type": "execute_result"
    }
   ],
   "source": [
    "train_df[train_df[\"Age\"].isnull()]"
   ]
  },
  {
   "cell_type": "markdown",
   "id": "brilliant-theory",
   "metadata": {
    "papermill": {
     "duration": 0.118697,
     "end_time": "2021-06-05T21:29:10.315209",
     "exception": false,
     "start_time": "2021-06-05T21:29:10.196512",
     "status": "completed"
    },
    "tags": []
   },
   "source": [
    " <a id = \"21\"></a><br>\n",
    " # Feature Engineering"
   ]
  },
  {
   "cell_type": "markdown",
   "id": "herbal-singapore",
   "metadata": {
    "papermill": {
     "duration": 0.117836,
     "end_time": "2021-06-05T21:29:10.552016",
     "exception": false,
     "start_time": "2021-06-05T21:29:10.434180",
     "status": "completed"
    },
    "tags": []
   },
   "source": [
    " <a id = \"22\"></a><br>\n",
    " ## Name -- Title"
   ]
  },
  {
   "cell_type": "code",
   "execution_count": 43,
   "id": "intelligent-serum",
   "metadata": {
    "execution": {
     "iopub.execute_input": "2021-06-05T21:29:10.796324Z",
     "iopub.status.busy": "2021-06-05T21:29:10.795681Z",
     "iopub.status.idle": "2021-06-05T21:29:10.802241Z",
     "shell.execute_reply": "2021-06-05T21:29:10.802818Z",
     "shell.execute_reply.started": "2021-06-05T21:26:38.786536Z"
    },
    "papermill": {
     "duration": 0.127941,
     "end_time": "2021-06-05T21:29:10.802989",
     "exception": false,
     "start_time": "2021-06-05T21:29:10.675048",
     "status": "completed"
    },
    "tags": []
   },
   "outputs": [
    {
     "data": {
      "text/plain": [
       "0                              Braund, Mr. Owen Harris\n",
       "1    Cumings, Mrs. John Bradley (Florence Briggs Th...\n",
       "2                               Heikkinen, Miss. Laina\n",
       "3         Futrelle, Mrs. Jacques Heath (Lily May Peel)\n",
       "4                             Allen, Mr. William Henry\n",
       "5                                     Moran, Mr. James\n",
       "6                              McCarthy, Mr. Timothy J\n",
       "7                       Palsson, Master. Gosta Leonard\n",
       "8    Johnson, Mrs. Oscar W (Elisabeth Vilhelmina Berg)\n",
       "9                  Nasser, Mrs. Nicholas (Adele Achem)\n",
       "Name: Name, dtype: object"
      ]
     },
     "execution_count": 43,
     "metadata": {},
     "output_type": "execute_result"
    }
   ],
   "source": [
    "train_df[\"Name\"].head(10)"
   ]
  },
  {
   "cell_type": "code",
   "execution_count": 44,
   "id": "numerous-omaha",
   "metadata": {
    "execution": {
     "iopub.execute_input": "2021-06-05T21:29:11.045590Z",
     "iopub.status.busy": "2021-06-05T21:29:11.044954Z",
     "iopub.status.idle": "2021-06-05T21:29:11.051678Z",
     "shell.execute_reply": "2021-06-05T21:29:11.052302Z",
     "shell.execute_reply.started": "2021-06-05T21:26:38.804629Z"
    },
    "papermill": {
     "duration": 0.130441,
     "end_time": "2021-06-05T21:29:11.052509",
     "exception": false,
     "start_time": "2021-06-05T21:29:10.922068",
     "status": "completed"
    },
    "tags": []
   },
   "outputs": [],
   "source": [
    "name = train_df[\"Name\"]\n",
    "train_df[\"Title\"] = [i.split(\".\")[0].split(\",\")[-1].strip() for i in name]"
   ]
  },
  {
   "cell_type": "code",
   "execution_count": 45,
   "id": "improved-precipitation",
   "metadata": {
    "execution": {
     "iopub.execute_input": "2021-06-05T21:29:11.294529Z",
     "iopub.status.busy": "2021-06-05T21:29:11.293845Z",
     "iopub.status.idle": "2021-06-05T21:29:11.300727Z",
     "shell.execute_reply": "2021-06-05T21:29:11.300217Z",
     "shell.execute_reply.started": "2021-06-05T21:26:38.818473Z"
    },
    "papermill": {
     "duration": 0.127828,
     "end_time": "2021-06-05T21:29:11.300879",
     "exception": false,
     "start_time": "2021-06-05T21:29:11.173051",
     "status": "completed"
    },
    "tags": []
   },
   "outputs": [
    {
     "data": {
      "text/plain": [
       "0      Mr\n",
       "1     Mrs\n",
       "2    Miss\n",
       "3     Mrs\n",
       "4      Mr\n",
       "Name: Title, dtype: object"
      ]
     },
     "execution_count": 45,
     "metadata": {},
     "output_type": "execute_result"
    }
   ],
   "source": [
    "train_df[\"Title\"].head()"
   ]
  },
  {
   "cell_type": "code",
   "execution_count": 46,
   "id": "crude-grain",
   "metadata": {
    "execution": {
     "iopub.execute_input": "2021-06-05T21:29:11.546687Z",
     "iopub.status.busy": "2021-06-05T21:29:11.545904Z",
     "iopub.status.idle": "2021-06-05T21:29:11.769990Z",
     "shell.execute_reply": "2021-06-05T21:29:11.769357Z",
     "shell.execute_reply.started": "2021-06-05T21:26:38.835447Z"
    },
    "papermill": {
     "duration": 0.349531,
     "end_time": "2021-06-05T21:29:11.770139",
     "exception": false,
     "start_time": "2021-06-05T21:29:11.420608",
     "status": "completed"
    },
    "tags": []
   },
   "outputs": [
    {
     "data": {
      "image/png": "[encoded data removed]",
      "text/plain": [
       "<Figure size 432x288 with 1 Axes>"
      ]
     },
     "metadata": {},
     "output_type": "display_data"
    }
   ],
   "source": [
    "sns.countplot(x = \"Title\", data = train_df)\n",
    "plt.xticks(rotation = 60)\n",
    "plt.show()"
   ]
  },
  {
   "cell_type": "code",
   "execution_count": 47,
   "id": "eleven-harbor",
   "metadata": {
    "execution": {
     "iopub.execute_input": "2021-06-05T21:29:12.022009Z",
     "iopub.status.busy": "2021-06-05T21:29:12.021294Z",
     "iopub.status.idle": "2021-06-05T21:29:12.026031Z",
     "shell.execute_reply": "2021-06-05T21:29:12.026541Z",
     "shell.execute_reply.started": "2021-06-05T21:26:39.084268Z"
    },
    "papermill": {
     "duration": 0.133531,
     "end_time": "2021-06-05T21:29:12.026716",
     "exception": false,
     "start_time": "2021-06-05T21:29:11.893185",
     "status": "completed"
    },
    "tags": []
   },
   "outputs": [],
   "source": [
    "# convert to categorical \n",
    "train_df[\"Title\"] = train_df[\"Title\"].replace([\"Lady\", \"the Countess\", \"Capt\", \"Don\", \"Dr\", \"Major\", \"Rev\", \"Sir\", \"Jonkheer\", \"Dona\"], \"other\")\n",
    "train_df[\"Title\"] = [0 if i == \"Master\" else 1 if i == \"Miss\" or i == \"Ms\" or i == \"Mlle\" or i == \"Mrs\" else 2 if i == \"Mr\" else 3 for i in train_df[\"Title\"] ]"
   ]
  },
  {
   "cell_type": "code",
   "execution_count": 48,
   "id": "overhead-classic",
   "metadata": {
    "execution": {
     "iopub.execute_input": "2021-06-05T21:29:12.269898Z",
     "iopub.status.busy": "2021-06-05T21:29:12.269242Z",
     "iopub.status.idle": "2021-06-05T21:29:12.391924Z",
     "shell.execute_reply": "2021-06-05T21:29:12.392490Z",
     "shell.execute_reply.started": "2021-06-05T21:26:39.098384Z"
    },
    "papermill": {
     "duration": 0.245545,
     "end_time": "2021-06-05T21:29:12.392674",
     "exception": false,
     "start_time": "2021-06-05T21:29:12.147129",
     "status": "completed"
    },
    "tags": []
   },
   "outputs": [
    {
     "data": {
      "image/png": "[encoded data removed]",
      "text/plain": [
       "<Figure size 432x288 with 1 Axes>"
      ]
     },
     "metadata": {},
     "output_type": "display_data"
    }
   ],
   "source": [
    "sns.countplot(x = \"Title\", data = train_df)\n",
    "plt.xticks(rotation = 60)\n",
    "plt.show()"
   ]
  },
  {
   "cell_type": "code",
   "execution_count": 49,
   "id": "suitable-merchandise",
   "metadata": {
    "execution": {
     "iopub.execute_input": "2021-06-05T21:29:12.639132Z",
     "iopub.status.busy": "2021-06-05T21:29:12.638444Z",
     "iopub.status.idle": "2021-06-05T21:29:13.017735Z",
     "shell.execute_reply": "2021-06-05T21:29:13.018196Z",
     "shell.execute_reply.started": "2021-06-05T21:26:39.247810Z"
    },
    "papermill": {
     "duration": 0.503881,
     "end_time": "2021-06-05T21:29:13.018396",
     "exception": false,
     "start_time": "2021-06-05T21:29:12.514515",
     "status": "completed"
    },
    "tags": []
   },
   "outputs": [
    {
     "data": {
      "text/plain": [
       "<seaborn.axisgrid.FacetGrid at 0x7f2c7cfed0d0>"
      ]
     },
     "execution_count": 49,
     "metadata": {},
     "output_type": "execute_result"
    },
    {
     "data": {
      "image/png": "[encoded data removed]",
      "text/plain": [
       "<Figure size 360x360 with 1 Axes>"
      ]
     },
     "metadata": {},
     "output_type": "display_data"
    }
   ],
   "source": [
    "g = sns.factorplot(x = \"Title\", y = \"Survived\", data = train_df, kind = \"bar\")\n",
    "g.set_xticklabels([\"Master\", \"Mrs\", \"Mr\", \"Other\"])\n",
    "g.set_ylabels(\"Survival Probability\")"
   ]
  },
  {
   "cell_type": "markdown",
   "id": "flexible-calculation",
   "metadata": {
    "papermill": {
     "duration": 0.123873,
     "end_time": "2021-06-05T21:29:13.266965",
     "exception": false,
     "start_time": "2021-06-05T21:29:13.143092",
     "status": "completed"
    },
    "tags": []
   },
   "source": []
  },
  {
   "cell_type": "code",
   "execution_count": 50,
   "id": "numerous-drunk",
   "metadata": {
    "execution": {
     "iopub.execute_input": "2021-06-05T21:29:13.515287Z",
     "iopub.status.busy": "2021-06-05T21:29:13.514683Z",
     "iopub.status.idle": "2021-06-05T21:29:13.519591Z",
     "shell.execute_reply": "2021-06-05T21:29:13.520095Z",
     "shell.execute_reply.started": "2021-06-05T21:26:39.643266Z"
    },
    "papermill": {
     "duration": 0.130187,
     "end_time": "2021-06-05T21:29:13.520260",
     "exception": false,
     "start_time": "2021-06-05T21:29:13.390073",
     "status": "completed"
    },
    "tags": []
   },
   "outputs": [],
   "source": [
    "train_df.drop(labels = [\"Name\"], axis = 1, inplace = True)\n"
   ]
  },
  {
   "cell_type": "code",
   "execution_count": 51,
   "id": "agreed-priority",
   "metadata": {
    "execution": {
     "iopub.execute_input": "2021-06-05T21:29:13.770556Z",
     "iopub.status.busy": "2021-06-05T21:29:13.769876Z",
     "iopub.status.idle": "2021-06-05T21:29:13.785070Z",
     "shell.execute_reply": "2021-06-05T21:29:13.785631Z",
     "shell.execute_reply.started": "2021-06-05T21:26:39.655012Z"
    },
    "papermill": {
     "duration": 0.143731,
     "end_time": "2021-06-05T21:29:13.785809",
     "exception": false,
     "start_time": "2021-06-05T21:29:13.642078",
     "status": "completed"
    },
    "tags": []
   },
   "outputs": [
    {
     "data": {
      "text/html": [
       "<div>\n",
       "<style scoped>\n",
       "    .dataframe tbody tr th:only-of-type {\n",
       "        vertical-align: middle;\n",
       "    }\n",
       "\n",
       "    .dataframe tbody tr th {\n",
       "        vertical-align: top;\n",
       "    }\n",
       "\n",
       "    .dataframe thead th {\n",
       "        text-align: right;\n",
       "    }\n",
       "</style>\n",
       "<table border=\"1\" class=\"dataframe\">\n",
       "  <thead>\n",
       "    <tr style=\"text-align: right;\">\n",
       "      <th></th>\n",
       "      <th>PassengerId</th>\n",
       "      <th>Survived</th>\n",
       "      <th>Pclass</th>\n",
       "      <th>Sex</th>\n",
       "      <th>Age</th>\n",
       "      <th>SibSp</th>\n",
       "      <th>Parch</th>\n",
       "      <th>Ticket</th>\n",
       "      <th>Fare</th>\n",
       "      <th>Cabin</th>\n",
       "      <th>Embarked</th>\n",
       "      <th>Title</th>\n",
       "    </tr>\n",
       "  </thead>\n",
       "  <tbody>\n",
       "    <tr>\n",
       "      <th>0</th>\n",
       "      <td>1</td>\n",
       "      <td>0.0</td>\n",
       "      <td>3</td>\n",
       "      <td>1</td>\n",
       "      <td>22.0</td>\n",
       "      <td>1</td>\n",
       "      <td>0</td>\n",
       "      <td>A/5 21171</td>\n",
       "      <td>7.2500</td>\n",
       "      <td>NaN</td>\n",
       "      <td>S</td>\n",
       "      <td>2</td>\n",
       "    </tr>\n",
       "    <tr>\n",
       "      <th>1</th>\n",
       "      <td>2</td>\n",
       "      <td>1.0</td>\n",
       "      <td>1</td>\n",
       "      <td>0</td>\n",
       "      <td>38.0</td>\n",
       "      <td>1</td>\n",
       "      <td>0</td>\n",
       "      <td>PC 17599</td>\n",
       "      <td>71.2833</td>\n",
       "      <td>C85</td>\n",
       "      <td>C</td>\n",
       "      <td>1</td>\n",
       "    </tr>\n",
       "    <tr>\n",
       "      <th>2</th>\n",
       "      <td>3</td>\n",
       "      <td>1.0</td>\n",
       "      <td>3</td>\n",
       "      <td>0</td>\n",
       "      <td>26.0</td>\n",
       "      <td>0</td>\n",
       "      <td>0</td>\n",
       "      <td>STON/O2. 3101282</td>\n",
       "      <td>7.9250</td>\n",
       "      <td>NaN</td>\n",
       "      <td>S</td>\n",
       "      <td>1</td>\n",
       "    </tr>\n",
       "    <tr>\n",
       "      <th>3</th>\n",
       "      <td>4</td>\n",
       "      <td>1.0</td>\n",
       "      <td>1</td>\n",
       "      <td>0</td>\n",
       "      <td>35.0</td>\n",
       "      <td>1</td>\n",
       "      <td>0</td>\n",
       "      <td>113803</td>\n",
       "      <td>53.1000</td>\n",
       "      <td>C123</td>\n",
       "      <td>S</td>\n",
       "      <td>1</td>\n",
       "    </tr>\n",
       "    <tr>\n",
       "      <th>4</th>\n",
       "      <td>5</td>\n",
       "      <td>0.0</td>\n",
       "      <td>3</td>\n",
       "      <td>1</td>\n",
       "      <td>35.0</td>\n",
       "      <td>0</td>\n",
       "      <td>0</td>\n",
       "      <td>373450</td>\n",
       "      <td>8.0500</td>\n",
       "      <td>NaN</td>\n",
       "      <td>S</td>\n",
       "      <td>2</td>\n",
       "    </tr>\n",
       "  </tbody>\n",
       "</table>\n",
       "</div>"
      ],
      "text/plain": [
       "   PassengerId  Survived  Pclass  Sex   Age  SibSp  Parch            Ticket  \\\n",
       "0            1       0.0       3    1  22.0      1      0         A/5 21171   \n",
       "1            2       1.0       1    0  38.0      1      0          PC 17599   \n",
       "2            3       1.0       3    0  26.0      0      0  STON/O2. 3101282   \n",
       "3            4       1.0       1    0  35.0      1      0            113803   \n",
       "4            5       0.0       3    1  35.0      0      0            373450   \n",
       "\n",
       "      Fare Cabin Embarked  Title  \n",
       "0   7.2500   NaN        S      2  \n",
       "1  71.2833   C85        C      1  \n",
       "2   7.9250   NaN        S      1  \n",
       "3  53.1000  C123        S      1  \n",
       "4   8.0500   NaN        S      2  "
      ]
     },
     "execution_count": 51,
     "metadata": {},
     "output_type": "execute_result"
    }
   ],
   "source": [
    "train_df.head()"
   ]
  },
  {
   "cell_type": "code",
   "execution_count": 52,
   "id": "streaming-entertainment",
   "metadata": {
    "execution": {
     "iopub.execute_input": "2021-06-05T21:29:14.034530Z",
     "iopub.status.busy": "2021-06-05T21:29:14.033866Z",
     "iopub.status.idle": "2021-06-05T21:29:14.057856Z",
     "shell.execute_reply": "2021-06-05T21:29:14.057140Z",
     "shell.execute_reply.started": "2021-06-05T21:26:39.679385Z"
    },
    "papermill": {
     "duration": 0.150381,
     "end_time": "2021-06-05T21:29:14.057996",
     "exception": false,
     "start_time": "2021-06-05T21:29:13.907615",
     "status": "completed"
    },
    "tags": []
   },
   "outputs": [
    {
     "data": {
      "text/html": [
       "<div>\n",
       "<style scoped>\n",
       "    .dataframe tbody tr th:only-of-type {\n",
       "        vertical-align: middle;\n",
       "    }\n",
       "\n",
       "    .dataframe tbody tr th {\n",
       "        vertical-align: top;\n",
       "    }\n",
       "\n",
       "    .dataframe thead th {\n",
       "        text-align: right;\n",
       "    }\n",
       "</style>\n",
       "<table border=\"1\" class=\"dataframe\">\n",
       "  <thead>\n",
       "    <tr style=\"text-align: right;\">\n",
       "      <th></th>\n",
       "      <th>PassengerId</th>\n",
       "      <th>Survived</th>\n",
       "      <th>Pclass</th>\n",
       "      <th>Sex</th>\n",
       "      <th>Age</th>\n",
       "      <th>SibSp</th>\n",
       "      <th>Parch</th>\n",
       "      <th>Ticket</th>\n",
       "      <th>Fare</th>\n",
       "      <th>Cabin</th>\n",
       "      <th>Embarked</th>\n",
       "      <th>Title_0</th>\n",
       "      <th>Title_1</th>\n",
       "      <th>Title_2</th>\n",
       "      <th>Title_3</th>\n",
       "    </tr>\n",
       "  </thead>\n",
       "  <tbody>\n",
       "    <tr>\n",
       "      <th>0</th>\n",
       "      <td>1</td>\n",
       "      <td>0.0</td>\n",
       "      <td>3</td>\n",
       "      <td>1</td>\n",
       "      <td>22.0</td>\n",
       "      <td>1</td>\n",
       "      <td>0</td>\n",
       "      <td>A/5 21171</td>\n",
       "      <td>7.2500</td>\n",
       "      <td>NaN</td>\n",
       "      <td>S</td>\n",
       "      <td>0</td>\n",
       "      <td>0</td>\n",
       "      <td>1</td>\n",
       "      <td>0</td>\n",
       "    </tr>\n",
       "    <tr>\n",
       "      <th>1</th>\n",
       "      <td>2</td>\n",
       "      <td>1.0</td>\n",
       "      <td>1</td>\n",
       "      <td>0</td>\n",
       "      <td>38.0</td>\n",
       "      <td>1</td>\n",
       "      <td>0</td>\n",
       "      <td>PC 17599</td>\n",
       "      <td>71.2833</td>\n",
       "      <td>C85</td>\n",
       "      <td>C</td>\n",
       "      <td>0</td>\n",
       "      <td>1</td>\n",
       "      <td>0</td>\n",
       "      <td>0</td>\n",
       "    </tr>\n",
       "    <tr>\n",
       "      <th>2</th>\n",
       "      <td>3</td>\n",
       "      <td>1.0</td>\n",
       "      <td>3</td>\n",
       "      <td>0</td>\n",
       "      <td>26.0</td>\n",
       "      <td>0</td>\n",
       "      <td>0</td>\n",
       "      <td>STON/O2. 3101282</td>\n",
       "      <td>7.9250</td>\n",
       "      <td>NaN</td>\n",
       "      <td>S</td>\n",
       "      <td>0</td>\n",
       "      <td>1</td>\n",
       "      <td>0</td>\n",
       "      <td>0</td>\n",
       "    </tr>\n",
       "    <tr>\n",
       "      <th>3</th>\n",
       "      <td>4</td>\n",
       "      <td>1.0</td>\n",
       "      <td>1</td>\n",
       "      <td>0</td>\n",
       "      <td>35.0</td>\n",
       "      <td>1</td>\n",
       "      <td>0</td>\n",
       "      <td>113803</td>\n",
       "      <td>53.1000</td>\n",
       "      <td>C123</td>\n",
       "      <td>S</td>\n",
       "      <td>0</td>\n",
       "      <td>1</td>\n",
       "      <td>0</td>\n",
       "      <td>0</td>\n",
       "    </tr>\n",
       "    <tr>\n",
       "      <th>4</th>\n",
       "      <td>5</td>\n",
       "      <td>0.0</td>\n",
       "      <td>3</td>\n",
       "      <td>1</td>\n",
       "      <td>35.0</td>\n",
       "      <td>0</td>\n",
       "      <td>0</td>\n",
       "      <td>373450</td>\n",
       "      <td>8.0500</td>\n",
       "      <td>NaN</td>\n",
       "      <td>S</td>\n",
       "      <td>0</td>\n",
       "      <td>0</td>\n",
       "      <td>1</td>\n",
       "      <td>0</td>\n",
       "    </tr>\n",
       "  </tbody>\n",
       "</table>\n",
       "</div>"
      ],
      "text/plain": [
       "   PassengerId  Survived  Pclass  Sex   Age  SibSp  Parch            Ticket  \\\n",
       "0            1       0.0       3    1  22.0      1      0         A/5 21171   \n",
       "1            2       1.0       1    0  38.0      1      0          PC 17599   \n",
       "2            3       1.0       3    0  26.0      0      0  STON/O2. 3101282   \n",
       "3            4       1.0       1    0  35.0      1      0            113803   \n",
       "4            5       0.0       3    1  35.0      0      0            373450   \n",
       "\n",
       "      Fare Cabin Embarked  Title_0  Title_1  Title_2  Title_3  \n",
       "0   7.2500   NaN        S        0        0        1        0  \n",
       "1  71.2833   C85        C        0        1        0        0  \n",
       "2   7.9250   NaN        S        0        1        0        0  \n",
       "3  53.1000  C123        S        0        1        0        0  \n",
       "4   8.0500   NaN        S        0        0        1        0  "
      ]
     },
     "execution_count": 52,
     "metadata": {},
     "output_type": "execute_result"
    }
   ],
   "source": [
    "train_df = pd.get_dummies(train_df, columns = [\"Title\"])\n",
    "train_df.head()"
   ]
  },
  {
   "cell_type": "markdown",
   "id": "suspected-imagination",
   "metadata": {
    "papermill": {
     "duration": 0.122833,
     "end_time": "2021-06-05T21:29:14.305870",
     "exception": false,
     "start_time": "2021-06-05T21:29:14.183037",
     "status": "completed"
    },
    "tags": []
   },
   "source": [
    " <a id = \"23\"></a><br>\n",
    " ## Family Size"
   ]
  },
  {
   "cell_type": "code",
   "execution_count": 53,
   "id": "eastern-premiere",
   "metadata": {
    "execution": {
     "iopub.execute_input": "2021-06-05T21:29:14.571891Z",
     "iopub.status.busy": "2021-06-05T21:29:14.570925Z",
     "iopub.status.idle": "2021-06-05T21:29:14.574812Z",
     "shell.execute_reply": "2021-06-05T21:29:14.575276Z",
     "shell.execute_reply.started": "2021-06-05T21:26:39.714996Z"
    },
    "papermill": {
     "duration": 0.145739,
     "end_time": "2021-06-05T21:29:14.575469",
     "exception": false,
     "start_time": "2021-06-05T21:29:14.429730",
     "status": "completed"
    },
    "tags": []
   },
   "outputs": [
    {
     "data": {
      "text/html": [
       "<div>\n",
       "<style scoped>\n",
       "    .dataframe tbody tr th:only-of-type {\n",
       "        vertical-align: middle;\n",
       "    }\n",
       "\n",
       "    .dataframe tbody tr th {\n",
       "        vertical-align: top;\n",
       "    }\n",
       "\n",
       "    .dataframe thead th {\n",
       "        text-align: right;\n",
       "    }\n",
       "</style>\n",
       "<table border=\"1\" class=\"dataframe\">\n",
       "  <thead>\n",
       "    <tr style=\"text-align: right;\">\n",
       "      <th></th>\n",
       "      <th>PassengerId</th>\n",
       "      <th>Survived</th>\n",
       "      <th>Pclass</th>\n",
       "      <th>Sex</th>\n",
       "      <th>Age</th>\n",
       "      <th>SibSp</th>\n",
       "      <th>Parch</th>\n",
       "      <th>Ticket</th>\n",
       "      <th>Fare</th>\n",
       "      <th>Cabin</th>\n",
       "      <th>Embarked</th>\n",
       "      <th>Title_0</th>\n",
       "      <th>Title_1</th>\n",
       "      <th>Title_2</th>\n",
       "      <th>Title_3</th>\n",
       "    </tr>\n",
       "  </thead>\n",
       "  <tbody>\n",
       "    <tr>\n",
       "      <th>0</th>\n",
       "      <td>1</td>\n",
       "      <td>0.0</td>\n",
       "      <td>3</td>\n",
       "      <td>1</td>\n",
       "      <td>22.0</td>\n",
       "      <td>1</td>\n",
       "      <td>0</td>\n",
       "      <td>A/5 21171</td>\n",
       "      <td>7.2500</td>\n",
       "      <td>NaN</td>\n",
       "      <td>S</td>\n",
       "      <td>0</td>\n",
       "      <td>0</td>\n",
       "      <td>1</td>\n",
       "      <td>0</td>\n",
       "    </tr>\n",
       "    <tr>\n",
       "      <th>1</th>\n",
       "      <td>2</td>\n",
       "      <td>1.0</td>\n",
       "      <td>1</td>\n",
       "      <td>0</td>\n",
       "      <td>38.0</td>\n",
       "      <td>1</td>\n",
       "      <td>0</td>\n",
       "      <td>PC 17599</td>\n",
       "      <td>71.2833</td>\n",
       "      <td>C85</td>\n",
       "      <td>C</td>\n",
       "      <td>0</td>\n",
       "      <td>1</td>\n",
       "      <td>0</td>\n",
       "      <td>0</td>\n",
       "    </tr>\n",
       "    <tr>\n",
       "      <th>2</th>\n",
       "      <td>3</td>\n",
       "      <td>1.0</td>\n",
       "      <td>3</td>\n",
       "      <td>0</td>\n",
       "      <td>26.0</td>\n",
       "      <td>0</td>\n",
       "      <td>0</td>\n",
       "      <td>STON/O2. 3101282</td>\n",
       "      <td>7.9250</td>\n",
       "      <td>NaN</td>\n",
       "      <td>S</td>\n",
       "      <td>0</td>\n",
       "      <td>1</td>\n",
       "      <td>0</td>\n",
       "      <td>0</td>\n",
       "    </tr>\n",
       "    <tr>\n",
       "      <th>3</th>\n",
       "      <td>4</td>\n",
       "      <td>1.0</td>\n",
       "      <td>1</td>\n",
       "      <td>0</td>\n",
       "      <td>35.0</td>\n",
       "      <td>1</td>\n",
       "      <td>0</td>\n",
       "      <td>113803</td>\n",
       "      <td>53.1000</td>\n",
       "      <td>C123</td>\n",
       "      <td>S</td>\n",
       "      <td>0</td>\n",
       "      <td>1</td>\n",
       "      <td>0</td>\n",
       "      <td>0</td>\n",
       "    </tr>\n",
       "    <tr>\n",
       "      <th>4</th>\n",
       "      <td>5</td>\n",
       "      <td>0.0</td>\n",
       "      <td>3</td>\n",
       "      <td>1</td>\n",
       "      <td>35.0</td>\n",
       "      <td>0</td>\n",
       "      <td>0</td>\n",
       "      <td>373450</td>\n",
       "      <td>8.0500</td>\n",
       "      <td>NaN</td>\n",
       "      <td>S</td>\n",
       "      <td>0</td>\n",
       "      <td>0</td>\n",
       "      <td>1</td>\n",
       "      <td>0</td>\n",
       "    </tr>\n",
       "  </tbody>\n",
       "</table>\n",
       "</div>"
      ],
      "text/plain": [
       "   PassengerId  Survived  Pclass  Sex   Age  SibSp  Parch            Ticket  \\\n",
       "0            1       0.0       3    1  22.0      1      0         A/5 21171   \n",
       "1            2       1.0       1    0  38.0      1      0          PC 17599   \n",
       "2            3       1.0       3    0  26.0      0      0  STON/O2. 3101282   \n",
       "3            4       1.0       1    0  35.0      1      0            113803   \n",
       "4            5       0.0       3    1  35.0      0      0            373450   \n",
       "\n",
       "      Fare Cabin Embarked  Title_0  Title_1  Title_2  Title_3  \n",
       "0   7.2500   NaN        S        0        0        1        0  \n",
       "1  71.2833   C85        C        0        1        0        0  \n",
       "2   7.9250   NaN        S        0        1        0        0  \n",
       "3  53.1000  C123        S        0        1        0        0  \n",
       "4   8.0500   NaN        S        0        0        1        0  "
      ]
     },
     "execution_count": 53,
     "metadata": {},
     "output_type": "execute_result"
    }
   ],
   "source": [
    "train_df.head()"
   ]
  },
  {
   "cell_type": "code",
   "execution_count": 54,
   "id": "passing-campaign",
   "metadata": {
    "execution": {
     "iopub.execute_input": "2021-06-05T21:29:14.830333Z",
     "iopub.status.busy": "2021-06-05T21:29:14.829296Z",
     "iopub.status.idle": "2021-06-05T21:29:14.832360Z",
     "shell.execute_reply": "2021-06-05T21:29:14.831762Z",
     "shell.execute_reply.started": "2021-06-05T21:26:39.738079Z"
    },
    "papermill": {
     "duration": 0.13413,
     "end_time": "2021-06-05T21:29:14.832515",
     "exception": false,
     "start_time": "2021-06-05T21:29:14.698385",
     "status": "completed"
    },
    "tags": []
   },
   "outputs": [],
   "source": [
    "# The reason for adding 1 is even passenger has no realtive he/she is still a family\n",
    "train_df[\"Fsize\"] = train_df[\"SibSp\"] + train_df[\"Parch\"] + 1"
   ]
  },
  {
   "cell_type": "code",
   "execution_count": 55,
   "id": "satellite-commons",
   "metadata": {
    "execution": {
     "iopub.execute_input": "2021-06-05T21:29:15.092694Z",
     "iopub.status.busy": "2021-06-05T21:29:15.091633Z",
     "iopub.status.idle": "2021-06-05T21:29:15.615041Z",
     "shell.execute_reply": "2021-06-05T21:29:15.615636Z",
     "shell.execute_reply.started": "2021-06-05T21:26:39.755036Z"
    },
    "papermill": {
     "duration": 0.658999,
     "end_time": "2021-06-05T21:29:15.615828",
     "exception": false,
     "start_time": "2021-06-05T21:29:14.956829",
     "status": "completed"
    },
    "tags": []
   },
   "outputs": [
    {
     "data": {
      "image/png": "[encoded data removed]",
      "text/plain": [
       "<Figure size 360x360 with 1 Axes>"
      ]
     },
     "metadata": {},
     "output_type": "display_data"
    }
   ],
   "source": [
    "g = sns.factorplot(x = \"Fsize\", y = \"Survived\", data = train_df, kind = \"bar\")\n",
    "g.set_ylabels(\"Survival\")\n",
    "plt.show()"
   ]
  },
  {
   "cell_type": "markdown",
   "id": "above-somalia",
   "metadata": {
    "papermill": {
     "duration": 0.126415,
     "end_time": "2021-06-05T21:29:15.877834",
     "exception": false,
     "start_time": "2021-06-05T21:29:15.751419",
     "status": "completed"
    },
    "tags": []
   },
   "source": [
    "* Family size 4'e kdara artış gösteririken 5 olunca aniden düşüş yaşıyor."
   ]
  },
  {
   "cell_type": "code",
   "execution_count": 56,
   "id": "immediate-updating",
   "metadata": {
    "execution": {
     "iopub.execute_input": "2021-06-05T21:29:16.135700Z",
     "iopub.status.busy": "2021-06-05T21:29:16.134650Z",
     "iopub.status.idle": "2021-06-05T21:29:16.136876Z",
     "shell.execute_reply": "2021-06-05T21:29:16.137512Z",
     "shell.execute_reply.started": "2021-06-05T21:26:40.299740Z"
    },
    "papermill": {
     "duration": 0.135239,
     "end_time": "2021-06-05T21:29:16.137702",
     "exception": false,
     "start_time": "2021-06-05T21:29:16.002463",
     "status": "completed"
    },
    "tags": []
   },
   "outputs": [],
   "source": [
    "train_df[\"family_size\"] = [1 if i < 5 else 0 for i in train_df[\"Fsize\"]]"
   ]
  },
  {
   "cell_type": "code",
   "execution_count": 57,
   "id": "italian-wagner",
   "metadata": {
    "execution": {
     "iopub.execute_input": "2021-06-05T21:29:16.389941Z",
     "iopub.status.busy": "2021-06-05T21:29:16.388989Z",
     "iopub.status.idle": "2021-06-05T21:29:16.410993Z",
     "shell.execute_reply": "2021-06-05T21:29:16.411620Z",
     "shell.execute_reply.started": "2021-06-05T21:26:40.308439Z"
    },
    "papermill": {
     "duration": 0.149987,
     "end_time": "2021-06-05T21:29:16.411800",
     "exception": false,
     "start_time": "2021-06-05T21:29:16.261813",
     "status": "completed"
    },
    "tags": []
   },
   "outputs": [
    {
     "data": {
      "text/html": [
       "<div>\n",
       "<style scoped>\n",
       "    .dataframe tbody tr th:only-of-type {\n",
       "        vertical-align: middle;\n",
       "    }\n",
       "\n",
       "    .dataframe tbody tr th {\n",
       "        vertical-align: top;\n",
       "    }\n",
       "\n",
       "    .dataframe thead th {\n",
       "        text-align: right;\n",
       "    }\n",
       "</style>\n",
       "<table border=\"1\" class=\"dataframe\">\n",
       "  <thead>\n",
       "    <tr style=\"text-align: right;\">\n",
       "      <th></th>\n",
       "      <th>PassengerId</th>\n",
       "      <th>Survived</th>\n",
       "      <th>Pclass</th>\n",
       "      <th>Sex</th>\n",
       "      <th>Age</th>\n",
       "      <th>SibSp</th>\n",
       "      <th>Parch</th>\n",
       "      <th>Ticket</th>\n",
       "      <th>Fare</th>\n",
       "      <th>Cabin</th>\n",
       "      <th>Embarked</th>\n",
       "      <th>Title_0</th>\n",
       "      <th>Title_1</th>\n",
       "      <th>Title_2</th>\n",
       "      <th>Title_3</th>\n",
       "      <th>Fsize</th>\n",
       "      <th>family_size</th>\n",
       "    </tr>\n",
       "  </thead>\n",
       "  <tbody>\n",
       "    <tr>\n",
       "      <th>0</th>\n",
       "      <td>1</td>\n",
       "      <td>0.0</td>\n",
       "      <td>3</td>\n",
       "      <td>1</td>\n",
       "      <td>22.0</td>\n",
       "      <td>1</td>\n",
       "      <td>0</td>\n",
       "      <td>A/5 21171</td>\n",
       "      <td>7.2500</td>\n",
       "      <td>NaN</td>\n",
       "      <td>S</td>\n",
       "      <td>0</td>\n",
       "      <td>0</td>\n",
       "      <td>1</td>\n",
       "      <td>0</td>\n",
       "      <td>2</td>\n",
       "      <td>1</td>\n",
       "    </tr>\n",
       "    <tr>\n",
       "      <th>1</th>\n",
       "      <td>2</td>\n",
       "      <td>1.0</td>\n",
       "      <td>1</td>\n",
       "      <td>0</td>\n",
       "      <td>38.0</td>\n",
       "      <td>1</td>\n",
       "      <td>0</td>\n",
       "      <td>PC 17599</td>\n",
       "      <td>71.2833</td>\n",
       "      <td>C85</td>\n",
       "      <td>C</td>\n",
       "      <td>0</td>\n",
       "      <td>1</td>\n",
       "      <td>0</td>\n",
       "      <td>0</td>\n",
       "      <td>2</td>\n",
       "      <td>1</td>\n",
       "    </tr>\n",
       "    <tr>\n",
       "      <th>2</th>\n",
       "      <td>3</td>\n",
       "      <td>1.0</td>\n",
       "      <td>3</td>\n",
       "      <td>0</td>\n",
       "      <td>26.0</td>\n",
       "      <td>0</td>\n",
       "      <td>0</td>\n",
       "      <td>STON/O2. 3101282</td>\n",
       "      <td>7.9250</td>\n",
       "      <td>NaN</td>\n",
       "      <td>S</td>\n",
       "      <td>0</td>\n",
       "      <td>1</td>\n",
       "      <td>0</td>\n",
       "      <td>0</td>\n",
       "      <td>1</td>\n",
       "      <td>1</td>\n",
       "    </tr>\n",
       "    <tr>\n",
       "      <th>3</th>\n",
       "      <td>4</td>\n",
       "      <td>1.0</td>\n",
       "      <td>1</td>\n",
       "      <td>0</td>\n",
       "      <td>35.0</td>\n",
       "      <td>1</td>\n",
       "      <td>0</td>\n",
       "      <td>113803</td>\n",
       "      <td>53.1000</td>\n",
       "      <td>C123</td>\n",
       "      <td>S</td>\n",
       "      <td>0</td>\n",
       "      <td>1</td>\n",
       "      <td>0</td>\n",
       "      <td>0</td>\n",
       "      <td>2</td>\n",
       "      <td>1</td>\n",
       "    </tr>\n",
       "    <tr>\n",
       "      <th>4</th>\n",
       "      <td>5</td>\n",
       "      <td>0.0</td>\n",
       "      <td>3</td>\n",
       "      <td>1</td>\n",
       "      <td>35.0</td>\n",
       "      <td>0</td>\n",
       "      <td>0</td>\n",
       "      <td>373450</td>\n",
       "      <td>8.0500</td>\n",
       "      <td>NaN</td>\n",
       "      <td>S</td>\n",
       "      <td>0</td>\n",
       "      <td>0</td>\n",
       "      <td>1</td>\n",
       "      <td>0</td>\n",
       "      <td>1</td>\n",
       "      <td>1</td>\n",
       "    </tr>\n",
       "    <tr>\n",
       "      <th>5</th>\n",
       "      <td>6</td>\n",
       "      <td>0.0</td>\n",
       "      <td>3</td>\n",
       "      <td>1</td>\n",
       "      <td>25.0</td>\n",
       "      <td>0</td>\n",
       "      <td>0</td>\n",
       "      <td>330877</td>\n",
       "      <td>8.4583</td>\n",
       "      <td>NaN</td>\n",
       "      <td>Q</td>\n",
       "      <td>0</td>\n",
       "      <td>0</td>\n",
       "      <td>1</td>\n",
       "      <td>0</td>\n",
       "      <td>1</td>\n",
       "      <td>1</td>\n",
       "    </tr>\n",
       "    <tr>\n",
       "      <th>6</th>\n",
       "      <td>7</td>\n",
       "      <td>0.0</td>\n",
       "      <td>1</td>\n",
       "      <td>1</td>\n",
       "      <td>54.0</td>\n",
       "      <td>0</td>\n",
       "      <td>0</td>\n",
       "      <td>17463</td>\n",
       "      <td>51.8625</td>\n",
       "      <td>E46</td>\n",
       "      <td>S</td>\n",
       "      <td>0</td>\n",
       "      <td>0</td>\n",
       "      <td>1</td>\n",
       "      <td>0</td>\n",
       "      <td>1</td>\n",
       "      <td>1</td>\n",
       "    </tr>\n",
       "    <tr>\n",
       "      <th>7</th>\n",
       "      <td>8</td>\n",
       "      <td>0.0</td>\n",
       "      <td>3</td>\n",
       "      <td>1</td>\n",
       "      <td>2.0</td>\n",
       "      <td>3</td>\n",
       "      <td>1</td>\n",
       "      <td>349909</td>\n",
       "      <td>21.0750</td>\n",
       "      <td>NaN</td>\n",
       "      <td>S</td>\n",
       "      <td>1</td>\n",
       "      <td>0</td>\n",
       "      <td>0</td>\n",
       "      <td>0</td>\n",
       "      <td>5</td>\n",
       "      <td>0</td>\n",
       "    </tr>\n",
       "    <tr>\n",
       "      <th>8</th>\n",
       "      <td>9</td>\n",
       "      <td>1.0</td>\n",
       "      <td>3</td>\n",
       "      <td>0</td>\n",
       "      <td>27.0</td>\n",
       "      <td>0</td>\n",
       "      <td>2</td>\n",
       "      <td>347742</td>\n",
       "      <td>11.1333</td>\n",
       "      <td>NaN</td>\n",
       "      <td>S</td>\n",
       "      <td>0</td>\n",
       "      <td>1</td>\n",
       "      <td>0</td>\n",
       "      <td>0</td>\n",
       "      <td>3</td>\n",
       "      <td>1</td>\n",
       "    </tr>\n",
       "    <tr>\n",
       "      <th>9</th>\n",
       "      <td>10</td>\n",
       "      <td>1.0</td>\n",
       "      <td>2</td>\n",
       "      <td>0</td>\n",
       "      <td>14.0</td>\n",
       "      <td>1</td>\n",
       "      <td>0</td>\n",
       "      <td>237736</td>\n",
       "      <td>30.0708</td>\n",
       "      <td>NaN</td>\n",
       "      <td>C</td>\n",
       "      <td>0</td>\n",
       "      <td>1</td>\n",
       "      <td>0</td>\n",
       "      <td>0</td>\n",
       "      <td>2</td>\n",
       "      <td>1</td>\n",
       "    </tr>\n",
       "  </tbody>\n",
       "</table>\n",
       "</div>"
      ],
      "text/plain": [
       "   PassengerId  Survived  Pclass  Sex   Age  SibSp  Parch            Ticket  \\\n",
       "0            1       0.0       3    1  22.0      1      0         A/5 21171   \n",
       "1            2       1.0       1    0  38.0      1      0          PC 17599   \n",
       "2            3       1.0       3    0  26.0      0      0  STON/O2. 3101282   \n",
       "3            4       1.0       1    0  35.0      1      0            113803   \n",
       "4            5       0.0       3    1  35.0      0      0            373450   \n",
       "5            6       0.0       3    1  25.0      0      0            330877   \n",
       "6            7       0.0       1    1  54.0      0      0             17463   \n",
       "7            8       0.0       3    1   2.0      3      1            349909   \n",
       "8            9       1.0       3    0  27.0      0      2            347742   \n",
       "9           10       1.0       2    0  14.0      1      0            237736   \n",
       "\n",
       "      Fare Cabin Embarked  Title_0  Title_1  Title_2  Title_3  Fsize  \\\n",
       "0   7.2500   NaN        S        0        0        1        0      2   \n",
       "1  71.2833   C85        C        0        1        0        0      2   \n",
       "2   7.9250   NaN        S        0        1        0        0      1   \n",
       "3  53.1000  C123        S        0        1        0        0      2   \n",
       "4   8.0500   NaN        S        0        0        1        0      1   \n",
       "5   8.4583   NaN        Q        0        0        1        0      1   \n",
       "6  51.8625   E46        S        0        0        1        0      1   \n",
       "7  21.0750   NaN        S        1        0        0        0      5   \n",
       "8  11.1333   NaN        S        0        1        0        0      3   \n",
       "9  30.0708   NaN        C        0        1        0        0      2   \n",
       "\n",
       "   family_size  \n",
       "0            1  \n",
       "1            1  \n",
       "2            1  \n",
       "3            1  \n",
       "4            1  \n",
       "5            1  \n",
       "6            1  \n",
       "7            0  \n",
       "8            1  \n",
       "9            1  "
      ]
     },
     "execution_count": 57,
     "metadata": {},
     "output_type": "execute_result"
    }
   ],
   "source": [
    "train_df.head(10)"
   ]
  },
  {
   "cell_type": "code",
   "execution_count": 58,
   "id": "outer-approach",
   "metadata": {
    "execution": {
     "iopub.execute_input": "2021-06-05T21:29:16.665127Z",
     "iopub.status.busy": "2021-06-05T21:29:16.664149Z",
     "iopub.status.idle": "2021-06-05T21:29:16.770607Z",
     "shell.execute_reply": "2021-06-05T21:29:16.771057Z",
     "shell.execute_reply.started": "2021-06-05T21:26:40.343528Z"
    },
    "papermill": {
     "duration": 0.235337,
     "end_time": "2021-06-05T21:29:16.771241",
     "exception": false,
     "start_time": "2021-06-05T21:29:16.535904",
     "status": "completed"
    },
    "tags": []
   },
   "outputs": [
    {
     "data": {
      "image/png": "[encoded data removed]",
      "text/plain": [
       "<Figure size 432x288 with 1 Axes>"
      ]
     },
     "metadata": {},
     "output_type": "display_data"
    }
   ],
   "source": [
    "sns.countplot( x = \"family_size\", data = train_df)\n",
    "plt.show()"
   ]
  },
  {
   "cell_type": "code",
   "execution_count": 59,
   "id": "patent-question",
   "metadata": {
    "execution": {
     "iopub.execute_input": "2021-06-05T21:29:17.030356Z",
     "iopub.status.busy": "2021-06-05T21:29:17.029308Z",
     "iopub.status.idle": "2021-06-05T21:29:17.310327Z",
     "shell.execute_reply": "2021-06-05T21:29:17.309603Z",
     "shell.execute_reply.started": "2021-06-05T21:26:40.469760Z"
    },
    "papermill": {
     "duration": 0.411906,
     "end_time": "2021-06-05T21:29:17.310486",
     "exception": false,
     "start_time": "2021-06-05T21:29:16.898580",
     "status": "completed"
    },
    "tags": []
   },
   "outputs": [
    {
     "data": {
      "image/png": "[encoded data removed]",
      "text/plain": [
       "<Figure size 360x360 with 1 Axes>"
      ]
     },
     "metadata": {},
     "output_type": "display_data"
    }
   ],
   "source": [
    "g = sns.factorplot(x = \"family_size\", y = \"Survived\", data = train_df, kind = \"bar\")\n",
    "g.set_ylabels(\"Survival\")\n",
    "plt.show()"
   ]
  },
  {
   "cell_type": "markdown",
   "id": "contemporary-willow",
   "metadata": {
    "papermill": {
     "duration": 0.125303,
     "end_time": "2021-06-05T21:29:17.562062",
     "exception": false,
     "start_time": "2021-06-05T21:29:17.436759",
     "status": "completed"
    },
    "tags": []
   },
   "source": [
    "* Big families have a lower chance to survive.\n",
    "* Small families have more chance to survive than large families."
   ]
  },
  {
   "cell_type": "code",
   "execution_count": 60,
   "id": "funky-nashville",
   "metadata": {
    "execution": {
     "iopub.execute_input": "2021-06-05T21:29:17.820586Z",
     "iopub.status.busy": "2021-06-05T21:29:17.819886Z",
     "iopub.status.idle": "2021-06-05T21:29:17.825410Z",
     "shell.execute_reply": "2021-06-05T21:29:17.825862Z",
     "shell.execute_reply.started": "2021-06-05T21:26:40.768401Z"
    },
    "papermill": {
     "duration": 0.138219,
     "end_time": "2021-06-05T21:29:17.826044",
     "exception": false,
     "start_time": "2021-06-05T21:29:17.687825",
     "status": "completed"
    },
    "tags": []
   },
   "outputs": [],
   "source": [
    "train_df = pd.get_dummies(train_df, columns = [\"family_size\"])"
   ]
  },
  {
   "cell_type": "markdown",
   "id": "verbal-tours",
   "metadata": {
    "papermill": {
     "duration": 0.128034,
     "end_time": "2021-06-05T21:29:18.080127",
     "exception": false,
     "start_time": "2021-06-05T21:29:17.952093",
     "status": "completed"
    },
    "tags": []
   },
   "source": [
    " <a id = \"24\"></a><br>\n",
    " ## Embarked"
   ]
  },
  {
   "cell_type": "code",
   "execution_count": 61,
   "id": "saved-catholic",
   "metadata": {
    "execution": {
     "iopub.execute_input": "2021-06-05T21:29:18.339619Z",
     "iopub.status.busy": "2021-06-05T21:29:18.338925Z",
     "iopub.status.idle": "2021-06-05T21:29:18.346472Z",
     "shell.execute_reply": "2021-06-05T21:29:18.345820Z",
     "shell.execute_reply.started": "2021-06-05T21:26:40.783042Z"
    },
    "papermill": {
     "duration": 0.137568,
     "end_time": "2021-06-05T21:29:18.346614",
     "exception": false,
     "start_time": "2021-06-05T21:29:18.209046",
     "status": "completed"
    },
    "tags": []
   },
   "outputs": [
    {
     "data": {
      "text/plain": [
       "0    S\n",
       "1    C\n",
       "2    S\n",
       "3    S\n",
       "4    S\n",
       "5    Q\n",
       "6    S\n",
       "7    S\n",
       "8    S\n",
       "9    C\n",
       "Name: Embarked, dtype: object"
      ]
     },
     "execution_count": 61,
     "metadata": {},
     "output_type": "execute_result"
    }
   ],
   "source": [
    "train_df[\"Embarked\"].head(10)"
   ]
  },
  {
   "cell_type": "code",
   "execution_count": 62,
   "id": "respiratory-aquarium",
   "metadata": {
    "execution": {
     "iopub.execute_input": "2021-06-05T21:29:18.632847Z",
     "iopub.status.busy": "2021-06-05T21:29:18.607167Z",
     "iopub.status.idle": "2021-06-05T21:29:18.711664Z",
     "shell.execute_reply": "2021-06-05T21:29:18.711080Z",
     "shell.execute_reply.started": "2021-06-05T21:26:40.796683Z"
    },
    "papermill": {
     "duration": 0.2387,
     "end_time": "2021-06-05T21:29:18.711811",
     "exception": false,
     "start_time": "2021-06-05T21:29:18.473111",
     "status": "completed"
    },
    "tags": []
   },
   "outputs": [
    {
     "data": {
      "image/png": "[encoded data removed]",
      "text/plain": [
       "<Figure size 432x288 with 1 Axes>"
      ]
     },
     "metadata": {},
     "output_type": "display_data"
    }
   ],
   "source": [
    "sns.countplot(x = \"Embarked\", data = train_df)\n",
    "plt.show()"
   ]
  },
  {
   "cell_type": "code",
   "execution_count": 63,
   "id": "exposed-tribune",
   "metadata": {
    "execution": {
     "iopub.execute_input": "2021-06-05T21:29:18.974113Z",
     "iopub.status.busy": "2021-06-05T21:29:18.973435Z",
     "iopub.status.idle": "2021-06-05T21:29:18.981271Z",
     "shell.execute_reply": "2021-06-05T21:29:18.981810Z",
     "shell.execute_reply.started": "2021-06-05T21:26:40.920894Z"
    },
    "papermill": {
     "duration": 0.141896,
     "end_time": "2021-06-05T21:29:18.982002",
     "exception": false,
     "start_time": "2021-06-05T21:29:18.840106",
     "status": "completed"
    },
    "tags": []
   },
   "outputs": [],
   "source": [
    "train_df = pd.get_dummies(data = train_df, columns = [\"Embarked\"])"
   ]
  },
  {
   "cell_type": "code",
   "execution_count": 64,
   "id": "solved-slovenia",
   "metadata": {
    "execution": {
     "iopub.execute_input": "2021-06-05T21:29:19.240113Z",
     "iopub.status.busy": "2021-06-05T21:29:19.239484Z",
     "iopub.status.idle": "2021-06-05T21:29:19.259320Z",
     "shell.execute_reply": "2021-06-05T21:29:19.259789Z",
     "shell.execute_reply.started": "2021-06-05T21:26:40.938841Z"
    },
    "papermill": {
     "duration": 0.150466,
     "end_time": "2021-06-05T21:29:19.259972",
     "exception": false,
     "start_time": "2021-06-05T21:29:19.109506",
     "status": "completed"
    },
    "tags": []
   },
   "outputs": [
    {
     "data": {
      "text/html": [
       "<div>\n",
       "<style scoped>\n",
       "    .dataframe tbody tr th:only-of-type {\n",
       "        vertical-align: middle;\n",
       "    }\n",
       "\n",
       "    .dataframe tbody tr th {\n",
       "        vertical-align: top;\n",
       "    }\n",
       "\n",
       "    .dataframe thead th {\n",
       "        text-align: right;\n",
       "    }\n",
       "</style>\n",
       "<table border=\"1\" class=\"dataframe\">\n",
       "  <thead>\n",
       "    <tr style=\"text-align: right;\">\n",
       "      <th></th>\n",
       "      <th>PassengerId</th>\n",
       "      <th>Survived</th>\n",
       "      <th>Pclass</th>\n",
       "      <th>Sex</th>\n",
       "      <th>Age</th>\n",
       "      <th>SibSp</th>\n",
       "      <th>Parch</th>\n",
       "      <th>Ticket</th>\n",
       "      <th>Fare</th>\n",
       "      <th>Cabin</th>\n",
       "      <th>Title_0</th>\n",
       "      <th>Title_1</th>\n",
       "      <th>Title_2</th>\n",
       "      <th>Title_3</th>\n",
       "      <th>Fsize</th>\n",
       "      <th>family_size_0</th>\n",
       "      <th>family_size_1</th>\n",
       "      <th>Embarked_C</th>\n",
       "      <th>Embarked_Q</th>\n",
       "      <th>Embarked_S</th>\n",
       "    </tr>\n",
       "  </thead>\n",
       "  <tbody>\n",
       "    <tr>\n",
       "      <th>0</th>\n",
       "      <td>1</td>\n",
       "      <td>0.0</td>\n",
       "      <td>3</td>\n",
       "      <td>1</td>\n",
       "      <td>22.0</td>\n",
       "      <td>1</td>\n",
       "      <td>0</td>\n",
       "      <td>A/5 21171</td>\n",
       "      <td>7.2500</td>\n",
       "      <td>NaN</td>\n",
       "      <td>0</td>\n",
       "      <td>0</td>\n",
       "      <td>1</td>\n",
       "      <td>0</td>\n",
       "      <td>2</td>\n",
       "      <td>0</td>\n",
       "      <td>1</td>\n",
       "      <td>0</td>\n",
       "      <td>0</td>\n",
       "      <td>1</td>\n",
       "    </tr>\n",
       "    <tr>\n",
       "      <th>1</th>\n",
       "      <td>2</td>\n",
       "      <td>1.0</td>\n",
       "      <td>1</td>\n",
       "      <td>0</td>\n",
       "      <td>38.0</td>\n",
       "      <td>1</td>\n",
       "      <td>0</td>\n",
       "      <td>PC 17599</td>\n",
       "      <td>71.2833</td>\n",
       "      <td>C85</td>\n",
       "      <td>0</td>\n",
       "      <td>1</td>\n",
       "      <td>0</td>\n",
       "      <td>0</td>\n",
       "      <td>2</td>\n",
       "      <td>0</td>\n",
       "      <td>1</td>\n",
       "      <td>1</td>\n",
       "      <td>0</td>\n",
       "      <td>0</td>\n",
       "    </tr>\n",
       "    <tr>\n",
       "      <th>2</th>\n",
       "      <td>3</td>\n",
       "      <td>1.0</td>\n",
       "      <td>3</td>\n",
       "      <td>0</td>\n",
       "      <td>26.0</td>\n",
       "      <td>0</td>\n",
       "      <td>0</td>\n",
       "      <td>STON/O2. 3101282</td>\n",
       "      <td>7.9250</td>\n",
       "      <td>NaN</td>\n",
       "      <td>0</td>\n",
       "      <td>1</td>\n",
       "      <td>0</td>\n",
       "      <td>0</td>\n",
       "      <td>1</td>\n",
       "      <td>0</td>\n",
       "      <td>1</td>\n",
       "      <td>0</td>\n",
       "      <td>0</td>\n",
       "      <td>1</td>\n",
       "    </tr>\n",
       "    <tr>\n",
       "      <th>3</th>\n",
       "      <td>4</td>\n",
       "      <td>1.0</td>\n",
       "      <td>1</td>\n",
       "      <td>0</td>\n",
       "      <td>35.0</td>\n",
       "      <td>1</td>\n",
       "      <td>0</td>\n",
       "      <td>113803</td>\n",
       "      <td>53.1000</td>\n",
       "      <td>C123</td>\n",
       "      <td>0</td>\n",
       "      <td>1</td>\n",
       "      <td>0</td>\n",
       "      <td>0</td>\n",
       "      <td>2</td>\n",
       "      <td>0</td>\n",
       "      <td>1</td>\n",
       "      <td>0</td>\n",
       "      <td>0</td>\n",
       "      <td>1</td>\n",
       "    </tr>\n",
       "    <tr>\n",
       "      <th>4</th>\n",
       "      <td>5</td>\n",
       "      <td>0.0</td>\n",
       "      <td>3</td>\n",
       "      <td>1</td>\n",
       "      <td>35.0</td>\n",
       "      <td>0</td>\n",
       "      <td>0</td>\n",
       "      <td>373450</td>\n",
       "      <td>8.0500</td>\n",
       "      <td>NaN</td>\n",
       "      <td>0</td>\n",
       "      <td>0</td>\n",
       "      <td>1</td>\n",
       "      <td>0</td>\n",
       "      <td>1</td>\n",
       "      <td>0</td>\n",
       "      <td>1</td>\n",
       "      <td>0</td>\n",
       "      <td>0</td>\n",
       "      <td>1</td>\n",
       "    </tr>\n",
       "  </tbody>\n",
       "</table>\n",
       "</div>"
      ],
      "text/plain": [
       "   PassengerId  Survived  Pclass  Sex   Age  SibSp  Parch            Ticket  \\\n",
       "0            1       0.0       3    1  22.0      1      0         A/5 21171   \n",
       "1            2       1.0       1    0  38.0      1      0          PC 17599   \n",
       "2            3       1.0       3    0  26.0      0      0  STON/O2. 3101282   \n",
       "3            4       1.0       1    0  35.0      1      0            113803   \n",
       "4            5       0.0       3    1  35.0      0      0            373450   \n",
       "\n",
       "      Fare Cabin  Title_0  Title_1  Title_2  Title_3  Fsize  family_size_0  \\\n",
       "0   7.2500   NaN        0        0        1        0      2              0   \n",
       "1  71.2833   C85        0        1        0        0      2              0   \n",
       "2   7.9250   NaN        0        1        0        0      1              0   \n",
       "3  53.1000  C123        0        1        0        0      2              0   \n",
       "4   8.0500   NaN        0        0        1        0      1              0   \n",
       "\n",
       "   family_size_1  Embarked_C  Embarked_Q  Embarked_S  \n",
       "0              1           0           0           1  \n",
       "1              1           1           0           0  \n",
       "2              1           0           0           1  \n",
       "3              1           0           0           1  \n",
       "4              1           0           0           1  "
      ]
     },
     "execution_count": 64,
     "metadata": {},
     "output_type": "execute_result"
    }
   ],
   "source": [
    "train_df.head()"
   ]
  },
  {
   "cell_type": "markdown",
   "id": "bright-transcript",
   "metadata": {
    "papermill": {
     "duration": 0.12719,
     "end_time": "2021-06-05T21:29:19.514358",
     "exception": false,
     "start_time": "2021-06-05T21:29:19.387168",
     "status": "completed"
    },
    "tags": []
   },
   "source": [
    " <a id = \"25\"></a><br>\n",
    " ## Ticket"
   ]
  },
  {
   "cell_type": "code",
   "execution_count": 65,
   "id": "historic-jamaica",
   "metadata": {
    "execution": {
     "iopub.execute_input": "2021-06-05T21:29:19.775700Z",
     "iopub.status.busy": "2021-06-05T21:29:19.773277Z",
     "iopub.status.idle": "2021-06-05T21:29:19.779936Z",
     "shell.execute_reply": "2021-06-05T21:29:19.779404Z",
     "shell.execute_reply.started": "2021-06-05T21:26:40.971400Z"
    },
    "papermill": {
     "duration": 0.138641,
     "end_time": "2021-06-05T21:29:19.780080",
     "exception": false,
     "start_time": "2021-06-05T21:29:19.641439",
     "status": "completed"
    },
    "tags": []
   },
   "outputs": [
    {
     "data": {
      "text/plain": [
       "0           A/5 21171\n",
       "1            PC 17599\n",
       "2    STON/O2. 3101282\n",
       "3              113803\n",
       "4              373450\n",
       "5              330877\n",
       "6               17463\n",
       "7              349909\n",
       "8              347742\n",
       "9              237736\n",
       "Name: Ticket, dtype: object"
      ]
     },
     "execution_count": 65,
     "metadata": {},
     "output_type": "execute_result"
    }
   ],
   "source": [
    "train_df[\"Ticket\"].head(10)"
   ]
  },
  {
   "cell_type": "code",
   "execution_count": 66,
   "id": "peaceful-jacob",
   "metadata": {
    "execution": {
     "iopub.execute_input": "2021-06-05T21:29:20.046440Z",
     "iopub.status.busy": "2021-06-05T21:29:20.045690Z",
     "iopub.status.idle": "2021-06-05T21:29:20.048840Z",
     "shell.execute_reply": "2021-06-05T21:29:20.048319Z",
     "shell.execute_reply.started": "2021-06-05T21:26:40.996905Z"
    },
    "papermill": {
     "duration": 0.139605,
     "end_time": "2021-06-05T21:29:20.049007",
     "exception": false,
     "start_time": "2021-06-05T21:29:19.909402",
     "status": "completed"
    },
    "tags": []
   },
   "outputs": [],
   "source": [
    "tickets = []\n",
    "for i in list(train_df.Ticket):\n",
    "    if not i.isdigit():\n",
    "        tickets.append(i.replace(\".\", \"\").replace(\"/\",\"\").strip().split(\" \")[0])\n",
    "    else:\n",
    "        tickets.append(\"x\")\n",
    "train_df[\"Ticket\"] = tickets"
   ]
  },
  {
   "cell_type": "code",
   "execution_count": 67,
   "id": "postal-statement",
   "metadata": {
    "execution": {
     "iopub.execute_input": "2021-06-05T21:29:20.314608Z",
     "iopub.status.busy": "2021-06-05T21:29:20.313666Z",
     "iopub.status.idle": "2021-06-05T21:29:20.317111Z",
     "shell.execute_reply": "2021-06-05T21:29:20.317679Z",
     "shell.execute_reply.started": "2021-06-05T21:26:41.010316Z"
    },
    "papermill": {
     "duration": 0.138268,
     "end_time": "2021-06-05T21:29:20.317855",
     "exception": false,
     "start_time": "2021-06-05T21:29:20.179587",
     "status": "completed"
    },
    "tags": []
   },
   "outputs": [
    {
     "data": {
      "text/plain": [
       "0        A5\n",
       "1        PC\n",
       "2    STONO2\n",
       "3         x\n",
       "4         x\n",
       "5         x\n",
       "6         x\n",
       "7         x\n",
       "8         x\n",
       "9         x\n",
       "Name: Ticket, dtype: object"
      ]
     },
     "execution_count": 67,
     "metadata": {},
     "output_type": "execute_result"
    }
   ],
   "source": [
    "train_df[\"Ticket\"].head(10)"
   ]
  },
  {
   "cell_type": "code",
   "execution_count": 68,
   "id": "suitable-density",
   "metadata": {
    "execution": {
     "iopub.execute_input": "2021-06-05T21:29:20.580738Z",
     "iopub.status.busy": "2021-06-05T21:29:20.580051Z",
     "iopub.status.idle": "2021-06-05T21:29:20.614529Z",
     "shell.execute_reply": "2021-06-05T21:29:20.615034Z",
     "shell.execute_reply.started": "2021-06-05T21:26:41.024536Z"
    },
    "papermill": {
     "duration": 0.168405,
     "end_time": "2021-06-05T21:29:20.615220",
     "exception": false,
     "start_time": "2021-06-05T21:29:20.446815",
     "status": "completed"
    },
    "tags": []
   },
   "outputs": [
    {
     "data": {
      "text/html": [
       "<div>\n",
       "<style scoped>\n",
       "    .dataframe tbody tr th:only-of-type {\n",
       "        vertical-align: middle;\n",
       "    }\n",
       "\n",
       "    .dataframe tbody tr th {\n",
       "        vertical-align: top;\n",
       "    }\n",
       "\n",
       "    .dataframe thead th {\n",
       "        text-align: right;\n",
       "    }\n",
       "</style>\n",
       "<table border=\"1\" class=\"dataframe\">\n",
       "  <thead>\n",
       "    <tr style=\"text-align: right;\">\n",
       "      <th></th>\n",
       "      <th>PassengerId</th>\n",
       "      <th>Survived</th>\n",
       "      <th>Pclass</th>\n",
       "      <th>Sex</th>\n",
       "      <th>Age</th>\n",
       "      <th>SibSp</th>\n",
       "      <th>Parch</th>\n",
       "      <th>Fare</th>\n",
       "      <th>Cabin</th>\n",
       "      <th>Title_0</th>\n",
       "      <th>...</th>\n",
       "      <th>T_SOTONO2</th>\n",
       "      <th>T_SOTONOQ</th>\n",
       "      <th>T_SP</th>\n",
       "      <th>T_STONO</th>\n",
       "      <th>T_STONO2</th>\n",
       "      <th>T_STONOQ</th>\n",
       "      <th>T_SWPP</th>\n",
       "      <th>T_WC</th>\n",
       "      <th>T_WEP</th>\n",
       "      <th>T_x</th>\n",
       "    </tr>\n",
       "  </thead>\n",
       "  <tbody>\n",
       "    <tr>\n",
       "      <th>0</th>\n",
       "      <td>1</td>\n",
       "      <td>0.0</td>\n",
       "      <td>3</td>\n",
       "      <td>1</td>\n",
       "      <td>22.0</td>\n",
       "      <td>1</td>\n",
       "      <td>0</td>\n",
       "      <td>7.2500</td>\n",
       "      <td>NaN</td>\n",
       "      <td>0</td>\n",
       "      <td>...</td>\n",
       "      <td>0</td>\n",
       "      <td>0</td>\n",
       "      <td>0</td>\n",
       "      <td>0</td>\n",
       "      <td>0</td>\n",
       "      <td>0</td>\n",
       "      <td>0</td>\n",
       "      <td>0</td>\n",
       "      <td>0</td>\n",
       "      <td>0</td>\n",
       "    </tr>\n",
       "    <tr>\n",
       "      <th>1</th>\n",
       "      <td>2</td>\n",
       "      <td>1.0</td>\n",
       "      <td>1</td>\n",
       "      <td>0</td>\n",
       "      <td>38.0</td>\n",
       "      <td>1</td>\n",
       "      <td>0</td>\n",
       "      <td>71.2833</td>\n",
       "      <td>C85</td>\n",
       "      <td>0</td>\n",
       "      <td>...</td>\n",
       "      <td>0</td>\n",
       "      <td>0</td>\n",
       "      <td>0</td>\n",
       "      <td>0</td>\n",
       "      <td>0</td>\n",
       "      <td>0</td>\n",
       "      <td>0</td>\n",
       "      <td>0</td>\n",
       "      <td>0</td>\n",
       "      <td>0</td>\n",
       "    </tr>\n",
       "    <tr>\n",
       "      <th>2</th>\n",
       "      <td>3</td>\n",
       "      <td>1.0</td>\n",
       "      <td>3</td>\n",
       "      <td>0</td>\n",
       "      <td>26.0</td>\n",
       "      <td>0</td>\n",
       "      <td>0</td>\n",
       "      <td>7.9250</td>\n",
       "      <td>NaN</td>\n",
       "      <td>0</td>\n",
       "      <td>...</td>\n",
       "      <td>0</td>\n",
       "      <td>0</td>\n",
       "      <td>0</td>\n",
       "      <td>0</td>\n",
       "      <td>1</td>\n",
       "      <td>0</td>\n",
       "      <td>0</td>\n",
       "      <td>0</td>\n",
       "      <td>0</td>\n",
       "      <td>0</td>\n",
       "    </tr>\n",
       "    <tr>\n",
       "      <th>3</th>\n",
       "      <td>4</td>\n",
       "      <td>1.0</td>\n",
       "      <td>1</td>\n",
       "      <td>0</td>\n",
       "      <td>35.0</td>\n",
       "      <td>1</td>\n",
       "      <td>0</td>\n",
       "      <td>53.1000</td>\n",
       "      <td>C123</td>\n",
       "      <td>0</td>\n",
       "      <td>...</td>\n",
       "      <td>0</td>\n",
       "      <td>0</td>\n",
       "      <td>0</td>\n",
       "      <td>0</td>\n",
       "      <td>0</td>\n",
       "      <td>0</td>\n",
       "      <td>0</td>\n",
       "      <td>0</td>\n",
       "      <td>0</td>\n",
       "      <td>1</td>\n",
       "    </tr>\n",
       "    <tr>\n",
       "      <th>4</th>\n",
       "      <td>5</td>\n",
       "      <td>0.0</td>\n",
       "      <td>3</td>\n",
       "      <td>1</td>\n",
       "      <td>35.0</td>\n",
       "      <td>0</td>\n",
       "      <td>0</td>\n",
       "      <td>8.0500</td>\n",
       "      <td>NaN</td>\n",
       "      <td>0</td>\n",
       "      <td>...</td>\n",
       "      <td>0</td>\n",
       "      <td>0</td>\n",
       "      <td>0</td>\n",
       "      <td>0</td>\n",
       "      <td>0</td>\n",
       "      <td>0</td>\n",
       "      <td>0</td>\n",
       "      <td>0</td>\n",
       "      <td>0</td>\n",
       "      <td>1</td>\n",
       "    </tr>\n",
       "    <tr>\n",
       "      <th>5</th>\n",
       "      <td>6</td>\n",
       "      <td>0.0</td>\n",
       "      <td>3</td>\n",
       "      <td>1</td>\n",
       "      <td>25.0</td>\n",
       "      <td>0</td>\n",
       "      <td>0</td>\n",
       "      <td>8.4583</td>\n",
       "      <td>NaN</td>\n",
       "      <td>0</td>\n",
       "      <td>...</td>\n",
       "      <td>0</td>\n",
       "      <td>0</td>\n",
       "      <td>0</td>\n",
       "      <td>0</td>\n",
       "      <td>0</td>\n",
       "      <td>0</td>\n",
       "      <td>0</td>\n",
       "      <td>0</td>\n",
       "      <td>0</td>\n",
       "      <td>1</td>\n",
       "    </tr>\n",
       "    <tr>\n",
       "      <th>6</th>\n",
       "      <td>7</td>\n",
       "      <td>0.0</td>\n",
       "      <td>1</td>\n",
       "      <td>1</td>\n",
       "      <td>54.0</td>\n",
       "      <td>0</td>\n",
       "      <td>0</td>\n",
       "      <td>51.8625</td>\n",
       "      <td>E46</td>\n",
       "      <td>0</td>\n",
       "      <td>...</td>\n",
       "      <td>0</td>\n",
       "      <td>0</td>\n",
       "      <td>0</td>\n",
       "      <td>0</td>\n",
       "      <td>0</td>\n",
       "      <td>0</td>\n",
       "      <td>0</td>\n",
       "      <td>0</td>\n",
       "      <td>0</td>\n",
       "      <td>1</td>\n",
       "    </tr>\n",
       "    <tr>\n",
       "      <th>7</th>\n",
       "      <td>8</td>\n",
       "      <td>0.0</td>\n",
       "      <td>3</td>\n",
       "      <td>1</td>\n",
       "      <td>2.0</td>\n",
       "      <td>3</td>\n",
       "      <td>1</td>\n",
       "      <td>21.0750</td>\n",
       "      <td>NaN</td>\n",
       "      <td>1</td>\n",
       "      <td>...</td>\n",
       "      <td>0</td>\n",
       "      <td>0</td>\n",
       "      <td>0</td>\n",
       "      <td>0</td>\n",
       "      <td>0</td>\n",
       "      <td>0</td>\n",
       "      <td>0</td>\n",
       "      <td>0</td>\n",
       "      <td>0</td>\n",
       "      <td>1</td>\n",
       "    </tr>\n",
       "    <tr>\n",
       "      <th>8</th>\n",
       "      <td>9</td>\n",
       "      <td>1.0</td>\n",
       "      <td>3</td>\n",
       "      <td>0</td>\n",
       "      <td>27.0</td>\n",
       "      <td>0</td>\n",
       "      <td>2</td>\n",
       "      <td>11.1333</td>\n",
       "      <td>NaN</td>\n",
       "      <td>0</td>\n",
       "      <td>...</td>\n",
       "      <td>0</td>\n",
       "      <td>0</td>\n",
       "      <td>0</td>\n",
       "      <td>0</td>\n",
       "      <td>0</td>\n",
       "      <td>0</td>\n",
       "      <td>0</td>\n",
       "      <td>0</td>\n",
       "      <td>0</td>\n",
       "      <td>1</td>\n",
       "    </tr>\n",
       "    <tr>\n",
       "      <th>9</th>\n",
       "      <td>10</td>\n",
       "      <td>1.0</td>\n",
       "      <td>2</td>\n",
       "      <td>0</td>\n",
       "      <td>14.0</td>\n",
       "      <td>1</td>\n",
       "      <td>0</td>\n",
       "      <td>30.0708</td>\n",
       "      <td>NaN</td>\n",
       "      <td>0</td>\n",
       "      <td>...</td>\n",
       "      <td>0</td>\n",
       "      <td>0</td>\n",
       "      <td>0</td>\n",
       "      <td>0</td>\n",
       "      <td>0</td>\n",
       "      <td>0</td>\n",
       "      <td>0</td>\n",
       "      <td>0</td>\n",
       "      <td>0</td>\n",
       "      <td>1</td>\n",
       "    </tr>\n",
       "  </tbody>\n",
       "</table>\n",
       "<p>10 rows × 56 columns</p>\n",
       "</div>"
      ],
      "text/plain": [
       "   PassengerId  Survived  Pclass  Sex   Age  SibSp  Parch     Fare Cabin  \\\n",
       "0            1       0.0       3    1  22.0      1      0   7.2500   NaN   \n",
       "1            2       1.0       1    0  38.0      1      0  71.2833   C85   \n",
       "2            3       1.0       3    0  26.0      0      0   7.9250   NaN   \n",
       "3            4       1.0       1    0  35.0      1      0  53.1000  C123   \n",
       "4            5       0.0       3    1  35.0      0      0   8.0500   NaN   \n",
       "5            6       0.0       3    1  25.0      0      0   8.4583   NaN   \n",
       "6            7       0.0       1    1  54.0      0      0  51.8625   E46   \n",
       "7            8       0.0       3    1   2.0      3      1  21.0750   NaN   \n",
       "8            9       1.0       3    0  27.0      0      2  11.1333   NaN   \n",
       "9           10       1.0       2    0  14.0      1      0  30.0708   NaN   \n",
       "\n",
       "   Title_0  ...  T_SOTONO2  T_SOTONOQ  T_SP  T_STONO  T_STONO2  T_STONOQ  \\\n",
       "0        0  ...          0          0     0        0         0         0   \n",
       "1        0  ...          0          0     0        0         0         0   \n",
       "2        0  ...          0          0     0        0         1         0   \n",
       "3        0  ...          0          0     0        0         0         0   \n",
       "4        0  ...          0          0     0        0         0         0   \n",
       "5        0  ...          0          0     0        0         0         0   \n",
       "6        0  ...          0          0     0        0         0         0   \n",
       "7        1  ...          0          0     0        0         0         0   \n",
       "8        0  ...          0          0     0        0         0         0   \n",
       "9        0  ...          0          0     0        0         0         0   \n",
       "\n",
       "   T_SWPP  T_WC  T_WEP  T_x  \n",
       "0       0     0      0    0  \n",
       "1       0     0      0    0  \n",
       "2       0     0      0    0  \n",
       "3       0     0      0    1  \n",
       "4       0     0      0    1  \n",
       "5       0     0      0    1  \n",
       "6       0     0      0    1  \n",
       "7       0     0      0    1  \n",
       "8       0     0      0    1  \n",
       "9       0     0      0    1  \n",
       "\n",
       "[10 rows x 56 columns]"
      ]
     },
     "execution_count": 68,
     "metadata": {},
     "output_type": "execute_result"
    }
   ],
   "source": [
    "train_df = pd.get_dummies(train_df, columns = [\"Ticket\"], prefix = \"T\")\n",
    "train_df.head(10)"
   ]
  },
  {
   "cell_type": "markdown",
   "id": "local-coordinate",
   "metadata": {
    "papermill": {
     "duration": 0.129825,
     "end_time": "2021-06-05T21:29:20.875013",
     "exception": false,
     "start_time": "2021-06-05T21:29:20.745188",
     "status": "completed"
    },
    "tags": []
   },
   "source": [
    " <a id = \"26\"></a><br>\n",
    " ## Pclass"
   ]
  },
  {
   "cell_type": "code",
   "execution_count": 69,
   "id": "pressing-huntington",
   "metadata": {
    "execution": {
     "iopub.execute_input": "2021-06-05T21:29:21.142580Z",
     "iopub.status.busy": "2021-06-05T21:29:21.141927Z",
     "iopub.status.idle": "2021-06-05T21:29:21.263514Z",
     "shell.execute_reply": "2021-06-05T21:29:21.263980Z",
     "shell.execute_reply.started": "2021-06-05T21:26:41.074756Z"
    },
    "papermill": {
     "duration": 0.258061,
     "end_time": "2021-06-05T21:29:21.264160",
     "exception": false,
     "start_time": "2021-06-05T21:29:21.006099",
     "status": "completed"
    },
    "tags": []
   },
   "outputs": [
    {
     "data": {
      "image/png": "[encoded data removed]",
      "text/plain": [
       "<Figure size 432x288 with 1 Axes>"
      ]
     },
     "metadata": {},
     "output_type": "display_data"
    }
   ],
   "source": [
    "sns.countplot(x = \"Pclass\", data = train_df)\n",
    "plt.show()"
   ]
  },
  {
   "cell_type": "code",
   "execution_count": 70,
   "id": "handmade-extra",
   "metadata": {
    "execution": {
     "iopub.execute_input": "2021-06-05T21:29:21.530615Z",
     "iopub.status.busy": "2021-06-05T21:29:21.529710Z",
     "iopub.status.idle": "2021-06-05T21:29:21.557933Z",
     "shell.execute_reply": "2021-06-05T21:29:21.557331Z",
     "shell.execute_reply.started": "2021-06-05T21:26:41.209072Z"
    },
    "papermill": {
     "duration": 0.164306,
     "end_time": "2021-06-05T21:29:21.558075",
     "exception": false,
     "start_time": "2021-06-05T21:29:21.393769",
     "status": "completed"
    },
    "tags": []
   },
   "outputs": [
    {
     "data": {
      "text/html": [
       "<div>\n",
       "<style scoped>\n",
       "    .dataframe tbody tr th:only-of-type {\n",
       "        vertical-align: middle;\n",
       "    }\n",
       "\n",
       "    .dataframe tbody tr th {\n",
       "        vertical-align: top;\n",
       "    }\n",
       "\n",
       "    .dataframe thead th {\n",
       "        text-align: right;\n",
       "    }\n",
       "</style>\n",
       "<table border=\"1\" class=\"dataframe\">\n",
       "  <thead>\n",
       "    <tr style=\"text-align: right;\">\n",
       "      <th></th>\n",
       "      <th>PassengerId</th>\n",
       "      <th>Survived</th>\n",
       "      <th>Sex</th>\n",
       "      <th>Age</th>\n",
       "      <th>SibSp</th>\n",
       "      <th>Parch</th>\n",
       "      <th>Fare</th>\n",
       "      <th>Cabin</th>\n",
       "      <th>Title_0</th>\n",
       "      <th>Title_1</th>\n",
       "      <th>...</th>\n",
       "      <th>T_STONO</th>\n",
       "      <th>T_STONO2</th>\n",
       "      <th>T_STONOQ</th>\n",
       "      <th>T_SWPP</th>\n",
       "      <th>T_WC</th>\n",
       "      <th>T_WEP</th>\n",
       "      <th>T_x</th>\n",
       "      <th>Pclass_1</th>\n",
       "      <th>Pclass_2</th>\n",
       "      <th>Pclass_3</th>\n",
       "    </tr>\n",
       "  </thead>\n",
       "  <tbody>\n",
       "    <tr>\n",
       "      <th>0</th>\n",
       "      <td>1</td>\n",
       "      <td>0.0</td>\n",
       "      <td>1</td>\n",
       "      <td>22.0</td>\n",
       "      <td>1</td>\n",
       "      <td>0</td>\n",
       "      <td>7.2500</td>\n",
       "      <td>NaN</td>\n",
       "      <td>0</td>\n",
       "      <td>0</td>\n",
       "      <td>...</td>\n",
       "      <td>0</td>\n",
       "      <td>0</td>\n",
       "      <td>0</td>\n",
       "      <td>0</td>\n",
       "      <td>0</td>\n",
       "      <td>0</td>\n",
       "      <td>0</td>\n",
       "      <td>0</td>\n",
       "      <td>0</td>\n",
       "      <td>1</td>\n",
       "    </tr>\n",
       "    <tr>\n",
       "      <th>1</th>\n",
       "      <td>2</td>\n",
       "      <td>1.0</td>\n",
       "      <td>0</td>\n",
       "      <td>38.0</td>\n",
       "      <td>1</td>\n",
       "      <td>0</td>\n",
       "      <td>71.2833</td>\n",
       "      <td>C85</td>\n",
       "      <td>0</td>\n",
       "      <td>1</td>\n",
       "      <td>...</td>\n",
       "      <td>0</td>\n",
       "      <td>0</td>\n",
       "      <td>0</td>\n",
       "      <td>0</td>\n",
       "      <td>0</td>\n",
       "      <td>0</td>\n",
       "      <td>0</td>\n",
       "      <td>1</td>\n",
       "      <td>0</td>\n",
       "      <td>0</td>\n",
       "    </tr>\n",
       "    <tr>\n",
       "      <th>2</th>\n",
       "      <td>3</td>\n",
       "      <td>1.0</td>\n",
       "      <td>0</td>\n",
       "      <td>26.0</td>\n",
       "      <td>0</td>\n",
       "      <td>0</td>\n",
       "      <td>7.9250</td>\n",
       "      <td>NaN</td>\n",
       "      <td>0</td>\n",
       "      <td>1</td>\n",
       "      <td>...</td>\n",
       "      <td>0</td>\n",
       "      <td>1</td>\n",
       "      <td>0</td>\n",
       "      <td>0</td>\n",
       "      <td>0</td>\n",
       "      <td>0</td>\n",
       "      <td>0</td>\n",
       "      <td>0</td>\n",
       "      <td>0</td>\n",
       "      <td>1</td>\n",
       "    </tr>\n",
       "    <tr>\n",
       "      <th>3</th>\n",
       "      <td>4</td>\n",
       "      <td>1.0</td>\n",
       "      <td>0</td>\n",
       "      <td>35.0</td>\n",
       "      <td>1</td>\n",
       "      <td>0</td>\n",
       "      <td>53.1000</td>\n",
       "      <td>C123</td>\n",
       "      <td>0</td>\n",
       "      <td>1</td>\n",
       "      <td>...</td>\n",
       "      <td>0</td>\n",
       "      <td>0</td>\n",
       "      <td>0</td>\n",
       "      <td>0</td>\n",
       "      <td>0</td>\n",
       "      <td>0</td>\n",
       "      <td>1</td>\n",
       "      <td>1</td>\n",
       "      <td>0</td>\n",
       "      <td>0</td>\n",
       "    </tr>\n",
       "    <tr>\n",
       "      <th>4</th>\n",
       "      <td>5</td>\n",
       "      <td>0.0</td>\n",
       "      <td>1</td>\n",
       "      <td>35.0</td>\n",
       "      <td>0</td>\n",
       "      <td>0</td>\n",
       "      <td>8.0500</td>\n",
       "      <td>NaN</td>\n",
       "      <td>0</td>\n",
       "      <td>0</td>\n",
       "      <td>...</td>\n",
       "      <td>0</td>\n",
       "      <td>0</td>\n",
       "      <td>0</td>\n",
       "      <td>0</td>\n",
       "      <td>0</td>\n",
       "      <td>0</td>\n",
       "      <td>1</td>\n",
       "      <td>0</td>\n",
       "      <td>0</td>\n",
       "      <td>1</td>\n",
       "    </tr>\n",
       "  </tbody>\n",
       "</table>\n",
       "<p>5 rows × 58 columns</p>\n",
       "</div>"
      ],
      "text/plain": [
       "   PassengerId  Survived  Sex   Age  SibSp  Parch     Fare Cabin  Title_0  \\\n",
       "0            1       0.0    1  22.0      1      0   7.2500   NaN        0   \n",
       "1            2       1.0    0  38.0      1      0  71.2833   C85        0   \n",
       "2            3       1.0    0  26.0      0      0   7.9250   NaN        0   \n",
       "3            4       1.0    0  35.0      1      0  53.1000  C123        0   \n",
       "4            5       0.0    1  35.0      0      0   8.0500   NaN        0   \n",
       "\n",
       "   Title_1  ...  T_STONO  T_STONO2  T_STONOQ  T_SWPP  T_WC  T_WEP  T_x  \\\n",
       "0        0  ...        0         0         0       0     0      0    0   \n",
       "1        1  ...        0         0         0       0     0      0    0   \n",
       "2        1  ...        0         1         0       0     0      0    0   \n",
       "3        1  ...        0         0         0       0     0      0    1   \n",
       "4        0  ...        0         0         0       0     0      0    1   \n",
       "\n",
       "   Pclass_1  Pclass_2  Pclass_3  \n",
       "0         0         0         1  \n",
       "1         1         0         0  \n",
       "2         0         0         1  \n",
       "3         1         0         0  \n",
       "4         0         0         1  \n",
       "\n",
       "[5 rows x 58 columns]"
      ]
     },
     "execution_count": 70,
     "metadata": {},
     "output_type": "execute_result"
    }
   ],
   "source": [
    "train_df[\"Pclass\"] = train_df[\"Pclass\"].astype(\"category\")\n",
    "train_df = pd.get_dummies(train_df, columns = [\"Pclass\"])\n",
    "train_df.head()"
   ]
  },
  {
   "cell_type": "markdown",
   "id": "imported-phase",
   "metadata": {
    "papermill": {
     "duration": 0.130308,
     "end_time": "2021-06-05T21:29:21.818709",
     "exception": false,
     "start_time": "2021-06-05T21:29:21.688401",
     "status": "completed"
    },
    "tags": []
   },
   "source": [
    " <a id = \"27\"></a><br>\n",
    " ## Sex"
   ]
  },
  {
   "cell_type": "code",
   "execution_count": 71,
   "id": "inclusive-observer",
   "metadata": {
    "execution": {
     "iopub.execute_input": "2021-06-05T21:29:22.088924Z",
     "iopub.status.busy": "2021-06-05T21:29:22.087946Z",
     "iopub.status.idle": "2021-06-05T21:29:22.118404Z",
     "shell.execute_reply": "2021-06-05T21:29:22.117883Z",
     "shell.execute_reply.started": "2021-06-05T21:26:41.248257Z"
    },
    "papermill": {
     "duration": 0.164943,
     "end_time": "2021-06-05T21:29:22.118546",
     "exception": false,
     "start_time": "2021-06-05T21:29:21.953603",
     "status": "completed"
    },
    "tags": []
   },
   "outputs": [
    {
     "data": {
      "text/html": [
       "<div>\n",
       "<style scoped>\n",
       "    .dataframe tbody tr th:only-of-type {\n",
       "        vertical-align: middle;\n",
       "    }\n",
       "\n",
       "    .dataframe tbody tr th {\n",
       "        vertical-align: top;\n",
       "    }\n",
       "\n",
       "    .dataframe thead th {\n",
       "        text-align: right;\n",
       "    }\n",
       "</style>\n",
       "<table border=\"1\" class=\"dataframe\">\n",
       "  <thead>\n",
       "    <tr style=\"text-align: right;\">\n",
       "      <th></th>\n",
       "      <th>PassengerId</th>\n",
       "      <th>Survived</th>\n",
       "      <th>Age</th>\n",
       "      <th>SibSp</th>\n",
       "      <th>Parch</th>\n",
       "      <th>Fare</th>\n",
       "      <th>Cabin</th>\n",
       "      <th>Title_0</th>\n",
       "      <th>Title_1</th>\n",
       "      <th>Title_2</th>\n",
       "      <th>...</th>\n",
       "      <th>T_STONOQ</th>\n",
       "      <th>T_SWPP</th>\n",
       "      <th>T_WC</th>\n",
       "      <th>T_WEP</th>\n",
       "      <th>T_x</th>\n",
       "      <th>Pclass_1</th>\n",
       "      <th>Pclass_2</th>\n",
       "      <th>Pclass_3</th>\n",
       "      <th>Sex_0</th>\n",
       "      <th>Sex_1</th>\n",
       "    </tr>\n",
       "  </thead>\n",
       "  <tbody>\n",
       "    <tr>\n",
       "      <th>0</th>\n",
       "      <td>1</td>\n",
       "      <td>0.0</td>\n",
       "      <td>22.0</td>\n",
       "      <td>1</td>\n",
       "      <td>0</td>\n",
       "      <td>7.2500</td>\n",
       "      <td>NaN</td>\n",
       "      <td>0</td>\n",
       "      <td>0</td>\n",
       "      <td>1</td>\n",
       "      <td>...</td>\n",
       "      <td>0</td>\n",
       "      <td>0</td>\n",
       "      <td>0</td>\n",
       "      <td>0</td>\n",
       "      <td>0</td>\n",
       "      <td>0</td>\n",
       "      <td>0</td>\n",
       "      <td>1</td>\n",
       "      <td>0</td>\n",
       "      <td>1</td>\n",
       "    </tr>\n",
       "    <tr>\n",
       "      <th>1</th>\n",
       "      <td>2</td>\n",
       "      <td>1.0</td>\n",
       "      <td>38.0</td>\n",
       "      <td>1</td>\n",
       "      <td>0</td>\n",
       "      <td>71.2833</td>\n",
       "      <td>C85</td>\n",
       "      <td>0</td>\n",
       "      <td>1</td>\n",
       "      <td>0</td>\n",
       "      <td>...</td>\n",
       "      <td>0</td>\n",
       "      <td>0</td>\n",
       "      <td>0</td>\n",
       "      <td>0</td>\n",
       "      <td>0</td>\n",
       "      <td>1</td>\n",
       "      <td>0</td>\n",
       "      <td>0</td>\n",
       "      <td>1</td>\n",
       "      <td>0</td>\n",
       "    </tr>\n",
       "    <tr>\n",
       "      <th>2</th>\n",
       "      <td>3</td>\n",
       "      <td>1.0</td>\n",
       "      <td>26.0</td>\n",
       "      <td>0</td>\n",
       "      <td>0</td>\n",
       "      <td>7.9250</td>\n",
       "      <td>NaN</td>\n",
       "      <td>0</td>\n",
       "      <td>1</td>\n",
       "      <td>0</td>\n",
       "      <td>...</td>\n",
       "      <td>0</td>\n",
       "      <td>0</td>\n",
       "      <td>0</td>\n",
       "      <td>0</td>\n",
       "      <td>0</td>\n",
       "      <td>0</td>\n",
       "      <td>0</td>\n",
       "      <td>1</td>\n",
       "      <td>1</td>\n",
       "      <td>0</td>\n",
       "    </tr>\n",
       "    <tr>\n",
       "      <th>3</th>\n",
       "      <td>4</td>\n",
       "      <td>1.0</td>\n",
       "      <td>35.0</td>\n",
       "      <td>1</td>\n",
       "      <td>0</td>\n",
       "      <td>53.1000</td>\n",
       "      <td>C123</td>\n",
       "      <td>0</td>\n",
       "      <td>1</td>\n",
       "      <td>0</td>\n",
       "      <td>...</td>\n",
       "      <td>0</td>\n",
       "      <td>0</td>\n",
       "      <td>0</td>\n",
       "      <td>0</td>\n",
       "      <td>1</td>\n",
       "      <td>1</td>\n",
       "      <td>0</td>\n",
       "      <td>0</td>\n",
       "      <td>1</td>\n",
       "      <td>0</td>\n",
       "    </tr>\n",
       "    <tr>\n",
       "      <th>4</th>\n",
       "      <td>5</td>\n",
       "      <td>0.0</td>\n",
       "      <td>35.0</td>\n",
       "      <td>0</td>\n",
       "      <td>0</td>\n",
       "      <td>8.0500</td>\n",
       "      <td>NaN</td>\n",
       "      <td>0</td>\n",
       "      <td>0</td>\n",
       "      <td>1</td>\n",
       "      <td>...</td>\n",
       "      <td>0</td>\n",
       "      <td>0</td>\n",
       "      <td>0</td>\n",
       "      <td>0</td>\n",
       "      <td>1</td>\n",
       "      <td>0</td>\n",
       "      <td>0</td>\n",
       "      <td>1</td>\n",
       "      <td>0</td>\n",
       "      <td>1</td>\n",
       "    </tr>\n",
       "  </tbody>\n",
       "</table>\n",
       "<p>5 rows × 59 columns</p>\n",
       "</div>"
      ],
      "text/plain": [
       "   PassengerId  Survived   Age  SibSp  Parch     Fare Cabin  Title_0  Title_1  \\\n",
       "0            1       0.0  22.0      1      0   7.2500   NaN        0        0   \n",
       "1            2       1.0  38.0      1      0  71.2833   C85        0        1   \n",
       "2            3       1.0  26.0      0      0   7.9250   NaN        0        1   \n",
       "3            4       1.0  35.0      1      0  53.1000  C123        0        1   \n",
       "4            5       0.0  35.0      0      0   8.0500   NaN        0        0   \n",
       "\n",
       "   Title_2  ...  T_STONOQ  T_SWPP  T_WC  T_WEP  T_x  Pclass_1  Pclass_2  \\\n",
       "0        1  ...         0       0     0      0    0         0         0   \n",
       "1        0  ...         0       0     0      0    0         1         0   \n",
       "2        0  ...         0       0     0      0    0         0         0   \n",
       "3        0  ...         0       0     0      0    1         1         0   \n",
       "4        1  ...         0       0     0      0    1         0         0   \n",
       "\n",
       "   Pclass_3  Sex_0  Sex_1  \n",
       "0         1      0      1  \n",
       "1         0      1      0  \n",
       "2         1      1      0  \n",
       "3         0      1      0  \n",
       "4         1      0      1  \n",
       "\n",
       "[5 rows x 59 columns]"
      ]
     },
     "execution_count": 71,
     "metadata": {},
     "output_type": "execute_result"
    }
   ],
   "source": [
    "train_df[\"Sex\"] = train_df[\"Sex\"].astype(\"category\")\n",
    "train_df = pd.get_dummies(train_df, columns = [\"Sex\"])\n",
    "train_df.head()"
   ]
  },
  {
   "cell_type": "markdown",
   "id": "accepting-appearance",
   "metadata": {
    "papermill": {
     "duration": 0.130853,
     "end_time": "2021-06-05T21:29:22.381762",
     "exception": false,
     "start_time": "2021-06-05T21:29:22.250909",
     "status": "completed"
    },
    "tags": []
   },
   "source": [
    " <a id = \"28\"></a><br>\n",
    " ## Drop Passenger ID and Cabin"
   ]
  },
  {
   "cell_type": "code",
   "execution_count": 72,
   "id": "increased-history",
   "metadata": {
    "execution": {
     "iopub.execute_input": "2021-06-05T21:29:22.649608Z",
     "iopub.status.busy": "2021-06-05T21:29:22.648894Z",
     "iopub.status.idle": "2021-06-05T21:29:22.653630Z",
     "shell.execute_reply": "2021-06-05T21:29:22.653075Z",
     "shell.execute_reply.started": "2021-06-05T21:26:41.284081Z"
    },
    "papermill": {
     "duration": 0.140936,
     "end_time": "2021-06-05T21:29:22.653769",
     "exception": false,
     "start_time": "2021-06-05T21:29:22.512833",
     "status": "completed"
    },
    "tags": []
   },
   "outputs": [],
   "source": [
    "train_df.drop(labels = [\"PassengerId\", \"Cabin\"], axis = 1, inplace = True)"
   ]
  },
  {
   "cell_type": "code",
   "execution_count": 73,
   "id": "demanding-cardiff",
   "metadata": {
    "execution": {
     "iopub.execute_input": "2021-06-05T21:29:22.921892Z",
     "iopub.status.busy": "2021-06-05T21:29:22.920876Z",
     "iopub.status.idle": "2021-06-05T21:29:22.928261Z",
     "shell.execute_reply": "2021-06-05T21:29:22.927724Z",
     "shell.execute_reply.started": "2021-06-05T21:26:41.294102Z"
    },
    "papermill": {
     "duration": 0.14358,
     "end_time": "2021-06-05T21:29:22.928425",
     "exception": false,
     "start_time": "2021-06-05T21:29:22.784845",
     "status": "completed"
    },
    "tags": []
   },
   "outputs": [
    {
     "data": {
      "text/plain": [
       "Index(['Survived', 'Age', 'SibSp', 'Parch', 'Fare', 'Title_0', 'Title_1',\n",
       "       'Title_2', 'Title_3', 'Fsize', 'family_size_0', 'family_size_1',\n",
       "       'Embarked_C', 'Embarked_Q', 'Embarked_S', 'T_A', 'T_A4', 'T_A5',\n",
       "       'T_AQ3', 'T_AQ4', 'T_AS', 'T_C', 'T_CA', 'T_CASOTON', 'T_FC', 'T_FCC',\n",
       "       'T_Fa', 'T_LINE', 'T_LP', 'T_PC', 'T_PP', 'T_PPP', 'T_SC', 'T_SCA3',\n",
       "       'T_SCA4', 'T_SCAH', 'T_SCOW', 'T_SCPARIS', 'T_SCParis', 'T_SOC',\n",
       "       'T_SOP', 'T_SOPP', 'T_SOTONO2', 'T_SOTONOQ', 'T_SP', 'T_STONO',\n",
       "       'T_STONO2', 'T_STONOQ', 'T_SWPP', 'T_WC', 'T_WEP', 'T_x', 'Pclass_1',\n",
       "       'Pclass_2', 'Pclass_3', 'Sex_0', 'Sex_1'],\n",
       "      dtype='object')"
      ]
     },
     "execution_count": 73,
     "metadata": {},
     "output_type": "execute_result"
    }
   ],
   "source": [
    "train_df.columns"
   ]
  },
  {
   "cell_type": "markdown",
   "id": "union-favor",
   "metadata": {
    "papermill": {
     "duration": 0.132499,
     "end_time": "2021-06-05T21:29:23.196578",
     "exception": false,
     "start_time": "2021-06-05T21:29:23.064079",
     "status": "completed"
    },
    "tags": []
   },
   "source": [
    " <a id = \"29\"></a><br>\n",
    " # Modeling"
   ]
  },
  {
   "cell_type": "code",
   "execution_count": 74,
   "id": "preliminary-guest",
   "metadata": {
    "execution": {
     "iopub.execute_input": "2021-06-05T21:29:23.467691Z",
     "iopub.status.busy": "2021-06-05T21:29:23.466997Z",
     "iopub.status.idle": "2021-06-05T21:29:23.895607Z",
     "shell.execute_reply": "2021-06-05T21:29:23.896092Z",
     "shell.execute_reply.started": "2021-06-05T21:26:41.309479Z"
    },
    "papermill": {
     "duration": 0.56717,
     "end_time": "2021-06-05T21:29:23.896281",
     "exception": false,
     "start_time": "2021-06-05T21:29:23.329111",
     "status": "completed"
    },
    "tags": []
   },
   "outputs": [],
   "source": [
    "from sklearn.model_selection import train_test_split, StratifiedKFold, GridSearchCV\n",
    "from sklearn.linear_model import LogisticRegression\n",
    "from sklearn.svm import SVC\n",
    "from sklearn.ensemble import RandomForestClassifier, VotingClassifier\n",
    "from sklearn.neighbors import KNeighborsClassifier\n",
    "from sklearn.tree import DecisionTreeClassifier\n",
    "from sklearn.metrics import accuracy_score"
   ]
  },
  {
   "cell_type": "markdown",
   "id": "dimensional-algorithm",
   "metadata": {
    "papermill": {
     "duration": 0.132983,
     "end_time": "2021-06-05T21:29:24.163885",
     "exception": false,
     "start_time": "2021-06-05T21:29:24.030902",
     "status": "completed"
    },
    "tags": []
   },
   "source": [
    " <a id = \"30\"></a><br>\n",
    " ## Train - Test Split"
   ]
  },
  {
   "cell_type": "code",
   "execution_count": 75,
   "id": "limited-ethics",
   "metadata": {
    "execution": {
     "iopub.execute_input": "2021-06-05T21:29:24.428547Z",
     "iopub.status.busy": "2021-06-05T21:29:24.427859Z",
     "iopub.status.idle": "2021-06-05T21:29:24.433068Z",
     "shell.execute_reply": "2021-06-05T21:29:24.433533Z",
     "shell.execute_reply.started": "2021-06-05T21:26:41.422416Z"
    },
    "papermill": {
     "duration": 0.138959,
     "end_time": "2021-06-05T21:29:24.433711",
     "exception": false,
     "start_time": "2021-06-05T21:29:24.294752",
     "status": "completed"
    },
    "tags": []
   },
   "outputs": [
    {
     "data": {
      "text/plain": [
       "881"
      ]
     },
     "execution_count": 75,
     "metadata": {},
     "output_type": "execute_result"
    }
   ],
   "source": [
    "train_df_len"
   ]
  },
  {
   "cell_type": "code",
   "execution_count": 76,
   "id": "medium-salad",
   "metadata": {
    "execution": {
     "iopub.execute_input": "2021-06-05T21:29:24.700495Z",
     "iopub.status.busy": "2021-06-05T21:29:24.699835Z",
     "iopub.status.idle": "2021-06-05T21:29:24.705111Z",
     "shell.execute_reply": "2021-06-05T21:29:24.705608Z",
     "shell.execute_reply.started": "2021-06-05T21:26:41.431072Z"
    },
    "papermill": {
     "duration": 0.140355,
     "end_time": "2021-06-05T21:29:24.705775",
     "exception": false,
     "start_time": "2021-06-05T21:29:24.565420",
     "status": "completed"
    },
    "tags": []
   },
   "outputs": [],
   "source": [
    "test = train_df[train_df_len:]\n",
    "test.drop(labels = [\"Survived\"], axis = 1, inplace = True)"
   ]
  },
  {
   "cell_type": "code",
   "execution_count": 77,
   "id": "front-hostel",
   "metadata": {
    "execution": {
     "iopub.execute_input": "2021-06-05T21:29:25.019644Z",
     "iopub.status.busy": "2021-06-05T21:29:25.018944Z",
     "iopub.status.idle": "2021-06-05T21:29:25.031983Z",
     "shell.execute_reply": "2021-06-05T21:29:25.031189Z",
     "shell.execute_reply.started": "2021-06-05T21:26:41.446069Z"
    },
    "papermill": {
     "duration": 0.149746,
     "end_time": "2021-06-05T21:29:25.032178",
     "exception": false,
     "start_time": "2021-06-05T21:29:24.882432",
     "status": "completed"
    },
    "tags": []
   },
   "outputs": [
    {
     "name": "stdout",
     "output_type": "stream",
     "text": [
      "X_train 590\n",
      "X_test 291\n",
      "y_train 590\n",
      "y_test 291\n",
      "test 418\n"
     ]
    }
   ],
   "source": [
    "train = train_df[:train_df_len]\n",
    "X_train = train.drop(labels = [\"Survived\"], axis = 1)\n",
    "y_train = train[\"Survived\"]\n",
    "# now X_test and y_test means X_validation and y_validation\n",
    "X_train, X_test, y_train, y_test = train_test_split(X_train, y_train, test_size = 0.33, random_state = 42)\n",
    "print(\"X_train\", len(X_train))\n",
    "print(\"X_test\", len(X_test))\n",
    "print(\"y_train\", len(y_train))\n",
    "print(\"y_test\", len(y_test))\n",
    "print(\"test\", len(test))"
   ]
  },
  {
   "cell_type": "markdown",
   "id": "consecutive-validity",
   "metadata": {
    "papermill": {
     "duration": 0.134063,
     "end_time": "2021-06-05T21:29:25.300683",
     "exception": false,
     "start_time": "2021-06-05T21:29:25.166620",
     "status": "completed"
    },
    "tags": []
   },
   "source": [
    " <a id = \"31\"></a><br>\n",
    " ## Simple Logistic Regression"
   ]
  },
  {
   "cell_type": "code",
   "execution_count": 78,
   "id": "bearing-margin",
   "metadata": {
    "execution": {
     "iopub.execute_input": "2021-06-05T21:29:25.576155Z",
     "iopub.status.busy": "2021-06-05T21:29:25.575178Z",
     "iopub.status.idle": "2021-06-05T21:29:25.650964Z",
     "shell.execute_reply": "2021-06-05T21:29:25.652064Z",
     "shell.execute_reply.started": "2021-06-05T21:26:41.467456Z"
    },
    "papermill": {
     "duration": 0.220074,
     "end_time": "2021-06-05T21:29:25.652344",
     "exception": false,
     "start_time": "2021-06-05T21:29:25.432270",
     "status": "completed"
    },
    "tags": []
   },
   "outputs": [
    {
     "name": "stdout",
     "output_type": "stream",
     "text": [
      "Training Accuracy: % 82.71\n",
      "Testing Accuracy: % 81.1\n"
     ]
    }
   ],
   "source": [
    "logreg = LogisticRegression()\n",
    "logreg.fit(X_train, y_train)\n",
    "acc_log_train = round(logreg.score(X_train, y_train) * 100, 2)\n",
    "acc_log_test = round(logreg.score(X_test, y_test) * 100, 2)\n",
    "print(\"Training Accuracy: % {}\".format(acc_log_train))\n",
    "print(\"Testing Accuracy: % {}\".format(acc_log_test))"
   ]
  },
  {
   "cell_type": "markdown",
   "id": "useful-argentina",
   "metadata": {
    "papermill": {
     "duration": 0.132652,
     "end_time": "2021-06-05T21:29:25.965330",
     "exception": false,
     "start_time": "2021-06-05T21:29:25.832678",
     "status": "completed"
    },
    "tags": []
   },
   "source": [
    " <a id = \"32\"></a><br>\n",
    " ## Hyperparameter Tuning -- Grid Search -- Cross Validation\n",
    " * We will compare 5 ML classifier and evaluate mean accuracy of each of them by stratified cross validation\n",
    " * Decision Tree\n",
    " * SVM\n",
    " * Random Forest\n",
    " * KNN\n",
    " * Logistic Regression"
   ]
  },
  {
   "cell_type": "code",
   "execution_count": 79,
   "id": "bright-cabinet",
   "metadata": {
    "execution": {
     "iopub.execute_input": "2021-06-05T21:29:26.242103Z",
     "iopub.status.busy": "2021-06-05T21:29:26.241411Z",
     "iopub.status.idle": "2021-06-05T21:29:26.243740Z",
     "shell.execute_reply": "2021-06-05T21:29:26.244283Z",
     "shell.execute_reply.started": "2021-06-05T21:26:41.555567Z"
    },
    "papermill": {
     "duration": 0.146406,
     "end_time": "2021-06-05T21:29:26.244477",
     "exception": false,
     "start_time": "2021-06-05T21:29:26.098071",
     "status": "completed"
    },
    "tags": []
   },
   "outputs": [],
   "source": [
    "random_state = 42\n",
    "classifier = [DecisionTreeClassifier(random_state = random_state),\n",
    "             SVC(random_state = random_state),\n",
    "             RandomForestClassifier(random_state = random_state),\n",
    "             LogisticRegression(random_state = random_state),\n",
    "             KNeighborsClassifier()]\n",
    "\n",
    "dt_param_grid = {\"min_samples_split\" : range(10,500,20),\n",
    "                \"max_depth\": range(1,20,2)}\n",
    "\n",
    "svc_param_grid = {\"kernel\" : [\"rbf\"],\n",
    "                 \"gamma\": [0.001, 0.01, 0.1, 1],\n",
    "                 \"C\": [1,10,50,100,200,300,1000]}\n",
    "\n",
    "rf_param_grid = {\"max_features\": [1,3,10],\n",
    "                \"min_samples_split\":[2,3,10],\n",
    "                \"min_samples_leaf\":[1,3,10],\n",
    "                \"bootstrap\":[False],\n",
    "                \"n_estimators\":[100,300],\n",
    "                \"criterion\":[\"gini\"]}\n",
    "\n",
    "logreg_param_grid = {\"C\":np.logspace(-3,3,7),\n",
    "                    \"penalty\": [\"l1\",\"l2\"]}\n",
    "\n",
    "knn_param_grid = {\"n_neighbors\": np.linspace(1,19,10, dtype = int).tolist(),\n",
    "                 \"weights\": [\"uniform\",\"distance\"],\n",
    "                 \"metric\":[\"euclidean\",\"manhattan\"]}\n",
    "classifier_param = [dt_param_grid,\n",
    "                   svc_param_grid,\n",
    "                   rf_param_grid,\n",
    "                   logreg_param_grid,\n",
    "                   knn_param_grid]"
   ]
  },
  {
   "cell_type": "code",
   "execution_count": 80,
   "id": "technical-associate",
   "metadata": {
    "execution": {
     "iopub.execute_input": "2021-06-05T21:29:26.511456Z",
     "iopub.status.busy": "2021-06-05T21:29:26.510792Z",
     "iopub.status.idle": "2021-06-05T21:30:57.263162Z",
     "shell.execute_reply": "2021-06-05T21:30:57.262644Z",
     "shell.execute_reply.started": "2021-06-05T21:26:41.584130Z"
    },
    "papermill": {
     "duration": 90.8869,
     "end_time": "2021-06-05T21:30:57.263326",
     "exception": false,
     "start_time": "2021-06-05T21:29:26.376426",
     "status": "completed"
    },
    "tags": []
   },
   "outputs": [
    {
     "name": "stdout",
     "output_type": "stream",
     "text": [
      "Fitting 10 folds for each of 250 candidates, totalling 2500 fits\n",
      "0.8355932203389831\n",
      "Fitting 10 folds for each of 28 candidates, totalling 280 fits\n",
      "0.7983050847457627\n",
      "Fitting 10 folds for each of 54 candidates, totalling 540 fits\n",
      "0.840677966101695\n",
      "Fitting 10 folds for each of 14 candidates, totalling 140 fits\n",
      "0.8203389830508474\n",
      "Fitting 10 folds for each of 40 candidates, totalling 400 fits\n",
      "0.7779661016949152\n"
     ]
    }
   ],
   "source": [
    "cv_result = []\n",
    "best_estimators = []\n",
    "for i in range(len(classifier)):\n",
    "    clf = GridSearchCV(classifier[i], param_grid=classifier_param[i], cv = StratifiedKFold(n_splits = 10), scoring = \"accuracy\", n_jobs = -1,verbose = 1)\n",
    "    clf.fit(X_train,y_train)\n",
    "    cv_result.append(clf.best_score_)\n",
    "    best_estimators.append(clf.best_estimator_)\n",
    "    print(cv_result[i])"
   ]
  },
  {
   "cell_type": "code",
   "execution_count": 81,
   "id": "found-favor",
   "metadata": {
    "execution": {
     "iopub.execute_input": "2021-06-05T21:30:57.566340Z",
     "iopub.status.busy": "2021-06-05T21:30:57.565684Z",
     "iopub.status.idle": "2021-06-05T21:30:57.715390Z",
     "shell.execute_reply": "2021-06-05T21:30:57.714801Z",
     "shell.execute_reply.started": "2021-06-05T21:28:13.981465Z"
    },
    "papermill": {
     "duration": 0.317535,
     "end_time": "2021-06-05T21:30:57.715532",
     "exception": false,
     "start_time": "2021-06-05T21:30:57.397997",
     "status": "completed"
    },
    "tags": []
   },
   "outputs": [
    {
     "data": {
      "image/png": "[encoded data removed]",
      "text/plain": [
       "<Figure size 432x288 with 1 Axes>"
      ]
     },
     "metadata": {},
     "output_type": "display_data"
    }
   ],
   "source": [
    "cv_results = pd.DataFrame({\"Cross Validation Means\":cv_result, \"ML Models\":[\"DecisionTreeClassifier\",\n",
    "                                                                            \"SVM\",\n",
    "                                                                            \"RandomForestClassifier\",\n",
    "                                                                            \"LogisticRegression\",\n",
    "                                                                            \"KNeighborsClassifier\"]})\n",
    "\n",
    "g = sns.barplot(\"Cross Validation Means\", \"ML Models\", data = cv_results)\n",
    "g.set_xlabel(\"Mean Accuracy\")\n",
    "g.set_title(\"Cross Validation Scores\")\n",
    "plt.show()"
   ]
  },
  {
   "cell_type": "markdown",
   "id": "alien-parks",
   "metadata": {
    "papermill": {
     "duration": 0.135485,
     "end_time": "2021-06-05T21:30:57.989011",
     "exception": false,
     "start_time": "2021-06-05T21:30:57.853526",
     "status": "completed"
    },
    "tags": []
   },
   "source": [
    " <a id = \"33\"></a><br>\n",
    "## Ensemble Modeling"
   ]
  },
  {
   "cell_type": "code",
   "execution_count": 82,
   "id": "powerful-african",
   "metadata": {
    "execution": {
     "iopub.execute_input": "2021-06-05T21:30:58.269251Z",
     "iopub.status.busy": "2021-06-05T21:30:58.268594Z",
     "iopub.status.idle": "2021-06-05T21:30:59.006973Z",
     "shell.execute_reply": "2021-06-05T21:30:59.007816Z",
     "shell.execute_reply.started": "2021-06-05T21:28:14.165848Z"
    },
    "papermill": {
     "duration": 0.882114,
     "end_time": "2021-06-05T21:30:59.008165",
     "exception": false,
     "start_time": "2021-06-05T21:30:58.126051",
     "status": "completed"
    },
    "tags": []
   },
   "outputs": [
    {
     "name": "stdout",
     "output_type": "stream",
     "text": [
      "0.8213058419243986\n"
     ]
    }
   ],
   "source": [
    "votingC = VotingClassifier(estimators = [(\"dt\",best_estimators[0]),\n",
    "                                        (\"rfc\",best_estimators[2]),\n",
    "                                        (\"lr\",best_estimators[3])],\n",
    "                                        voting = \"soft\", n_jobs = -1)\n",
    "votingC = votingC.fit(X_train, y_train)\n",
    "print(accuracy_score(votingC.predict(X_test),y_test))"
   ]
  },
  {
   "cell_type": "raw",
   "id": "allied-chancellor",
   "metadata": {
    "papermill": {
     "duration": 0.1378,
     "end_time": "2021-06-05T21:30:59.329023",
     "exception": false,
     "start_time": "2021-06-05T21:30:59.191223",
     "status": "completed"
    },
    "tags": []
   },
   "source": [
    "<a id = \"34\"></a><br>\n",
    "## Prediction and Submission"
   ]
  },
  {
   "cell_type": "code",
   "execution_count": 83,
   "id": "apparent-access",
   "metadata": {
    "execution": {
     "iopub.execute_input": "2021-06-05T21:30:59.613806Z",
     "iopub.status.busy": "2021-06-05T21:30:59.612766Z",
     "iopub.status.idle": "2021-06-05T21:30:59.678275Z",
     "shell.execute_reply": "2021-06-05T21:30:59.679152Z",
     "shell.execute_reply.started": "2021-06-05T21:28:14.885405Z"
    },
    "papermill": {
     "duration": 0.213778,
     "end_time": "2021-06-05T21:30:59.679467",
     "exception": false,
     "start_time": "2021-06-05T21:30:59.465689",
     "status": "completed"
    },
    "tags": []
   },
   "outputs": [],
   "source": [
    "test_survived = pd.Series(votingC.predict(test), name = \"Survived\").astype(int)\n",
    "results = pd.concat([test_PassengerId, test_survived],axis = 1)\n",
    "results.to_csv(\"titanic.csv\", index = False)"
   ]
  },
  {
   "cell_type": "code",
   "execution_count": 84,
   "id": "naughty-slide",
   "metadata": {
    "execution": {
     "iopub.execute_input": "2021-06-05T21:31:00.004872Z",
     "iopub.status.busy": "2021-06-05T21:31:00.003903Z",
     "iopub.status.idle": "2021-06-05T21:31:00.007495Z",
     "shell.execute_reply": "2021-06-05T21:31:00.008015Z",
     "shell.execute_reply.started": "2021-06-05T21:28:15.005839Z"
    },
    "papermill": {
     "duration": 0.147131,
     "end_time": "2021-06-05T21:31:00.008193",
     "exception": false,
     "start_time": "2021-06-05T21:30:59.861062",
     "status": "completed"
    },
    "tags": []
   },
   "outputs": [
    {
     "data": {
      "text/plain": [
       "0      0\n",
       "1      0\n",
       "2      0\n",
       "3      0\n",
       "4      1\n",
       "      ..\n",
       "413    0\n",
       "414    1\n",
       "415    0\n",
       "416    0\n",
       "417    1\n",
       "Name: Survived, Length: 418, dtype: int64"
      ]
     },
     "execution_count": 84,
     "metadata": {},
     "output_type": "execute_result"
    }
   ],
   "source": [
    "test_survived\n"
   ]
  }
 ],
 "metadata": {
  "kernelspec": {
   "display_name": "Python 3",
   "language": "python",
   "name": "python3"
  },
  "language_info": {
   "codemirror_mode": {
    "name": "ipython",
    "version": 3
   },
   "file_extension": ".py",
   "mimetype": "text/x-python",
   "name": "python",
   "nbconvert_exporter": "python",
   "pygments_lexer": "ipython3",
   "version": "3.7.10"
  },
  "papermill": {
   "default_parameters": {},
   "duration": 147.051324,
   "end_time": "2021-06-05T21:31:00.956200",
   "environment_variables": {},
   "exception": null,
   "input_path": "__notebook__.ipynb",
   "output_path": "__notebook__.ipynb",
   "parameters": {},
   "start_time": "2021-06-05T21:28:33.904876",
   "version": "2.3.3"
  }
 },
 "nbformat": 4,
 "nbformat_minor": 5
}
